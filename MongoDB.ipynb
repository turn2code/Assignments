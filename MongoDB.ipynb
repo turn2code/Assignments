{
  "nbformat": 4,
  "nbformat_minor": 0,
  "metadata": {
    "colab": {
      "provenance": []
    },
    "kernelspec": {
      "name": "python3",
      "display_name": "Python 3"
    },
    "language_info": {
      "name": "python"
    }
  },
  "cells": [
    {
      "cell_type": "markdown",
      "source": [
        "1. Key Differences Between SQL and NoSQL Databases\n",
        "Feature\tSQL (Relational)\tNoSQL (MongoDB)\n",
        "Structure\tTables with rows & columns\tCollections with documents\n",
        "Schema\tFixed schema\tDynamic schema\n",
        "Scalability\tVertical (scale-up)\tHorizontal (scale-out)\n",
        "Query Language\tSQL (Structured Query Language)\tJSON-like queries\n",
        "Use Case\tStructured, transactional data\tUnstructured, semi-structured data\n"
      ],
      "metadata": {
        "id": "ZoIFWo_q4tBP"
      }
    },
    {
      "cell_type": "markdown",
      "source": [
        "2. What Makes MongoDB a Good Choice for Modern Applications?\n",
        "Flexible Schema: No predefined structure needed.\n",
        "Scalability: Supports horizontal scaling via sharding.\n",
        "High Availability: Uses replication for failover protection.\n",
        "Performance: Optimized for read/write operations.\n",
        "JSON-like Documents: Ideal for applications using JavaScript & modern APIs."
      ],
      "metadata": {
        "id": "MyvYEH1T4vUw"
      }
    },
    {
      "cell_type": "markdown",
      "source": [
        "3. Concept of Collections in MongoDB\n",
        "Collections are equivalent to tables in SQL databases.\n",
        "They contain documents (JSON-like objects).\n",
        "Collections are schema-less, meaning documents can have different fields.\n"
      ],
      "metadata": {
        "id": "tKEEZ3TO4yS0"
      }
    },
    {
      "cell_type": "markdown",
      "source": [
        "4. High Availability Using Replication\n",
        "MongoDB achieves high availability through replica sets, which consist of:\n",
        "\n",
        "Primary Node – Handles read & write operations.\n",
        "Secondary Nodes – Maintain copies of data and take over if the primary fails.\n",
        "Arbiter Node (Optional) – Helps in leader election but does not store data."
      ],
      "metadata": {
        "id": "vClk5XNX42eC"
      }
    },
    {
      "cell_type": "markdown",
      "source": [
        "5. Benefits of MongoDB Atlas\n",
        "MongoDB Atlas is a fully managed cloud database service offering:\n",
        "\n",
        "Automated backups & monitoring\n",
        "Global distribution\n",
        "Built-in security features\n",
        "Auto-scaling & performance optimization"
      ],
      "metadata": {
        "id": "QybOp4Sw45Ij"
      }
    },
    {
      "cell_type": "markdown",
      "source": [
        "6. Role of Indexes in MongoDB & Performance Improvement\n",
        "Indexes help speed up query performance by reducing the amount of data scanned.\n",
        "\n",
        "Types of Indexes:\n",
        "Single-field Indexes\n",
        "Compound Indexes\n",
        "Multikey Indexes (for arrays)\n",
        "Text & Geospatial Indexes"
      ],
      "metadata": {
        "id": "Swp2amRU47eH"
      }
    },
    {
      "cell_type": "markdown",
      "source": [
        "7. Stages of MongoDB Aggregation Pipeline\n",
        "A data processing pipeline with stages like:\n",
        "\n",
        "$match – Filters documents (like SQL’s WHERE).\n",
        "$group – Groups documents (like GROUP BY).\n",
        "$sort – Orders results.\n",
        "$project – Reshapes the output.\n",
        "$lookup – Joins data from different collections."
      ],
      "metadata": {
        "id": "7j-DOQT349gv"
      }
    },
    {
      "cell_type": "markdown",
      "source": [
        "8. Sharding vs. Replication\n",
        "Feature\tReplication\tSharding\n",
        "Purpose\tHigh availability & failover\tDistributes data across servers\n",
        "Data Storage\tEach node has a full copy of data\tData is split into \"shards\"\n",
        "Scalability\tVertical scaling\tHorizontal scaling"
      ],
      "metadata": {
        "id": "JfVDSLPF4_8e"
      }
    },
    {
      "cell_type": "markdown",
      "source": [
        "9. What is PyMongo & Why is it Used?\n",
        "PyMongo is the official Python driver for MongoDB.\n",
        "\n",
        "Allows Python applications to interact with MongoDB.\n",
        "Supports CRUD operations and aggregation queries.\n"
      ],
      "metadata": {
        "id": "qCklEOqm5DFV"
      }
    },
    {
      "cell_type": "markdown",
      "source": [
        "10. ACID Properties in MongoDB Transactions\n",
        "Atomicity – Ensures transactions are fully completed or rolled back.\n",
        "Consistency – Maintains valid database state.\n",
        "Isolation – Transactions execute independently.\n",
        "Durability – Ensures committed data is saved permanently.\n"
      ],
      "metadata": {
        "id": "bTcE4TqQ5FV6"
      }
    },
    {
      "cell_type": "markdown",
      "source": [
        "11. Purpose of MongoDB’s explain() Function\n",
        "Provides query execution plans.\n",
        "Helps optimize queries by analyzing indexes and performance."
      ],
      "metadata": {
        "id": "XeG4fgDI5Ha_"
      }
    },
    {
      "cell_type": "markdown",
      "source": [
        "12. How MongoDB Handles Schema Validation\n",
        "Uses JSON Schema validation to enforce rules on documents.\n",
        "Schema can be set at the collection level.\n"
      ],
      "metadata": {
        "id": "Iq1ZZtLK5JqQ"
      }
    },
    {
      "cell_type": "markdown",
      "source": [
        "\n",
        "Got it! Here’s a structured breakdown of your MongoDB-related questions:\n",
        "\n",
        "1. Key Differences Between SQL and NoSQL Databases\n",
        "Feature\tSQL (Relational)\tNoSQL (MongoDB)\n",
        "Structure\tTables with rows & columns\tCollections with documents\n",
        "Schema\tFixed schema\tDynamic schema\n",
        "Scalability\tVertical (scale-up)\tHorizontal (scale-out)\n",
        "Query Language\tSQL (Structured Query Language)\tJSON-like queries\n",
        "Use Case\tStructured, transactional data\tUnstructured, semi-structured data\n",
        "2. What Makes MongoDB a Good Choice for Modern Applications?\n",
        "Flexible Schema: No predefined structure needed.\n",
        "Scalability: Supports horizontal scaling via sharding.\n",
        "High Availability: Uses replication for failover protection.\n",
        "Performance: Optimized for read/write operations.\n",
        "JSON-like Documents: Ideal for applications using JavaScript & modern APIs.\n",
        "3. Concept of Collections in MongoDB\n",
        "Collections are equivalent to tables in SQL databases.\n",
        "They contain documents (JSON-like objects).\n",
        "Collections are schema-less, meaning documents can have different fields.\n",
        "4. High Availability Using Replication\n",
        "MongoDB achieves high availability through replica sets, which consist of:\n",
        "\n",
        "Primary Node – Handles read & write operations.\n",
        "Secondary Nodes – Maintain copies of data and take over if the primary fails.\n",
        "Arbiter Node (Optional) – Helps in leader election but does not store data.\n",
        "5. Benefits of MongoDB Atlas\n",
        "MongoDB Atlas is a fully managed cloud database service offering:\n",
        "\n",
        "Automated backups & monitoring\n",
        "Global distribution\n",
        "Built-in security features\n",
        "Auto-scaling & performance optimization\n",
        "6. Role of Indexes in MongoDB & Performance Improvement\n",
        "Indexes help speed up query performance by reducing the amount of data scanned.\n",
        "\n",
        "Types of Indexes:\n",
        "Single-field Indexes\n",
        "Compound Indexes\n",
        "Multikey Indexes (for arrays)\n",
        "Text & Geospatial Indexes\n",
        "7. Stages of MongoDB Aggregation Pipeline\n",
        "A data processing pipeline with stages like:\n",
        "\n",
        "$match – Filters documents (like SQL’s WHERE).\n",
        "$group – Groups documents (like GROUP BY).\n",
        "$sort – Orders results.\n",
        "$project – Reshapes the output.\n",
        "$lookup – Joins data from different collections.\n",
        "8. Sharding vs. Replication\n",
        "Feature\tReplication\tSharding\n",
        "Purpose\tHigh availability & failover\tDistributes data across servers\n",
        "Data Storage\tEach node has a full copy of data\tData is split into \"shards\"\n",
        "Scalability\tVertical scaling\tHorizontal scaling\n",
        "9. What is PyMongo & Why is it Used?\n",
        "PyMongo is the official Python driver for MongoDB.\n",
        "\n",
        "Allows Python applications to interact with MongoDB.\n",
        "Supports CRUD operations and aggregation queries.\n",
        "10. ACID Properties in MongoDB Transactions\n",
        "Atomicity – Ensures transactions are fully completed or rolled back.\n",
        "Consistency – Maintains valid database state.\n",
        "Isolation – Transactions execute independently.\n",
        "Durability – Ensures committed data is saved permanently.\n",
        "11. Purpose of MongoDB’s explain() Function\n",
        "Provides query execution plans.\n",
        "Helps optimize queries by analyzing indexes and performance.\n",
        "12. How MongoDB Handles Schema Validation\n",
        "Uses JSON Schema validation to enforce rules on documents.\n",
        "Schema can be set at the collection level.\n",
        "13. Primary vs. Secondary Nodes in Replica Sets\n",
        "Feature\tPrimary Node\tSecondary Node\n",
        "Reads/Writes\tHandles both\tRead-only by default\n",
        "Failover\tMain node\tTakes over if primary fails\n",
        "Data Sync\tNo syncing needed\tReplicates from primary\n"
      ],
      "metadata": {
        "id": "vbiKL6nJ5MSY"
      }
    },
    {
      "cell_type": "markdown",
      "source": [
        "14. Security Mechanisms in MongoDB\n",
        "Authentication & Authorization (role-based access control).\n",
        "Encryption (TLS/SSL for data in transit, AES for data at rest).\n",
        "Auditing & Access Control Lists (ACLs)."
      ],
      "metadata": {
        "id": "Z7vLUcVa5PCa"
      }
    },
    {
      "cell_type": "markdown",
      "source": [
        "15. Concept of Embedded Documents & When to Use Them\n",
        "Nested JSON objects stored inside a document.\n",
        "Ideal when data is frequently accessed together.\n",
        "Example: Storing user profile & address in the same document."
      ],
      "metadata": {
        "id": "OShzoGZ75Rbn"
      }
    },
    {
      "cell_type": "markdown",
      "source": [
        "16. Purpose of $lookup in Aggregation\n",
        "Performs a left outer join between collections.\n",
        "Similar to JOIN in SQL databases.\n"
      ],
      "metadata": {
        "id": "sEgVRhpn5TuD"
      }
    },
    {
      "cell_type": "markdown",
      "source": [
        "\n",
        "Got it! Here’s a structured breakdown of your MongoDB-related questions:\n",
        "\n",
        "1. Key Differences Between SQL and NoSQL Databases\n",
        "Feature\tSQL (Relational)\tNoSQL (MongoDB)\n",
        "Structure\tTables with rows & columns\tCollections with documents\n",
        "Schema\tFixed schema\tDynamic schema\n",
        "Scalability\tVertical (scale-up)\tHorizontal (scale-out)\n",
        "Query Language\tSQL (Structured Query Language)\tJSON-like queries\n",
        "Use Case\tStructured, transactional data\tUnstructured, semi-structured data\n",
        "2. What Makes MongoDB a Good Choice for Modern Applications?\n",
        "Flexible Schema: No predefined structure needed.\n",
        "Scalability: Supports horizontal scaling via sharding.\n",
        "High Availability: Uses replication for failover protection.\n",
        "Performance: Optimized for read/write operations.\n",
        "JSON-like Documents: Ideal for applications using JavaScript & modern APIs.\n",
        "3. Concept of Collections in MongoDB\n",
        "Collections are equivalent to tables in SQL databases.\n",
        "They contain documents (JSON-like objects).\n",
        "Collections are schema-less, meaning documents can have different fields.\n",
        "4. High Availability Using Replication\n",
        "MongoDB achieves high availability through replica sets, which consist of:\n",
        "\n",
        "Primary Node – Handles read & write operations.\n",
        "Secondary Nodes – Maintain copies of data and take over if the primary fails.\n",
        "Arbiter Node (Optional) – Helps in leader election but does not store data.\n",
        "5. Benefits of MongoDB Atlas\n",
        "MongoDB Atlas is a fully managed cloud database service offering:\n",
        "\n",
        "Automated backups & monitoring\n",
        "Global distribution\n",
        "Built-in security features\n",
        "Auto-scaling & performance optimization\n",
        "6. Role of Indexes in MongoDB & Performance Improvement\n",
        "Indexes help speed up query performance by reducing the amount of data scanned.\n",
        "\n",
        "Types of Indexes:\n",
        "Single-field Indexes\n",
        "Compound Indexes\n",
        "Multikey Indexes (for arrays)\n",
        "Text & Geospatial Indexes\n",
        "7. Stages of MongoDB Aggregation Pipeline\n",
        "A data processing pipeline with stages like:\n",
        "\n",
        "$match – Filters documents (like SQL’s WHERE).\n",
        "$group – Groups documents (like GROUP BY).\n",
        "$sort – Orders results.\n",
        "$project – Reshapes the output.\n",
        "$lookup – Joins data from different collections.\n",
        "8. Sharding vs. Replication\n",
        "Feature\tReplication\tSharding\n",
        "Purpose\tHigh availability & failover\tDistributes data across servers\n",
        "Data Storage\tEach node has a full copy of data\tData is split into \"shards\"\n",
        "Scalability\tVertical scaling\tHorizontal scaling\n",
        "9. What is PyMongo & Why is it Used?\n",
        "PyMongo is the official Python driver for MongoDB.\n",
        "\n",
        "Allows Python applications to interact with MongoDB.\n",
        "Supports CRUD operations and aggregation queries.\n",
        "10. ACID Properties in MongoDB Transactions\n",
        "Atomicity – Ensures transactions are fully completed or rolled back.\n",
        "Consistency – Maintains valid database state.\n",
        "Isolation – Transactions execute independently.\n",
        "Durability – Ensures committed data is saved permanently.\n",
        "11. Purpose of MongoDB’s explain() Function\n",
        "Provides query execution plans.\n",
        "Helps optimize queries by analyzing indexes and performance.\n",
        "12. How MongoDB Handles Schema Validation\n",
        "Uses JSON Schema validation to enforce rules on documents.\n",
        "Schema can be set at the collection level.\n",
        "13. Primary vs. Secondary Nodes in Replica Sets\n",
        "Feature\tPrimary Node\tSecondary Node\n",
        "Reads/Writes\tHandles both\tRead-only by default\n",
        "Failover\tMain node\tTakes over if primary fails\n",
        "Data Sync\tNo syncing needed\tReplicates from primary\n",
        "14. Security Mechanisms in MongoDB\n",
        "Authentication & Authorization (role-based access control).\n",
        "Encryption (TLS/SSL for data in transit, AES for data at rest).\n",
        "Auditing & Access Control Lists (ACLs).\n",
        "15. Concept of Embedded Documents & When to Use Them\n",
        "Nested JSON objects stored inside a document.\n",
        "Ideal when data is frequently accessed together.\n",
        "Example: Storing user profile & address in the same document.\n",
        "16. Purpose of $lookup in Aggregation\n",
        "Performs a left outer join between collections.\n",
        "Similar to JOIN in SQL databases.\n",
        "17. Common Use Cases for MongoDB\n",
        "Real-time Analytics (log processing).\n",
        "E-commerce Platforms (product catalogs).\n",
        "Content Management Systems (CMS).\n",
        "IoT Applications (sensor data storage)."
      ],
      "metadata": {
        "id": "ArbFAkqx5Vw6"
      }
    },
    {
      "cell_type": "markdown",
      "source": [
        "18. Advantages of MongoDB for Horizontal Scaling\n",
        "Uses sharding to distribute data across servers.\n",
        "Enables handling of large-scale data & high traffic.\n"
      ],
      "metadata": {
        "id": "QkWn3XjI5YKQ"
      }
    },
    {
      "cell_type": "markdown",
      "source": [
        "19. MongoDB vs. SQL Transactions\n",
        "Feature\tSQL Transactions\tMongoDB Transactions\n",
        "ACID Support\tStrong\tSupported in version 4.0+\n",
        "Multi-document Transactions\tDefault\tNeeds explicit use\n",
        "Performance\tCan be slow\tOptimized for distributed systems"
      ],
      "metadata": {
        "id": "nZkayDVU5ajO"
      }
    },
    {
      "cell_type": "markdown",
      "source": [
        "20. Capped Collections vs. Regular Collections\n",
        "Feature\tCapped Collection\tRegular Collection\n",
        "Size Limit\tFixed size\tNo limit\n",
        "Insertion Order\tPreserved\tNot guaranteed\n",
        "Use Case\tLogging, caching\tGeneral data storage"
      ],
      "metadata": {
        "id": "NixAajGD5fHf"
      }
    },
    {
      "cell_type": "markdown",
      "source": [
        "21. Purpose of $match in Aggregation Pipeline\n",
        "Filters documents based on conditions.\n",
        "Works like WHERE in SQL.\n"
      ],
      "metadata": {
        "id": "Ot1jvxSf5hSh"
      }
    },
    {
      "cell_type": "markdown",
      "source": [
        "22. Securing Access to MongoDB\n",
        "Enable authentication & role-based access control.\n",
        "Use TLS/SSL encryption.\n",
        "Restrict network access (firewalls, IP whitelisting)."
      ],
      "metadata": {
        "id": "O3GtO6hG5iDa"
      }
    },
    {
      "cell_type": "markdown",
      "source": [
        "23. What is MongoDB’s WiredTiger Storage Engine & Why is it Important?\n",
        "Default storage engine in MongoDB.\n",
        "Uses multi-threading for performance.\n",
        "Supports compression & checkpointing for efficiency."
      ],
      "metadata": {
        "id": "lGGXGdFl5kEZ"
      }
    },
    {
      "cell_type": "markdown",
      "source": [
        "Practical Questions\n",
        "Write a Python script to load the Superstore dataset from a CSV file into MongoDB"
      ],
      "metadata": {
        "id": "61f4kWb55mTA"
      }
    },
    {
      "cell_type": "code",
      "source": [
        "import pymongo\n",
        "import pandas as pd\n",
        "\n",
        "# Load CSV file\n",
        "csv_file = '/mnt/data/superstore.csv'\n",
        "df = pd.read_csv(csv_file)\n",
        "\n",
        "# Connect to MongoDB\n",
        "client = pymongo.MongoClient(\"mongodb://localhost:27017/\")\n",
        "db = client[\"SuperstoreDB\"]\n",
        "orders_collection = db[\"Orders\"]\n",
        "\n",
        "# Insert data into MongoDB\n",
        "orders_collection.delete_many({})  # Clear existing data\n",
        "orders_collection.insert_many(df.to_dict(orient=\"records\"))\n",
        "\n"
      ],
      "metadata": {
        "id": "wIfHSthm6nc6"
      },
      "execution_count": null,
      "outputs": []
    },
    {
      "cell_type": "markdown",
      "source": [
        "Retrieve and print all documents from the Orders collection."
      ],
      "metadata": {
        "id": "nKJWXgqf6qPu"
      }
    },
    {
      "cell_type": "code",
      "source": [
        "# Retrieve and print all documents from Orders collection\n",
        "for order in orders_collection.find():\n",
        "    print(order)"
      ],
      "metadata": {
        "id": "UbLYhRx06uPC"
      },
      "execution_count": null,
      "outputs": []
    },
    {
      "cell_type": "markdown",
      "source": [
        "Count and display the total number of documents in the Orders collection\n",
        "Write a query to fetch all orders from the \"West\" region<\n",
        "Write a query to find orders where Sales is greater than 500<\n",
        " Fetch the top 3 orders with the highest Profit<\n",
        " Update all orders with Ship Mode as \"First Class\" to \"Premium Class.O\n",
        " Delete all orders where Sales is less than 50<\n",
        " Use aggregation to group orders by Region and calculate total sales per region<\n",
        " Fetch all distinct values for Ship Mode from the collection<\n",
        " Count the number of orders for each category."
      ],
      "metadata": {
        "id": "UlVqDGM66m6D"
      }
    },
    {
      "cell_type": "code",
      "execution_count": null,
      "metadata": {
        "id": "NM8tK-hl4sN7"
      },
      "outputs": [],
      "source": [
        "# Count total number of documents in Orders collection\n",
        "total_orders = orders_collection.count_documents({})\n",
        "print(f\"Total Orders: {total_orders}\")\n",
        "\n",
        "# Fetch all orders from the \"West\" region\n",
        "west_orders = orders_collection.find({\"Region\": \"West\"})\n",
        "print(\"Orders from West region:\")\n",
        "for order in west_orders:\n",
        "    print(order)\n",
        "\n",
        "# Find orders where Sales is greater than 500\n",
        "high_sales_orders = orders_collection.find({\"Sales\": {\"$gt\": 500}})\n",
        "print(\"Orders with Sales > 500:\")\n",
        "for order in high_sales_orders:\n",
        "    print(order)\n",
        "\n",
        "# Fetch top 3 orders with highest Profit\n",
        "top_profit_orders = orders_collection.find().sort(\"Profit\", pymongo.DESCENDING).limit(3)\n",
        "print(\"Top 3 profitable orders:\")\n",
        "for order in top_profit_orders:\n",
        "    print(order)\n",
        "\n",
        "# Update all orders with Ship Mode \"First Class\" to \"Premium Class\"\n",
        "orders_collection.update_many({\"Ship Mode\": \"First Class\"}, {\"$set\": {\"Ship Mode\": \"Premium Class\"}})\n",
        "\n",
        "# Delete all orders where Sales is less than 50\n",
        "orders_collection.delete_many({\"Sales\": {\"$lt\": 50}})\n",
        "\n",
        "# Use aggregation to group orders by Region and calculate total sales\n",
        "region_sales = orders_collection.aggregate([\n",
        "    {\"$group\": {\"_id\": \"$Region\", \"Total Sales\": {\"$sum\": \"$Sales\"}}}\n",
        "])\n",
        "print(\"Total Sales per Region:\")\n",
        "for region in region_sales:\n",
        "    print(region)\n",
        "\n",
        "# Fetch all distinct values for Ship Mode\n",
        "distinct_ship_modes = orders_collection.distinct(\"Ship Mode\")\n",
        "print(\"Distinct Ship Modes:\", distinct_ship_modes)\n",
        "\n",
        "# Count the number of orders for each category\n",
        "category_orders = orders_collection.aggregate([\n",
        "    {\"$group\": {\"_id\": \"$Category\", \"Total Orders\": {\"$sum\": 1}}}\n",
        "])\n",
        "print(\"Total Orders per Category:\")\n",
        "for category in category_orders:\n",
        "    print(category)\n",
        "\n",
        "# Close the connection\n",
        "client.close()\n"
      ]
    }
  ]
}