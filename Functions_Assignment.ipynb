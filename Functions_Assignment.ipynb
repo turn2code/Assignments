{
  "nbformat": 4,
  "nbformat_minor": 0,
  "metadata": {
    "colab": {
      "provenance": []
    },
    "kernelspec": {
      "name": "python3",
      "display_name": "Python 3"
    },
    "language_info": {
      "name": "python"
    }
  },
  "cells": [
    {
      "cell_type": "markdown",
      "source": [
        "Theory Questions:\n",
        "Q1. What is the difference between a function and a method in Python?\n",
        "Ans.  key differences between Method and Function in Python are explained. Python has both concept of Method and Function.\n",
        "\n",
        "Python Method\n",
        "\n",
        "Method is called by its name, but it is associated to an object (dependent).\n",
        "A method definition always includes ‘self’ as its first parameter.\n",
        "A method is implicitly passed to the object on which it is invoked.\n",
        "It may or may not return any data.\n",
        "A method can operate on the data (instance variables) that is contained by the corresponding class\n",
        "Basic Method Structure in Python :"
      ],
      "metadata": {
        "id": "4UfpKrDvDmno"
      }
    },
    {
      "cell_type": "code",
      "source": [
        "# Basic Python method\n",
        "class class_name\n",
        "\tdef method_name () :\n",
        "\t\t......\n",
        "\t\t# method body\n",
        "\t\t......\n"
      ],
      "metadata": {
        "id": "Fy3X__FxvWc5"
      },
      "execution_count": null,
      "outputs": []
    },
    {
      "cell_type": "code",
      "source": [
        "# Python 3  User-Defined  Method\n",
        "class ABC :\n",
        "    def method_abc (self):\n",
        "        print(\"I am in method_abc of ABC class. \")\n",
        "\n",
        "class_ref = ABC() # object of ABC class\n",
        "class_ref.method_abc()"
      ],
      "metadata": {
        "id": "wij-xUM2vkyb"
      },
      "execution_count": null,
      "outputs": []
    },
    {
      "cell_type": "markdown",
      "source": [
        "Functions\n",
        "\n",
        "Function is block of code that is also called by its name. (independent)\n",
        "The function can have different parameters or may not have any at all. If any data (parameters) are passed, they are passed explicitly.\n",
        "It may or may not return any data.\n",
        "Function does not deal with Class and its instance concept.\n",
        "Basic Function Structure in Python :\n",
        "\n",
        "\n",
        "\n",
        "\n",
        "def function_name ( arg1, arg2, ...) :\n",
        "    ......\n",
        "    # function body\n",
        "    ......   "
      ],
      "metadata": {
        "id": "b8Pp3vO6vrvN"
      }
    },
    {
      "cell_type": "code",
      "source": [
        "\n",
        "\n",
        "\n",
        "\n",
        "def Subtract (a, b):\n",
        "    return (a-b)\n",
        "\n",
        "print( Subtract(10, 12) ) # prints -2\n",
        "\n",
        "print( Subtract(15, 6) ) # prints 9"
      ],
      "metadata": {
        "id": "yFYonOObvs_U"
      },
      "execution_count": null,
      "outputs": []
    },
    {
      "cell_type": "markdown",
      "source": [
        "Difference between method and function\n",
        "\n",
        "Simply, function and method both look similar as they perform in almost similar way, but the key difference is the concept of ‘Class and its Object‘.\n",
        "Functions can be called only by its name, as it is defined independently. But methods can’t be called by its name only, we need to invoke the class by a reference of that class in which it is defined, i.e. method is defined within a class and hence they are dependent on that class."
      ],
      "metadata": {
        "id": "X4vCMY5Mv319"
      }
    },
    {
      "cell_type": "markdown",
      "source": [
        "Q2. Explain the concept of function arguments and parameters in Python.\n",
        "Ans.Parameters:\n",
        "A parameter is the variable defined within the parentheses during function definition. Simply they are written when we declare a function."
      ],
      "metadata": {
        "id": "O0w_jPB2v6VT"
      }
    },
    {
      "cell_type": "code",
      "source": [
        "# Here a,b are the parameters\n",
        "def sum(a,b):\n",
        "  print(a+b)\n",
        "\n",
        "sum(1,2)"
      ],
      "metadata": {
        "id": "3vnYqLtzwQ5p"
      },
      "execution_count": null,
      "outputs": []
    },
    {
      "cell_type": "markdown",
      "source": [
        "Arguments:\n",
        "An argument is a value that is passed to a function when it is called. It might be a variable, value or object passed to a function or method as input. They are written when we are calling the function."
      ],
      "metadata": {
        "id": "PtzM_fYawTEm"
      }
    },
    {
      "cell_type": "code",
      "source": [
        "def sum(a,b):\n",
        "  print(a+b)\n",
        "\n",
        "# Here the values 1,2 are arguments\n",
        "sum(1,2)"
      ],
      "metadata": {
        "id": "EHpaPDIcwWX5"
      },
      "execution_count": null,
      "outputs": []
    },
    {
      "cell_type": "markdown",
      "source": [
        "The four types of arguments in Python are:\n",
        "\n",
        "\n",
        "Positional arguments: These are passed to functions in the same order as the parameters are defined.\n",
        "Keyword arguments: These are passed with the parameter name, allowing them to be in any order.\n",
        "Default arguments: These have a default value if no argument is provided.\n",
        "Variable-length arguments: These allow passing an arbitrary number of arguments, using *args for positional and **kwargs for keyword arguments."
      ],
      "metadata": {
        "id": "ua6X-n14wZ4A"
      }
    },
    {
      "cell_type": "markdown",
      "source": [
        "Q3.What are the different ways to define and call a function in Python?\n",
        "Ans.Python Functions is a block of statements that return the specific task. The idea is to put some commonly or repeatedly done tasks together and make a function so that instead of writing the same code again and again for different inputs, we can do the function calls to reuse code contained in it over and over again.\n",
        "\n",
        "Some Benefits of Using Functions\n",
        "\n",
        "Increase Code Readability\n",
        "Increase Code Reusability\n",
        "Types of Functions in Python\n",
        "\n",
        "Below are the different types of functions in Python:\n",
        "\n",
        "Built-in library function: These are Standard functions in Python that are available to use.\n",
        "User-defined function: We can create our own functions based on our requirements.\n",
        "Creating a Function in Python\n",
        "We can define a function in Python, using the def keyword. We can add any type of functionalities and properties to it as we require. By the following example, we can understand how to write a function in Python. In this way we can create Python function definition by using def keyword."
      ],
      "metadata": {
        "id": "GSphNXfvwlP4"
      }
    },
    {
      "cell_type": "code",
      "source": [
        "# A simple Python function\n",
        "def fun():\n",
        "    print(\"Welcome to GFG\")"
      ],
      "metadata": {
        "id": "TERwR1a0xPnk"
      },
      "execution_count": null,
      "outputs": []
    },
    {
      "cell_type": "markdown",
      "source": [
        "Calling a Function in Python\n",
        "After creating a function in Python we can call it by using the name of the functions Python followed by parenthesis containing parameters of that particular function. Below is the example for calling def function Python."
      ],
      "metadata": {
        "id": "2E7hbF2vxQnr"
      }
    },
    {
      "cell_type": "code",
      "source": [
        "# A simple Python function\n",
        "def fun():\n",
        "    print(\"Welcome to Turntocode\")\n",
        "\n",
        "\n",
        "# Driver code to call a function\n",
        "fun()"
      ],
      "metadata": {
        "id": "KUZKaDS_xTiz"
      },
      "execution_count": null,
      "outputs": []
    },
    {
      "cell_type": "markdown",
      "source": [
        "Python Function with Parameters\n",
        "If you have experience in C/C++ or Java then you must be thinking about the return type of the function and data type of arguments. That is possible in Python as well (specifically for Python 3.5 and above).\n",
        "\n",
        "Python Function Syntax with Parameters\n",
        "\n",
        " def function_name(parameter: data_type) -> return_type:\n",
        "    \"\"\"Docstring\"\"\"\n",
        "    # body of the function\n",
        "    return expression"
      ],
      "metadata": {
        "id": "EMeWhPaCxCG6"
      }
    },
    {
      "cell_type": "code",
      "source": [
        "def add(num1: int, num2: int) -> int:\n",
        "    \"\"\"Add two numbers\"\"\"\n",
        "    num3 = num1 + num2\n",
        "\n",
        "    return num3\n",
        "\n",
        "# Driver code\n",
        "num1, num2 = 5, 15\n",
        "ans = add(num1, num2)\n",
        "print(f\"The addition of {num1} and {num2} results {ans}.\")\n",
        "# some more functions\n",
        "def is_prime(n):\n",
        "    if n in [2, 3]:\n",
        "        return True\n",
        "    if (n == 1) or (n % 2 == 0):\n",
        "        return False\n",
        "    r = 3\n",
        "    while r * r <= n:\n",
        "        if n % r == 0:\n",
        "            return False\n",
        "        r += 2\n",
        "    return True\n",
        "print(is_prime(78), is_prime(79))"
      ],
      "metadata": {
        "id": "nmo4XLrWxi81"
      },
      "execution_count": null,
      "outputs": []
    },
    {
      "cell_type": "markdown",
      "source": [
        "Python Function Arguments\n",
        "Arguments are the values passed inside the parenthesis of the function. A function can have any number of arguments separated by a comma.\n",
        "\n",
        "In this example, we will create a simple function in Python to check whether the number passed as an argument to the function is even or odd.\n",
        "Types of Python Function Arguments\n",
        "Python supports various types of arguments that can be passed at the time of the function call. In Python, we have the following function argument types in Python:\n",
        "\n",
        "Default argument\n",
        "Keyword arguments (named arguments)\n",
        "Positional arguments\n",
        "Arbitrary arguments (variable-length arguments *args and **kwargs)"
      ],
      "metadata": {
        "id": "zszJlEA0xsUp"
      }
    },
    {
      "cell_type": "markdown",
      "source": [
        "Q4. What is the purpose of the `return` statement in a Python function?\n",
        "Ans.A return statement is used to end the execution of the function call and “returns” the result (value of the expression following the return keyword) to the caller. The statements after the return statements are not executed. If the return statement is without any expression, then the special value None is returned. A return statement is overall used to invoke a function so that the passed statements can be executed.\n",
        "\n",
        "Note: Return statement can not be used outside the function.\n",
        "\n",
        "\n",
        "Syntax:\n",
        "\n",
        "def fun():\n",
        "    statements\n",
        "    .\n",
        "    .\n",
        "    return [expression]\n",
        "Example:\n",
        "\n",
        "def cube(x):\n",
        "   r=x**3\n",
        "   return r"
      ],
      "metadata": {
        "id": "NTw7HyhAyYvo"
      }
    },
    {
      "cell_type": "code",
      "source": [
        "\n",
        "\n",
        "def add(a, b):\n",
        "\n",
        "    # returning sum of a and b\n",
        "    return a + b\n",
        "\n",
        "def is_true(a):\n",
        "\n",
        "    # returning boolean of a\n",
        "    return bool(a)\n",
        "\n",
        "# calling function\n",
        "res = add(2, 3)\n",
        "print(\"Result of add function is {}\".format(res))\n",
        "\n",
        "res = is_true(2<5)\n",
        "print(\"\\nResult of is_true function is {}\".format(res))"
      ],
      "metadata": {
        "id": "YAnr9w7VrpqO"
      },
      "execution_count": null,
      "outputs": []
    },
    {
      "cell_type": "markdown",
      "source": [
        "Q5. What are iterators in Python and how do they differ from iterables?\n",
        "Ans.Iterable is an object, that one can iterate over. It generates an Iterator when passed to iter() method. An iterator is an object, which is used to iterate over an iterable object using the __next__() method. Iterators have the __next__() method, which returns the next item of the object.\n"
      ],
      "metadata": {
        "id": "w6LdttgIrwbZ"
      }
    },
    {
      "cell_type": "code",
      "source": [
        "# code\n",
        "next(\"TurnToCode\")"
      ],
      "metadata": {
        "id": "kah5BU2YsRBV"
      },
      "execution_count": null,
      "outputs": []
    },
    {
      "cell_type": "markdown",
      "source": [
        "Here iter( ) is converting s which is a string (iterable) into an iterator and prints G for the first time we can call multiple times to iterate over strings.\n",
        "\n",
        "When a for loop is executed, for statement calls iter() on the object, which it is supposed to loop over.\n",
        "If this call is successful, the iter call will return an iterator object that defines the method __next__(), which accesses elements of the object one at a time.  "
      ],
      "metadata": {
        "id": "dfuzACXcsUnb"
      }
    },
    {
      "cell_type": "code",
      "source": [
        "# code\n",
        "s=\"TurnToCode\"\n",
        "s=iter(s)\n",
        "print(s)\n",
        "print(next(s))\n",
        "print(next(s))\n",
        "print(next(s))"
      ],
      "metadata": {
        "id": "ZNik8GyvtHVt"
      },
      "execution_count": null,
      "outputs": []
    },
    {
      "cell_type": "markdown",
      "source": [
        "The __next__() method will raise a StopIteration exception if there are no further elements available.\n",
        "The for loop will terminate as soon as it catches a StopIteration exception.   \n",
        "Let’s call the __next__() method using the next() built-in function."
      ],
      "metadata": {
        "id": "puMHOuAGtNYF"
      }
    },
    {
      "cell_type": "code",
      "source": [
        "# list of cities\n",
        "cities = [\"Berlin\", \"Vienna\", \"Zurich\"]\n",
        "\n",
        "# initialize the object\n",
        "iterator_obj = iter(cities)\n",
        "\n",
        "print(next(iterator_obj))\n",
        "print(next(iterator_obj))\n",
        "print(next(iterator_obj))"
      ],
      "metadata": {
        "id": "56wNj0dBtZtt"
      },
      "execution_count": null,
      "outputs": []
    },
    {
      "cell_type": "markdown",
      "source": [
        "Q6. Explain the concept of generators in Python and how they are defined.\n",
        "Ans.A Generator in Python is a function that returns an iterator using the Yield keyword. In this article, we will discuss how the generator function works in Python.\n",
        "\n",
        "Generator Function in Python\n",
        "A generator function in Python is defined like a normal function, but whenever it needs to generate a value, it does so with the yield keyword rather than return. If the body of a def contains yield, the function automatically becomes a Python generator function.\n",
        "\n",
        "Create a Generator in Python\n",
        "In Python, we can create a generator function by simply using the def keyword and the yield keyword. The generator has the following syntax in Python:\n",
        "\n",
        "def function_name():\n",
        "    yield statement"
      ],
      "metadata": {
        "id": "MOwmrIvDtbS9"
      }
    },
    {
      "cell_type": "code",
      "source": [
        "\n",
        "def simpleGeneratorFun():\n",
        "    yield 1\n",
        "    yield 2\n",
        "    yield 3\n",
        "\n",
        "# Driver code to check above generator function\n",
        "for value in simpleGeneratorFun():\n",
        "    print(value)"
      ],
      "metadata": {
        "id": "JoJxLfcwuF2G"
      },
      "execution_count": null,
      "outputs": []
    },
    {
      "cell_type": "markdown",
      "source": [
        "Generator Object\n",
        "Python Generator functions return a generator object that is iterable, i.e., can be used as an Iterator. Generator objects are used either by calling the next method of the generator object or using the generator object in a “for in” loop."
      ],
      "metadata": {
        "id": "ve4VFFUpuY3z"
      }
    },
    {
      "cell_type": "code",
      "source": [
        "# A generator function\n",
        "def simpleGeneratorFun():\n",
        "    yield 1\n",
        "    yield 2\n",
        "    yield 3\n",
        "\n",
        "# x is a generator object\n",
        "x = simpleGeneratorFun()\n",
        "\n",
        "# Iterating over the generator object using next\n",
        "\n",
        "# In Python 3, __next__()\n",
        "print(next(x))\n",
        "print(next(x))\n",
        "print(next(x))"
      ],
      "metadata": {
        "id": "PSkA57F0ucXC"
      },
      "execution_count": null,
      "outputs": []
    },
    {
      "cell_type": "markdown",
      "source": [
        "Q 7. What are the advantages of using generators over regular functions?\n",
        "Ans.Advantages of Generators Over Regular Loops\n",
        "There are several advantages to using generators over regular loops. Here are a few of the most important ones:\n",
        "\n",
        "Memory Efficiency: One of the biggest advantages of generators is that they are memory efficient. Since a generator yields its values one by one, it does not need to store all of the values in memory at once. This can be especially useful when working with large data sets, as it reduces the risk of running out of memory.\n",
        "Readability: Generators can make your code easier to read and understand. By breaking up the iteration process into smaller chunks, you can write code that is more concise and easier to follow.\n",
        "Speed: Generators can also be faster than regular loops, especially when working with large data sets. This is because they avoid the overhead of creating a list or other data structure to store the results."
      ],
      "metadata": {
        "id": "S3pLvKOPvJEU"
      }
    },
    {
      "cell_type": "code",
      "source": [
        "def first_million_numbers():\n",
        "    for i in range(1000000):\n",
        "        yield i"
      ],
      "metadata": {
        "id": "GhvpNMtKvS1f"
      },
      "execution_count": null,
      "outputs": []
    },
    {
      "cell_type": "markdown",
      "source": [
        "Q8. What is a lambda function in Python and when is it typically used?\n",
        "Ans.Python Lambda Functions are anonymous functions means that the function is without a name. As we already know the def keyword is used to define a normal function in Python. Similarly, the lambda keyword is used to define an anonymous function in Python.\n",
        "\n",
        "Python Lambda Function Syntax\n",
        "Syntax: lambda arguments : expression\n",
        "\n",
        "\n",
        "This function can have any number of arguments but only one expression, which is evaluated and returned.\n",
        "One is free to use lambda functions wherever function objects are required.\n",
        "You need to keep in your knowledge that lambda functions are syntactically restricted to a single expression.\n",
        "It has various uses in particular fields of programming, besides other types of expressions in functions.\n",
        "Python Lambda Function Example\n",
        "In the example, we defined a lambda function(upper) to convert a string to its upper case using upper()."
      ],
      "metadata": {
        "id": "vh1V3HBDvZM_"
      }
    },
    {
      "cell_type": "code",
      "source": [
        "str1 = 'Turntocode'\n",
        "\n",
        "upper = lambda string: string.upper()\n",
        "print(upper(str1))"
      ],
      "metadata": {
        "id": "fMPVaUNMvyeu"
      },
      "execution_count": null,
      "outputs": []
    },
    {
      "cell_type": "markdown",
      "source": [
        "Use of Lambda Function in Python\n",
        "Let’s see some of the practical uses of the Python lambda function.\n",
        "\n",
        "Condition Checking Using Python lambda function"
      ],
      "metadata": {
        "id": "W9x1hWmhv42U"
      }
    },
    {
      "cell_type": "code",
      "source": [
        "format_numeric = lambda num: f\"{num:e}\" if isinstance(num, int) else f\"{num:,.2f}\"\n",
        "\n",
        "print(\"Int formatting:\", format_numeric(1000000))\n",
        "print(\"float formatting:\", format_numeric(999999.789541235))"
      ],
      "metadata": {
        "id": "lnCu3PfWwCUw"
      },
      "execution_count": null,
      "outputs": []
    },
    {
      "cell_type": "markdown",
      "source": [
        "Q 9. Explain the purpose and usage of the `map()` function in Python\n",
        "Ans.The map() function is used to apply a given function to every item of an iterable, such as a list or tuple, and returns a map object (which is an iterator). This is useful for simplifying our code and making it more readable when applying an operation to all elements.\n",
        "\n",
        "Let’s start with a simple example of using map() to convert a list of strings into a list of integers."
      ],
      "metadata": {
        "id": "IzH0y7VHwDjF"
      }
    },
    {
      "cell_type": "code",
      "source": [
        "s = ['1', '2', '3', '4']\n",
        "res = map(int, s)\n",
        "print(list(res))"
      ],
      "metadata": {
        "id": "KFuvsBaPwsoW"
      },
      "execution_count": null,
      "outputs": []
    },
    {
      "cell_type": "markdown",
      "source": [
        "Explanation: Here, we used the built-in int function to convert each string in the list s into an integer. The map() function takes care of applying int() to every element\n",
        "\n",
        "Table of Content\n",
        "\n",
        "Syntax of the map() function\n",
        "Converting the map object to a list\n",
        "map() with lambda\n",
        "Using map() with multiple iterables\n",
        "Examples of map() function\n",
        "Converting to uppercase\n",
        "Extracting first character from strings\n",
        "Removing whitespaces from strings\n",
        "Calculate fahrenheit from celsius\n",
        "Syntax of the map() function\n",
        "The syntax for the map() function is as follows:\n",
        "\n",
        "map(function, iterable)\n",
        "\n",
        "\n",
        "Parameter:\n",
        "\n",
        "function: The function we want to apply to every element of the iterable.\n",
        "iterable: The iterable whose elements we want to process.\n",
        "Note: We can also pass multiple iterables if our function accepts multiple arguments.\n",
        "\n",
        "Converting map object to a list\n",
        "By default, the map() function returns a map object, which is an iterator. In many cases, we will need to convert this iterator to a list to work with the results directly."
      ],
      "metadata": {
        "id": "VuSXRAowwt6d"
      }
    },
    {
      "cell_type": "code",
      "source": [
        "a = [1, 2, 3, 4]\n",
        "\n",
        "def double(val):\n",
        "  return val*2\n",
        "\n",
        "res = list(map(double, a))\n",
        "print(res)"
      ],
      "metadata": {
        "id": "8EX14B_mw5Qv"
      },
      "execution_count": null,
      "outputs": []
    },
    {
      "cell_type": "markdown",
      "source": [
        "Explanation:\n",
        "\n",
        "The map() function returned an iterator, which we then converted into a list using list(). This is a common practice when working with map()\n",
        "We used a custom function to double each value in the list a. The result was mapped and converted into a list for easy display.\n",
        "map() with lambda\n",
        "We can use a lambda function instead of a custom function with map() to make the code shorter and easier. Let’s see how to improve the above code for better readability."
      ],
      "metadata": {
        "id": "U7gTvvUnw9iX"
      }
    },
    {
      "cell_type": "code",
      "source": [
        "a = [1, 2, 3, 4]\n",
        "\n",
        "res = list(map(lambda x: x * 2, a))\n",
        "print(res)"
      ],
      "metadata": {
        "id": "EAW_9czNxBAn"
      },
      "execution_count": null,
      "outputs": []
    },
    {
      "cell_type": "markdown",
      "source": [
        "Using map() with multiple iterables\n",
        "We can use map() with multiple iterables if the function we are applying takes more than one argument."
      ],
      "metadata": {
        "id": "fpZTNeb9xOKc"
      }
    },
    {
      "cell_type": "code",
      "source": [
        "a = [1, 2, 3]\n",
        "b = [4, 5, 6]\n",
        "res = map(lambda x, y: x + y, a, b)\n",
        "print(list(res))"
      ],
      "metadata": {
        "id": "IF0ei1GFxPmL"
      },
      "execution_count": null,
      "outputs": []
    },
    {
      "cell_type": "markdown",
      "source": [
        "Q10. What is the difference between `map()`, `reduce()`, and `filter()` functions in Python?\n",
        "Ans.Map, Reduce, and Filter Operations in Python. These three operations are paradigms of functional programming. They allow one to write simpler, shorter code without needing to bother about intricacies like loops and branching. In this article, we will see Map Reduce and Filter Operations in Python.\n",
        "\n",
        "Map Reduce and Filter Operations in Python\n",
        "Below, are examples of Map Reduce and Filter Operations in Python:\n",
        "\n",
        "map() Function\n",
        "Reduce() Function\n",
        "Filter() Function\n",
        "Map Function in Python\n",
        "The map () function returns a map object(which is an iterator) of the results after applying the given function to each item of a given iterable (list, tuple, etc.).\n",
        "\n",
        "Syntax: map(fun, iter)\n",
        "\n",
        "\n",
        "\n",
        "Parameters:\n",
        "\n",
        "\n",
        "\n",
        "fun: It is a function to which map passes each element of given iterable.\n",
        "iter:  iterable object to be mapped."
      ],
      "metadata": {
        "id": "POOawzOIxZR3"
      }
    },
    {
      "cell_type": "code",
      "source": [
        "def double(n):\n",
        "    return n * 2\n",
        "\n",
        "# Using map to double all numbers\n",
        "numbers = [5, 6, 7, 8]\n",
        "result = map(double, numbers)\n",
        "print(list(result))"
      ],
      "metadata": {
        "id": "50rdyPZcx6Pz"
      },
      "execution_count": null,
      "outputs": []
    },
    {
      "cell_type": "markdown",
      "source": [
        "Reduce Function in Python\n",
        "The reduce function is used to apply a particular function passed in its argument to all of the list elements mentioned in the sequence passed along.This function is defined in “functools” module.\n",
        "\n",
        "Syntax: reduce(func, iterable[, initial])\n",
        "\n",
        "\n",
        "\n",
        "Parameters:\n",
        "\n",
        "\n",
        "\n",
        "fun: It is a function to execuate on each element of the iterable objec\n",
        "iter: It is iterable to be reduced"
      ],
      "metadata": {
        "id": "CauKqgaIx7PN"
      }
    },
    {
      "cell_type": "code",
      "source": [
        "import functools\n",
        "\n",
        "# Define a list of numbers\n",
        "numbers = [1, 2, 3, 4]\n",
        "\n",
        "product = functools.reduce(lambda x, y: x * y, numbers)\n",
        "print(\"Product of list elements:\", product)"
      ],
      "metadata": {
        "id": "l86vbgJmx_6r"
      },
      "execution_count": null,
      "outputs": []
    },
    {
      "cell_type": "markdown",
      "source": [
        "Filter Function in Python\n",
        "The filter() method filters the given sequence with the help of a function that tests each element in the sequence to be true or not.\n",
        "\n",
        "Syntax: filter(function, sequence)\n",
        "\n",
        "\n",
        "\n",
        "Parameters:\n",
        "\n",
        "\n",
        "\n",
        "function: function that tests if each element of a sequence is true or not.\n",
        "sequence: sequence which needs to be filtered, it can be sets, lists, tuples, or containers of any iterators."
      ],
      "metadata": {
        "id": "nDL6rWOVyJVx"
      }
    },
    {
      "cell_type": "code",
      "source": [
        "def is_even(n):\n",
        "    return n % 2 == 0\n",
        "\n",
        "# Define a list of numbers\n",
        "numbers = [1, 2, 3, 4, 5, 6, 7, 8, 9, 10]\n",
        "\n",
        "# Use filter to filter out even numbers\n",
        "even_numbers = filter(is_even, numbers)\n",
        "print(\"Even numbers:\", list(even_numbers))"
      ],
      "metadata": {
        "id": "XFEeQRLCyKW4"
      },
      "execution_count": null,
      "outputs": []
    },
    {
      "cell_type": "markdown",
      "source": [
        "Q11. Using pen & Paper write the internal mechanism for sum operation using  reduce function on this given\n",
        "list:[47,11,42,13];\n",
        "Ans."
      ],
      "metadata": {
        "id": "O5uJBABXyPo5"
      }
    },
    {
      "cell_type": "code",
      "source": [
        "from functools import reduce\n",
        "\n",
        "def add(x, y):\n",
        "    return x + y\n",
        "\n",
        "numbers = [47, 11, 42, 13]\n",
        "result = reduce(add, numbers)\n",
        "\n",
        "print(\"Sum of the list:\", result)"
      ],
      "metadata": {
        "colab": {
          "base_uri": "https://localhost:8080/"
        },
        "id": "oy-JM8we2Jun",
        "outputId": "18ebaeef-6aec-4ada-a835-85138c9cf193"
      },
      "execution_count": 2,
      "outputs": [
        {
          "output_type": "stream",
          "name": "stdout",
          "text": [
            "Sum of the list: 113\n"
          ]
        }
      ]
    },
    {
      "cell_type": "markdown",
      "source": [
        "Practical Questions:\n",
        "Q1. Write a Python function that takes a list of numbers as input and returns the sum of all even numbers in\n",
        "the list.\n",
        "Ans."
      ],
      "metadata": {
        "id": "-xWsum2BygBv"
      }
    },
    {
      "cell_type": "code",
      "source": [
        "def sum_of_even_numbers(numbers):\n",
        "    return sum(num for num in numbers if num % 2 == 0)\n",
        "\n",
        "# Example usage:\n",
        "numbers = [1, 2, 3, 4, 5, 6]\n",
        "result = sum_of_even_numbers(numbers)\n",
        "print(\"Sum of even numbers:\", result)"
      ],
      "metadata": {
        "colab": {
          "base_uri": "https://localhost:8080/"
        },
        "id": "ePE3DaFUzBkB",
        "outputId": "2f210906-169f-43b3-9e3c-3b5b61b460df"
      },
      "execution_count": 1,
      "outputs": [
        {
          "output_type": "stream",
          "name": "stdout",
          "text": [
            "Sum of even numbers: 12\n"
          ]
        }
      ]
    },
    {
      "cell_type": "markdown",
      "source": [
        "Q2. Create a Python function that accepts a string and returns the reverse of that string."
      ],
      "metadata": {
        "id": "teLNQX7fzN18"
      }
    },
    {
      "cell_type": "code",
      "source": [
        "def reverse_string(s):\n",
        "    return s[::-1]\n",
        "\n",
        "# Example usage:\n",
        "text = \"hello\"\n",
        "reversed_text = reverse_string(text)\n",
        "print(\"Reversed string:\", reversed_text)"
      ],
      "metadata": {
        "id": "bzdjt9akzPgM"
      },
      "execution_count": null,
      "outputs": []
    },
    {
      "cell_type": "markdown",
      "source": [
        "Q3. Implement a Python function that takes a list of integers and returns a new list containing the squares of\n",
        "each number"
      ],
      "metadata": {
        "id": "j2PohlyvzdGU"
      }
    },
    {
      "cell_type": "code",
      "source": [
        "def square_numbers(numbers):\n",
        "    return [num ** 2 for num in numbers]\n",
        "\n",
        "# Example usage:\n",
        "numbers = [1, 2, 3, 4, 5]\n",
        "squared_numbers = square_numbers(numbers)\n",
        "print(\"Squared numbers:\", squared_numbers)"
      ],
      "metadata": {
        "id": "Ghz1UFk0zjWD"
      },
      "execution_count": null,
      "outputs": []
    },
    {
      "cell_type": "markdown",
      "source": [
        "Q4. Write a Python function that checks if a given number is prime or not from 1 to 200."
      ],
      "metadata": {
        "id": "C3Ot0i0HzrmC"
      }
    },
    {
      "cell_type": "code",
      "source": [
        "def is_prime(num):\n",
        "    if num < 2:\n",
        "        return False\n",
        "    for i in range(2, int(num ** 0.5) + 1):\n",
        "        if num % i == 0:\n",
        "            return False\n",
        "    return True\n",
        "\n",
        "# Check prime numbers from 1 to 200\n",
        "for n in range(1, 201):\n",
        "    if is_prime(n):\n",
        "        print(f\"{n} is a prime number\")"
      ],
      "metadata": {
        "id": "X7p0ksa6zwfi"
      },
      "execution_count": null,
      "outputs": []
    },
    {
      "cell_type": "markdown",
      "source": [
        "Q5. Create an iterator class in Python that generates the Fibonacci sequence up to a specified number of\n",
        "terms."
      ],
      "metadata": {
        "id": "CpJsIh_Iz3ir"
      }
    },
    {
      "cell_type": "code",
      "source": [
        "class FibonacciIterator:\n",
        "    def __init__(self, num_terms):\n",
        "        self.num_terms = num_terms\n",
        "        self.current_term = 0\n",
        "        self.a, self.b = 0, 1\n",
        "\n",
        "    def __iter__(self):\n",
        "        return self\n",
        "\n",
        "    def __next__(self):\n",
        "        if self.current_term >= self.num_terms:\n",
        "            raise StopIteration\n",
        "\n",
        "\n",
        "        fib = self.a\n",
        "        self.a, self.b = self.b, self.a + self.b\n",
        "        self.current_term += 1\n",
        "        return fib\n",
        "\n",
        "\n",
        "fib_iter = FibonacciIterator(10)\n",
        "for fib_num in fib_iter:\n",
        "    print(fib_num)"
      ],
      "metadata": {
        "id": "wd0QSPpRz8-s"
      },
      "execution_count": null,
      "outputs": []
    },
    {
      "cell_type": "markdown",
      "source": [
        "Q6. Write a generator function in Python that yields the powers of 2 up to a given exponent."
      ],
      "metadata": {
        "id": "-evK-5c80U-E"
      }
    },
    {
      "cell_type": "code",
      "source": [
        "def powers_of_two(max_exponent):\n",
        "    for exp in range(max_exponent + 1):\n",
        "        yield 2 ** exp\n",
        "\n",
        "# Example usage:\n",
        "for value in powers_of_two(5):\n",
        "    print(value)"
      ],
      "metadata": {
        "id": "n9kpJuKJ0bM0"
      },
      "execution_count": null,
      "outputs": []
    },
    {
      "cell_type": "markdown",
      "source": [
        "Q7. Implement a generator function that reads a file line by line and yields each line as a string."
      ],
      "metadata": {
        "id": "GOAdRc3S0ea-"
      }
    },
    {
      "cell_type": "code",
      "source": [
        "def read_file_line_by_line(file_path):\n",
        "    with open(file_path, 'r') as file:\n",
        "        for line in file:\n",
        "            yield line.strip()\n",
        "\n",
        "\n",
        "file_path = 'example.txt'\n",
        "for line in read_file_line_by_line(file_path):\n",
        "    print(line)"
      ],
      "metadata": {
        "id": "UEuXXtWv0iMJ"
      },
      "execution_count": null,
      "outputs": []
    },
    {
      "cell_type": "markdown",
      "source": [
        "Q8. Use a lambda function in Python to sort a list of tuples based on the second element of each tuple."
      ],
      "metadata": {
        "id": "jQDJc8Z80r1I"
      }
    },
    {
      "cell_type": "code",
      "source": [
        "tuples_list = [(1, 3), (4, 1), (2, 5), (6, 2)]\n",
        "\n",
        "sorted_list = sorted(tuples_list, key=lambda x: x[1])\n",
        "\n",
        "print(\"Sorted list:\", sorted_list)"
      ],
      "metadata": {
        "id": "EiXrCisy01xy"
      },
      "execution_count": null,
      "outputs": []
    },
    {
      "cell_type": "markdown",
      "source": [
        "Q9. Write a Python program that uses `map()` to convert a list of temperatures from Celsius to Fahrenheit."
      ],
      "metadata": {
        "id": "8EJvksXP0660"
      }
    },
    {
      "cell_type": "code",
      "source": [
        "def celsius_to_fahrenheit(celsius):\n",
        "    return (celsius * 9/5) + 32\n",
        "\n",
        "# Example list of temperatures in Celsius\n",
        "celsius_temperatures = [0, 20, 37, 100]\n",
        "\n",
        "# Using map() to convert the temperatures to Fahrenheit\n",
        "fahrenheit_temperatures = list(map(celsius_to_fahrenheit, celsius_temperatures))\n",
        "\n",
        "print(\"Temperatures in Fahrenheit:\", fahrenheit_temperatures)"
      ],
      "metadata": {
        "id": "1p4Czryz1E4y"
      },
      "execution_count": null,
      "outputs": []
    },
    {
      "cell_type": "markdown",
      "source": [
        "Q10. Create a Python program that uses `filter()` to remove all the vowels from a given string."
      ],
      "metadata": {
        "id": "lAAruWaD1G17"
      }
    },
    {
      "cell_type": "code",
      "source": [
        "def is_not_vowel(char):\n",
        "    return char.lower() not in 'aeiou'\n",
        "\n",
        "# Example string\n",
        "input_string = \"Hello, World!\"\n",
        "\n",
        "# Using filter() to remove vowels\n",
        "filtered_string = ''.join(filter(is_not_vowel, input_string))\n",
        "\n",
        "print(\"String without vowels:\", filtered_string)"
      ],
      "metadata": {
        "id": "x77ofG6S1SaX"
      },
      "execution_count": null,
      "outputs": []
    },
    {
      "cell_type": "markdown",
      "source": [
        "Q11) Imagine an accounting routine used in a book shop. It works on a list with sublists, which look like this:\n",
        "\n",
        "\n",
        "\n",
        "\n",
        "\n",
        "\n",
        "\n",
        "Write a Python program, which returns a list with 2-tuples. Each tuple consists of the order number and the\n",
        "product of the price per item and the quantity. The product should be increased by 10,- € if the value of the\n",
        "order is smaller than 100,00 €.\n",
        "\n",
        "Write a Python program using lambda and map."
      ],
      "metadata": {
        "id": "nW0P2yi_1bUg"
      }
    },
    {
      "cell_type": "code",
      "source": [
        "def calculate_order_value(order):\n",
        "    order_number, price_per_item, quantity = order\n",
        "    product_value = price_per_item * quantity\n",
        "    # Increase by 10 if the product value is less than 100\n",
        "    if product_value < 100:\n",
        "        product_value += 10\n",
        "    return (order_number, product_value)\n",
        "\n",
        "# Using map to create the list of 2-tuples\n",
        "order_values = list(map(calculate_order_value, orders))\n",
        "\n",
        "print(\"Order values:\", order_values)"
      ],
      "metadata": {
        "id": "WKqClsOU1_DR"
      },
      "execution_count": null,
      "outputs": []
    }
  ]
}