{
  "nbformat": 4,
  "nbformat_minor": 0,
  "metadata": {
    "colab": {
      "provenance": []
    },
    "kernelspec": {
      "name": "python3",
      "display_name": "Python 3"
    },
    "language_info": {
      "name": "python"
    }
  },
  "cells": [
    {
      "cell_type": "markdown",
      "source": [
        "Theoretical Questions:\n",
        "Q1. Explain the purpose and advantages of NumPy in scientific computing and data analysis. How does itenhance Python's capabilities for numerical operations?\n",
        "Ans.NumPy, short for \"Numerical Python,\" is a foundational library in Python for scientific computing and data analysis, designed to perform high-performance numerical computations. It is widely used in fields ranging from data science and machine learning to engineering and physics. Here's a breakdown of its purpose, advantages, and the ways it enhances Python's capabilities:\n",
        "\n",
        "Purpose of NumPy\n",
        "Efficient Numerical Computations: NumPy enables efficient storage and manipulation of numerical data in large multi-dimensional arrays, providing the basis for numerical computations and linear algebra in Python.\n",
        "Foundation for Data Analysis and Machine Learning: It serves as the backbone for many other libraries (e.g., Pandas, SciPy, and TensorFlow), providing fast and memory-efficient array structures.\n",
        "Simplified Mathematical Operations: NumPy offers a wide range of mathematical functions, making it easier to perform complex calculations with minimal code.\n",
        "Key Advantages of NumPy in Scientific Computing and Data Analysis\n",
        "Performance and Efficiency:\n",
        "Fast Array Operations: NumPy's operations are implemented in C, making them much faster than standard Python lists.\n",
        "Memory Optimization: It stores elements more compactly than Python lists by using a fixed data type, reducing memory usage and improving performance.\n",
        "Vectorization:\n",
        "Eliminates Loops: Through vectorized operations, NumPy allows element-wise operations on arrays without writing explicit loops, enhancing readability and efficiency.\n",
        "Parallel Computation: NumPy's vectorized operations can be optimized by hardware acceleration, especially on modern processors.\n",
        "Advanced Mathematical Functions:\n",
        "Linear Algebra: NumPy has functions for linear algebra operations, such as matrix multiplication, determinant calculation, eigenvalue decomposition, and more.\n",
        "Fourier Transforms and Random Sampling: It includes tools for Fourier transforms, generating random samples, and performing various statistical computations.\n",
        "Compatibility with Other Libraries:\n",
        "Foundation for Other Libraries: Many scientific computing libraries like Pandas (data manipulation), SciPy (advanced scientific computations), and machine learning libraries like TensorFlow and PyTorch are built on top of NumPy arrays, ensuring compatibility across the Python data ecosystem.\n",
        "How NumPy Enhances Python’s Capabilities\n",
        "Support for Multi-Dimensional Arrays: NumPy introduces the ndarray object, which allows handling data in multiple dimensions. This enables higher-dimensional computations that would be difficult with nested lists.\n",
        "Element-Wise Operations and Broadcasting: NumPy supports broadcasting, allowing operations between arrays of different shapes, which is not natively possible with Python lists.\n",
        "Optimized Mathematical Computations: Mathematical and statistical operations are optimized in NumPy, making it a more suitable choice for scientific applications than native Python math functions."
      ],
      "metadata": {
        "id": "iyq_oUhem1Mo"
      }
    },
    {
      "cell_type": "markdown",
      "source": [
        "Q2.Compare and contrast np.mean() and np.average() functions in NumPy. When would you use one over the\n",
        "other?\n",
        "Ans.In NumPy, both np.mean() and np.average() are used to calculate the central tendency of data, but they differ in terms of functionality, particularly regarding the treatment of weights.\n",
        "\n",
        "np.mean()\n",
        "Purpose: Calculates the arithmetic mean (simple average) of the array elements.\n",
        "Syntax: np.mean(array, axis=None)\n",
        "array: Input data.\n",
        "axis: Specifies the axis along which the mean is computed. If None, the mean of the flattened array is calculated.\n",
        "Weighted Calculation: np.mean() does not support weighting; all elements are treated equally.\n",
        "Example:"
      ],
      "metadata": {
        "id": "3XGyJjvundH2"
      }
    },
    {
      "cell_type": "code",
      "execution_count": null,
      "metadata": {
        "id": "TSAYK8KNiJ8p"
      },
      "outputs": [],
      "source": [
        "import numpy as np\n",
        "\n",
        "data = np.array([1, 2, 3, 4, 5])\n",
        "mean_value = np.mean(data)  # Result: 3.0\n"
      ]
    },
    {
      "cell_type": "markdown",
      "source": [
        "np.average()\n",
        "Purpose: Calculates the weighted average of the array elements.\n",
        "Syntax: np.average(array, axis=None, weights=None)\n",
        "weights: An array of the same shape as array, specifying the weight for each element.\n",
        "If weights is None, np.average() behaves the same as np.mean().\n",
        "Weighted Calculation: Supports weighting, which is useful if certain elements should contribute more to the average.\n",
        "Example:"
      ],
      "metadata": {
        "id": "HqczTb0_nqH9"
      }
    },
    {
      "cell_type": "code",
      "source": [
        "data = np.array([1, 2, 3, 4, 5])\n",
        "weights = np.array([1, 0.5, 1, 2, 0.5])\n",
        "weighted_average = np.average(data, weights=weights)  # Result: 3.0\n"
      ],
      "metadata": {
        "id": "bF-W36XBntWF"
      },
      "execution_count": null,
      "outputs": []
    },
    {
      "cell_type": "markdown",
      "source": [
        "When to Use Each Function\n",
        "Use np.mean(): When you want a straightforward, unweighted average of data, where each element contributes equally.\n",
        "Use np.average(): When elements have varying levels of importance or need different contributions, making weighted averaging essential.\n",
        "Key Differences at a Glance\n",
        "Feature|\tnp.mean()|\tnp.average()\n",
        "Weighting|\tNot supported|\tSupported via weights parameter\n",
        "Use Case |\tSimple average |\tWeighted average\n",
        "Default Behavior|\tAverages all elements equally |\tBehaves as np.mean() if weights are None\n"
      ],
      "metadata": {
        "id": "iURlcdBqnu-m"
      }
    },
    {
      "cell_type": "markdown",
      "source": [
        "Q3. Describe the methods for reversing a NumPy array along different axes. Provide examples for 1D and 2D\n",
        "arrays.\n",
        "Ans.Reversing a NumPy array can be achieved using slicing or specific NumPy functions. Here’s a breakdown of methods to reverse arrays along different axes for both 1D and 2D arrays:\n",
        "\n",
        "1. Reversing a 1D Array\n",
        "In a 1D array, reversing simply means inverting the order of the elements.\n",
        "\n",
        "Method: Using Slicing\n",
        "Slicing with [::-1] reverses the array by creating a new view of the array in reverse order.\n",
        "Example:"
      ],
      "metadata": {
        "id": "58_cgEg5oIvb"
      }
    },
    {
      "cell_type": "code",
      "source": [
        "import numpy as np\n",
        "\n",
        "# 1D array\n",
        "arr_1d = np.array([1, 2, 3, 4, 5])\n",
        "\n",
        "# Reverse the array\n",
        "reversed_arr_1d = arr_1d[::-1]\n",
        "print(reversed_arr_1d)  # Output: [5, 4, 3, 2, 1]\n"
      ],
      "metadata": {
        "id": "5wI9PrRWoQSk"
      },
      "execution_count": null,
      "outputs": []
    },
    {
      "cell_type": "markdown",
      "source": [
        "2. Reversing a 2D Array\n",
        "For a 2D array, we can reverse along rows, columns, or both. This can be done with slicing or with NumPy functions like np.flip().\n",
        "\n",
        "Method 1: Using Slicing\n",
        "array[::-1, :]: Reverses the rows (top-to-bottom).\n",
        "array[:, ::-1]: Reverses the columns (left-to-right).\n",
        "array[::-1, ::-1]: Reverses both rows and columns (diagonally flipped).\n",
        "Example:"
      ],
      "metadata": {
        "id": "6ZmtXeVSoSjl"
      }
    },
    {
      "cell_type": "code",
      "source": [
        "# 2D array\n",
        "arr_2d = np.array([[1, 2, 3],\n",
        "                   [4, 5, 6],\n",
        "                   [7, 8, 9]])\n",
        "\n",
        "# Reverse rows (top to bottom)\n",
        "reversed_rows = arr_2d[::-1, :]\n",
        "print(reversed_rows)\n",
        "# Output:\n",
        "# [[7, 8, 9],\n",
        "#  [4, 5, 6],\n",
        "#  [1, 2, 3]]\n",
        "\n",
        "# Reverse columns (left to right)\n",
        "reversed_columns = arr_2d[:, ::-1]\n",
        "print(reversed_columns)\n",
        "# Output:\n",
        "# [[3, 2, 1],\n",
        "#  [6, 5, 4],\n",
        "#  [9, 8, 7]]\n",
        "\n",
        "# Reverse both rows and columns\n",
        "reversed_both = arr_2d[::-1, ::-1]\n",
        "print(reversed_both)\n",
        "# Output:\n",
        "# [[9, 8, 7],\n",
        "#  [6, 5, 4],\n",
        "#  [3, 2, 1]]\n"
      ],
      "metadata": {
        "id": "fZ4SR8CFoUsT"
      },
      "execution_count": null,
      "outputs": []
    },
    {
      "cell_type": "markdown",
      "source": [
        "Method 2: Using np.flip()\n",
        "np.flip(arr, axis=0): Reverses along rows.\n",
        "np.flip(arr, axis=1): Reverses along columns.\n",
        "np.flip(arr): Reverses along both axes by default.\n",
        "Example:"
      ],
      "metadata": {
        "id": "mr6nzQ95oWbU"
      }
    },
    {
      "cell_type": "code",
      "source": [
        "# Reverse along rows\n",
        "reversed_rows = np.flip(arr_2d, axis=0)\n",
        "print(reversed_rows)\n",
        "# Output:\n",
        "# [[7, 8, 9],\n",
        "#  [4, 5, 6],\n",
        "#  [1, 2, 3]]\n",
        "\n",
        "# Reverse along columns\n",
        "reversed_columns = np.flip(arr_2d, axis=1)\n",
        "print(reversed_columns)\n",
        "# Output:\n",
        "# [[3, 2, 1],\n",
        "#  [6, 5, 4],\n",
        "#  [9, 8, 7]]\n",
        "\n",
        "# Reverse along both axes\n",
        "reversed_both = np.flip(arr_2d)\n",
        "print(reversed_both)\n",
        "# Output:\n",
        "# [[9, 8, 7],\n",
        "#  [6, 5, 4],\n",
        "#  [3, 2, 1]]\n"
      ],
      "metadata": {
        "id": "ysdjWdu5oZKU"
      },
      "execution_count": null,
      "outputs": []
    },
    {
      "cell_type": "markdown",
      "source": [
        "Q4. How can you determine the data type of elements in a NumPy array? Discuss the importance of data types\n",
        "in memory management and performance.\n",
        "Ans.In NumPy, you can determine the data type of elements in an array using the .dtype attribute. Understanding data types is crucial in scientific computing for optimizing memory management and performance.\n",
        "\n",
        "Determining Data Type of Elements in a NumPy Array\n",
        "Using .dtype Attribute:\n",
        "\n",
        "Each NumPy array has a .dtype attribute that reveals the data type of its elements.\n",
        "Example:"
      ],
      "metadata": {
        "id": "QD4EVTmcoa1U"
      }
    },
    {
      "cell_type": "code",
      "source": [
        "import numpy as np\n",
        "\n",
        "arr = np.array([1, 2, 3])\n",
        "print(arr.dtype)  # Output: int64 (or int32 depending on the system)\n"
      ],
      "metadata": {
        "id": "3K8BhYRWokiq"
      },
      "execution_count": null,
      "outputs": []
    },
    {
      "cell_type": "markdown",
      "source": [
        "Specifying Data Type While Creating an Array:\n",
        "\n",
        "You can specify the data type of elements when creating an array using the dtype parameter.\n",
        "Example:\n",
        "\n"
      ],
      "metadata": {
        "id": "dfgXCbqrol-z"
      }
    },
    {
      "cell_type": "code",
      "source": [
        "arr = np.array([1.2, 3.4, 5.6], dtype=np.float32)\n",
        "print(arr.dtype)  # Output: float32\n"
      ],
      "metadata": {
        "id": "9Gt5SNzOooza"
      },
      "execution_count": null,
      "outputs": []
    },
    {
      "cell_type": "markdown",
      "source": [
        "Converting Data Type Using astype():\n",
        "\n",
        "Use the astype() method to convert an array’s data type.\n",
        "Example:"
      ],
      "metadata": {
        "id": "-ZRIjpfporHP"
      }
    },
    {
      "cell_type": "code",
      "source": [
        "arr = np.array([1, 2, 3], dtype=np.int32)\n",
        "arr_float = arr.astype(np.float64)\n",
        "print(arr_float.dtype)  # Output: float64\n"
      ],
      "metadata": {
        "id": "f0EYtmEUoqUq"
      },
      "execution_count": null,
      "outputs": []
    },
    {
      "cell_type": "markdown",
      "source": [
        "Importance of Data Types in Memory Management and Performance\n",
        "Memory Efficiency:\n",
        "\n",
        "Different data types consume different amounts of memory. For example, int32 uses 4 bytes per integer, while int64 uses 8 bytes.\n",
        "Choosing the appropriate data type based on your data’s range and precision requirements helps reduce memory usage, which is especially important for large datasets.\n",
        "Example: Using int8 (1 byte per element) instead of int64 (8 bytes per element) for a dataset that only contains values within the range -128 to 127 can save a significant amount of memory.\n",
        "\n",
        "Performance Optimization:\n",
        "\n",
        "Smaller data types typically allow faster computations, as they involve fewer bytes and can leverage CPU cache more effectively.\n",
        "Using the right data type can improve performance in memory-bound tasks, where data transfer speeds become the bottleneck.\n",
        "NumPy’s vectorized operations benefit from lower-level optimizations that leverage data types, allowing for efficient bulk operations.\n",
        "Precision and Accuracy:\n",
        "\n",
        "Certain applications, such as scientific calculations, may require specific data types to maintain precision (e.g., float64 for high-precision floating-point numbers).\n",
        "Using an inappropriate data type can lead to issues such as overflow or loss of precision. For instance, float32 may not capture very small or very large decimal values accurately compared to float64."
      ],
      "metadata": {
        "id": "QR36If6DovjW"
      }
    },
    {
      "cell_type": "markdown",
      "source": [
        "Q5. Define ndarrays in NumPy and explain their key features. How do they differ from standard Python lists?\n",
        "Ans.In NumPy, an ndarray (short for \"N-dimensional array\") is the fundamental data structure for storing multi-dimensional data. It is a highly optimized array object that allows efficient storage, manipulation, and computation on large datasets, making it a central component for scientific and numerical computations in Python.\n",
        "\n",
        "Key Features of ndarrays\n",
        "Multi-dimensional:\n",
        "\n",
        "ndarrays support multiple dimensions, enabling complex data structures, from 1D (vectors) and 2D (matrices) to higher dimensions (3D tensors and beyond).\n",
        "The number of dimensions is given by the .ndim attribute.\n",
        "Homogeneous Data Types:\n",
        "\n",
        "All elements in an ndarray must be of the same data type (e.g., int32, float64), specified by the .dtype attribute.\n",
        "This homogeneity ensures memory efficiency and fast computations since all elements occupy a fixed amount of memory.\n",
        "Efficient Memory Layout:\n",
        "\n",
        "ndarrays are stored in contiguous memory blocks, enhancing memory access speeds and allowing efficient vectorized operations.\n",
        "They are designed to leverage CPU caching, reducing memory access time, which speeds up computations compared to standard Python lists.\n",
        "Vectorized Operations:\n",
        "\n",
        "NumPy supports element-wise operations and broadcasting, enabling vectorized computations that eliminate the need for explicit loops.\n",
        "This feature allows ndarrays to perform operations on whole arrays at once, making computations faster and code more concise.\n",
        "Support for Mathematical Functions:\n",
        "\n",
        "ndarrays are compatible with a wide array of mathematical and statistical functions in NumPy, such as np.mean(), np.sum(), and linear algebra functions like np.dot() for matrix multiplication.\n",
        "Slicing and Indexing:\n",
        "\n",
        "ndarrays offer powerful slicing and indexing features, allowing subarrays to be accessed or modified without copying the data.\n",
        "Advanced indexing techniques, such as boolean indexing and fancy indexing, make it easy to manipulate data based on specific conditions.\n",
        "Differences Between ndarrays and Python Lists\n",
        "Feature\tndarray (NumPy)\tPython List\n",
        "Data Type\tHomogeneous (all elements have the same data type)\tHeterogeneous (elements can have different data types)\n",
        "Memory Efficiency\tStored in contiguous memory for efficiency\tElements are pointers, leading to more memory overhead\n",
        "Performance\tSupports vectorized operations, optimized for numerical computation\tSlower in numerical operations due to lack of vectorization\n",
        "Mathematical Operations\tSupports element-wise operations, matrix manipulation, and broadcasting\tNo built-in support for element-wise operations or broadcasting\n",
        "Dimension Support\tN-dimensional (1D, 2D, 3D, etc.)\tPrimarily 1D (nested lists required for multi-dimensionality)\n",
        "Slicing and Indexing\tAdvanced slicing and indexing capabilities\tBasic slicing and indexing, less flexible for complex operations\n",
        "Example Comparison"
      ],
      "metadata": {
        "id": "i-ITKYCkoyBm"
      }
    },
    {
      "cell_type": "code",
      "source": [
        "import numpy as np\n",
        "\n",
        "# Creating a NumPy ndarray\n",
        "array = np.array([1, 2, 3, 4, 5])\n",
        "print(array * 2)  # Output: [2, 4, 6, 8, 10]\n",
        "\n",
        "# Creating a Python list\n",
        "lst = [1, 2, 3, 4, 5]\n",
        "print([x * 2 for x in lst])  # Output: [2, 4, 6, 8, 10]\n"
      ],
      "metadata": {
        "id": "fm8GtBpCpLTW"
      },
      "execution_count": null,
      "outputs": []
    },
    {
      "cell_type": "markdown",
      "source": [
        "Q6. Analyze the performance benefits of NumPy arrays over Python lists for large-scale numerical operations.\n",
        "Ans.NumPy arrays provide significant performance benefits over Python lists for large-scale numerical operations, especially when working with large datasets or performing repetitive numerical computations. Here’s a closer look at the key reasons for these performance gains:\n",
        "\n",
        "1. Memory Efficiency\n",
        "Homogeneous Data Types: In NumPy arrays (ndarrays), all elements have the same data type, allowing fixed-size storage. This is more memory-efficient than Python lists, where each element is a separate object and stored as a reference, creating memory overhead.\n",
        "Contiguous Memory Allocation: NumPy arrays are stored in contiguous blocks of memory, while Python lists store elements as pointers to memory locations. The contiguous memory structure enhances CPU cache utilization, making access and manipulation of data faster.\n",
        "Example:"
      ],
      "metadata": {
        "id": "gl5jh8S_pMUN"
      }
    },
    {
      "cell_type": "code",
      "source": [
        "import numpy as np\n",
        "import sys\n",
        "\n",
        "# Python list\n",
        "python_list = [1] * 10**6\n",
        "print(f\"Python list memory usage: {sys.getsizeof(python_list)} bytes\")\n",
        "\n",
        "# NumPy array\n",
        "numpy_array = np.ones(10**6, dtype=np.int32)\n",
        "print(f\"NumPy array memory usage: {numpy_array.nbytes} bytes\")\n"
      ],
      "metadata": {
        "id": "3rvgzRZ3pdRL"
      },
      "execution_count": null,
      "outputs": []
    },
    {
      "cell_type": "markdown",
      "source": [
        "This example typically shows that NumPy arrays consume significantly less memory than lists with similar contents, particularly for large datasets.\n",
        "\n",
        "2. Vectorized Operations\n",
        "Elimination of Explicit Loops: NumPy supports vectorized operations, allowing operations to be applied to entire arrays without explicit Python loops. Python lists require looping through each element, which can be slow, especially for large lists.\n",
        "Lower-Level Optimizations: NumPy’s vectorized operations are implemented in compiled C code, making them much faster than Python’s interpreted loops.\n",
        "Example:"
      ],
      "metadata": {
        "id": "aZRzus1GpPpF"
      }
    },
    {
      "cell_type": "code",
      "source": [
        "# Adding two arrays element-wise in NumPy (fast)\n",
        "numpy_array1 = np.array([1, 2, 3])\n",
        "numpy_array2 = np.array([4, 5, 6])\n",
        "result = numpy_array1 + numpy_array2  # Vectorized addition\n",
        "\n",
        "# Adding two lists element-wise (slow)\n",
        "python_list1 = [1, 2, 3]\n",
        "python_list2 = [4, 5, 6]\n",
        "result_list = [a + b for a, b in zip(python_list1, python_list2)]\n"
      ],
      "metadata": {
        "id": "qL_GN4i8pO5t"
      },
      "execution_count": null,
      "outputs": []
    },
    {
      "cell_type": "markdown",
      "source": [
        "In this example, the NumPy addition is faster and requires fewer lines of code than the equivalent list operation.\n",
        "\n",
        "3. Broadcasting\n",
        "Automatic Alignment of Array Dimensions: NumPy arrays support broadcasting, which allows operations between arrays of different shapes, automatically aligning dimensions when compatible. Python lists don’t support broadcasting, requiring explicit handling of shapes in loops.\n",
        "Efficient Memory Usage in Operations: Broadcasting enables operations on arrays of different shapes without creating large intermediate arrays, which reduces memory usage and improves speed.\n",
        "Example:"
      ],
      "metadata": {
        "id": "k6QoZ1g2pk_N"
      }
    },
    {
      "cell_type": "code",
      "source": [
        "# Broadcasting in NumPy\n",
        "large_array = np.array([1, 2, 3]) * np.ones((3, 3))  # Broadcasting\n",
        "# Equivalent list operation would require nested loops\n"
      ],
      "metadata": {
        "id": "WS5LwJz3pn93"
      },
      "execution_count": null,
      "outputs": []
    },
    {
      "cell_type": "markdown",
      "source": [
        "4. Specialized Mathematical Functions\n",
        "Extensive Built-in Functions: NumPy provides functions optimized for operations like summation, trigonometric functions, matrix operations, and more. These functions are implemented in compiled code, providing speed and efficiency benefits over using Python’s math library or custom functions with lists.\n",
        "Efficient Aggregation: Aggregation functions (like np.sum, np.mean, etc.) are optimized for NumPy arrays, whereas similar operations with lists often require explicit loops and are much slower.\n",
        "Example:"
      ],
      "metadata": {
        "id": "MPrLIppGppqP"
      }
    },
    {
      "cell_type": "code",
      "source": [
        "large_array = np.random.rand(10**6)\n",
        "\n",
        "# Fast aggregation with NumPy\n",
        "mean_value = np.mean(large_array)\n",
        "\n",
        "# Equivalent aggregation with a Python list\n",
        "python_list = large_array.tolist()\n",
        "mean_value_list = sum(python_list) / len(python_list)  # Much slower\n"
      ],
      "metadata": {
        "id": "Mc0bJrxqpr6H"
      },
      "execution_count": null,
      "outputs": []
    },
    {
      "cell_type": "markdown",
      "source": [
        "5. Parallelization and Hardware Optimization\n",
        "BLAS and LAPACK: NumPy uses optimized libraries (BLAS and LAPACK) for linear algebra operations, allowing it to take advantage of highly optimized, low-level routines.\n",
        "Parallel Processing: NumPy can leverage multi-core processors for certain operations, which is beneficial when working with large datasets. Python lists do not natively support parallelization in this way.\n",
        "Performance Comparison Example"
      ],
      "metadata": {
        "id": "SvVikWe9ptlf"
      }
    },
    {
      "cell_type": "code",
      "source": [
        "import numpy as np\n",
        "import time\n",
        "\n",
        "# Large arrays and lists\n",
        "size = 10**6\n",
        "numpy_array = np.arange(size)\n",
        "python_list = list(range(size))\n",
        "\n",
        "# NumPy addition\n",
        "start = time.time()\n",
        "numpy_result = numpy_array + 1\n",
        "end = time.time()\n",
        "print(\"NumPy addition time:\", end - start)\n",
        "\n",
        "# Python list addition\n",
        "start = time.time()\n",
        "python_result = [x + 1 for x in python_list]\n",
        "end = time.time()\n",
        "print(\"Python list addition time:\", end - start)\n"
      ],
      "metadata": {
        "id": "SHnCswX2pyRh"
      },
      "execution_count": null,
      "outputs": []
    },
    {
      "cell_type": "markdown",
      "source": [
        "Q7. Compare vstack() and hstack() functions in NumPy. Provide examples demonstrating their usage and\n",
        "output.\n",
        "Anz.In NumPy, vstack() and hstack() are functions used to stack arrays along different axes, enabling you to combine arrays in either a vertical or horizontal direction. Here’s a comparison of the two functions and examples to illustrate their usage:\n",
        "\n",
        "np.vstack()\n",
        "Purpose: Stacks arrays vertically (row-wise).\n",
        "Operation: Combines arrays by appending rows of one array below the rows of another.\n",
        "Input Requirement: Arrays must have the same number of columns.\n",
        "Example:"
      ],
      "metadata": {
        "id": "YIet4mgSpwuo"
      }
    },
    {
      "cell_type": "code",
      "source": [
        "import numpy as np\n",
        "\n",
        "# Creating two 2D arrays\n",
        "arr1 = np.array([[1, 2],\n",
        "                 [3, 4]])\n",
        "arr2 = np.array([[5, 6],\n",
        "                 [7, 8]])\n",
        "\n",
        "# Using vstack to stack them vertically\n",
        "result_vstack = np.vstack((arr1, arr2))\n",
        "print(result_vstack)\n",
        "# Output:\n",
        "# [[1, 2]\n",
        "#  [3, 4]\n",
        "#  [5, 6]\n",
        "#  [7, 8]]\n"
      ],
      "metadata": {
        "id": "7YTEhMWHpv3f"
      },
      "execution_count": null,
      "outputs": []
    },
    {
      "cell_type": "markdown",
      "source": [
        "np.hstack()\n",
        "Purpose: Stacks arrays horizontally (column-wise).\n",
        "Operation: Combines arrays by appending columns of one array to the columns of another.\n",
        "Input Requirement: Arrays must have the same number of rows.\n",
        "Example:"
      ],
      "metadata": {
        "id": "hK9p6fuSrZLb"
      }
    },
    {
      "cell_type": "code",
      "source": [
        "# Using hstack to stack them horizontally\n",
        "result_hstack = np.hstack((arr1, arr2))\n",
        "print(result_hstack)\n",
        "# Output:\n",
        "# [[1, 2, 5, 6]\n",
        "#  [3, 4, 7, 8]]\n"
      ],
      "metadata": {
        "id": "P4CZVlRfrb9T"
      },
      "execution_count": null,
      "outputs": []
    },
    {
      "cell_type": "markdown",
      "source": [
        "Summary of Differences\n",
        "Feature\tnp.vstack()\tnp.hstack()\n",
        "Stacking Type\tVertical (row-wise)\tHorizontal (column-wise)\n",
        "Dimensions\tStacks along rows\tStacks along columns\n",
        "Shape Requirement\tSame number of columns\tSame number of rows\n",
        "Example with 1D Arrays\n",
        "Both functions can also work with 1D arrays, though they behave differently."
      ],
      "metadata": {
        "id": "Mj0XXi3orc86"
      }
    },
    {
      "cell_type": "code",
      "source": [
        "# 1D arrays\n",
        "arr1 = np.array([1, 2])\n",
        "arr2 = np.array([3, 4])\n",
        "\n",
        "# Using vstack\n",
        "result_vstack_1d = np.vstack((arr1, arr2))\n",
        "print(result_vstack_1d)\n",
        "# Output:\n",
        "# [[1, 2]\n",
        "#  [3, 4]]\n",
        "\n",
        "# Using hstack\n",
        "result_hstack_1d = np.hstack((arr1, arr2))\n",
        "print(result_hstack_1d)\n",
        "# Output:\n",
        "# [1, 2, 3, 4]\n"
      ],
      "metadata": {
        "id": "dcOCUC3PrhxL"
      },
      "execution_count": null,
      "outputs": []
    },
    {
      "cell_type": "markdown",
      "source": [
        "Q8. Explain the differences between fliplr() and flipud() methods in NumPy, including their effects on various\n",
        "array dimensions.\n",
        "Ans.In NumPy, fliplr() and flipud() are functions used to flip arrays along specific axes, allowing you to reverse the orientation of an array either horizontally or vertically. Here’s a detailed look at each function and how they affect arrays of different dimensions.\n",
        "\n",
        "np.fliplr()\n",
        "Purpose: Flips an array horizontally (left-to-right).\n",
        "Effect: Reverses the order of columns.\n",
        "Input Requirement: Works on arrays with at least 2 dimensions (e.g., 2D or 3D arrays).\n",
        "Behavior with Higher Dimensions: Only flips elements along the second axis (axis=1), so each row is reversed.\n",
        "Example with a 2D Array:"
      ],
      "metadata": {
        "id": "QVqWIRwusG39"
      }
    },
    {
      "cell_type": "code",
      "source": [
        "import numpy as np\n",
        "\n",
        "# 2D array\n",
        "arr = np.array([[1, 2, 3],\n",
        "                [4, 5, 6],\n",
        "                [7, 8, 9]])\n",
        "\n",
        "# Applying fliplr\n",
        "result_fliplr = np.fliplr(arr)\n",
        "print(result_fliplr)\n",
        "# Output:\n",
        "# [[3, 2, 1]\n",
        "#  [6, 5, 4]\n",
        "#  [9, 8, 7]]\n"
      ],
      "metadata": {
        "id": "IQAWtxIEsqIB"
      },
      "execution_count": null,
      "outputs": []
    },
    {
      "cell_type": "code",
      "source": [
        "# 3D array\n",
        "arr_3d = np.array([[[1, 2], [3, 4]],\n",
        "                   [[5, 6], [7, 8]]])\n",
        "\n",
        "# Applying fliplr on 3D array\n",
        "result_fliplr_3d = np.fliplr(arr_3d)\n",
        "print(result_fliplr_3d)\n",
        "# Output:\n",
        "# [[[3, 4]\n",
        "#   [1, 2]]\n",
        "#  [[7, 8]\n",
        "#   [5, 6]]]\n"
      ],
      "metadata": {
        "id": "p8-tQT1Jsttq"
      },
      "execution_count": null,
      "outputs": []
    },
    {
      "cell_type": "markdown",
      "source": [
        "In this 3D case, only the second axis (axis=1) is flipped, so each 2D \"slice\" of the 3D array is flipped horizontally.\n",
        "np.flipud()\n",
        "Purpose: Flips an array vertically (up-to-down).\n",
        "Effect: Reverses the order of rows.\n",
        "Input Requirement: Works on arrays with at least 1 dimension (e.g., 1D, 2D, or 3D arrays).\n",
        "Behavior with Higher Dimensions: Only flips elements along the first axis (axis=0), so rows are reversed, but elements within each row retain their order.\n",
        "Example with a 2D Array:"
      ],
      "metadata": {
        "id": "-GMzZ41TsrmA"
      }
    },
    {
      "cell_type": "code",
      "source": [
        "# 2D array\n",
        "arr = np.array([[1, 2, 3],\n",
        "                [4, 5, 6],\n",
        "                [7, 8, 9]])\n",
        "\n",
        "# Applying flipud\n",
        "result_flipud = np.flipud(arr)\n",
        "print(result_flipud)\n",
        "# Output:\n",
        "# [[7, 8, 9]\n",
        "#  [4, 5, 6]\n",
        "#  [1, 2, 3]]\n"
      ],
      "metadata": {
        "id": "HJwFguTMsyQE"
      },
      "execution_count": null,
      "outputs": []
    },
    {
      "cell_type": "code",
      "source": [
        "# 1D array\n",
        "arr_1d = np.array([1, 2, 3, 4])\n",
        "\n",
        "# Applying flipud on 1D array\n",
        "result_flipud_1d = np.flipud(arr_1d)\n",
        "print(result_flipud_1d)\n",
        "# Output: [4, 3, 2, 1]\n"
      ],
      "metadata": {
        "id": "pm1hm4Lcs11z"
      },
      "execution_count": null,
      "outputs": []
    },
    {
      "cell_type": "markdown",
      "source": [
        "Summary of Differences Between np.fliplr() and np.flipud()\n",
        "Feature\tnp.fliplr()\tnp.flipud()\n",
        "Flip Direction\tHorizontal (left-to-right)\tVertical (up-to-down)\n",
        "Axis Affected\tSecond axis (axis=1)\tFirst axis (axis=0)\n",
        "Supported Dimensions\tRequires at least 2D arrays\tSupports arrays with any dimension\n",
        "Effect on 1D Array\tNot applicable\tReverses the 1D array"
      ],
      "metadata": {
        "id": "839cho2Es0AN"
      }
    },
    {
      "cell_type": "markdown",
      "source": [
        "Q9. Discuss the functionality of the array_split() method in NumPy. How does it handle uneven splits?\n",
        "Ans.The array_split() method in NumPy is used to split an array into multiple sub-arrays. Unlike np.split(), which requires evenly sized splits and raises an error if the array cannot be divided evenly, array_split() can handle uneven splits gracefully by creating smaller sub-arrays as needed.\n",
        "\n",
        "Functionality of np.array_split()\n",
        "Purpose: Split an array into multiple sub-arrays along a specified axis.\n",
        "Syntax: np.array_split(array, sections, axis=0)\n",
        "array: The input array to split.\n",
        "sections: The number of sections to split the array into, or a list of indices to specify split points.\n",
        "axis: The axis along which to split the array (default is axis=0).\n",
        "Handling Uneven Splits\n",
        "When the number of elements in the array is not perfectly divisible by the number of sections, array_split() distributes elements as evenly as possible:\n",
        "\n",
        "If array_split() is given a section count that does not divide evenly into the array, the first few sub-arrays will contain an extra element.\n",
        "For example, if you split an array of 10 elements into 3 sections, the first two sections will contain 4 elements each, and the last section will contain 2 elements.\n",
        "Examples of array_split()\n",
        "Example 1: Even Split"
      ],
      "metadata": {
        "id": "xVkiZGeos6R7"
      }
    },
    {
      "cell_type": "code",
      "source": [
        "import numpy as np\n",
        "\n",
        "arr = np.array([1, 2, 3, 4, 5, 6])\n",
        "\n",
        "# Splitting into 3 equal sections\n",
        "result_even_split = np.array_split(arr, 3)\n",
        "print(result_even_split)\n",
        "# Output: [array([1, 2]), array([3, 4]), array([5, 6])]\n"
      ],
      "metadata": {
        "id": "6yKskCVAtF8x"
      },
      "execution_count": null,
      "outputs": []
    },
    {
      "cell_type": "markdown",
      "source": [
        "Here, each sub-array has an equal number of elements because the array can be evenly divided by 3.\n",
        "\n",
        "Example 2: Uneven Split"
      ],
      "metadata": {
        "id": "5y5MpR0ltGit"
      }
    },
    {
      "cell_type": "code",
      "source": [
        "arr = np.array([1, 2, 3, 4, 5, 6, 7])\n",
        "\n",
        "# Splitting into 3 sections\n",
        "result_uneven_split = np.array_split(arr, 3)\n",
        "print(result_uneven_split)\n",
        "# Output: [array([1, 2, 3]), array([4, 5]), array([6, 7])]\n"
      ],
      "metadata": {
        "id": "ncSivtFAtInP"
      },
      "execution_count": null,
      "outputs": []
    },
    {
      "cell_type": "markdown",
      "source": [
        "Since the array has 7 elements, it cannot be split evenly into 3 parts. Here:\n",
        "\n",
        "The first sub-array receives 3 elements.\n",
        "The next two sub-arrays each receive 2 elements.\n",
        "Example 3: Specifying Split Points\n",
        "You can also use a list of indices to specify split points rather than the number of sections."
      ],
      "metadata": {
        "id": "l-BIumPjtKFG"
      }
    },
    {
      "cell_type": "code",
      "source": [
        "arr = np.array([1, 2, 3, 4, 5, 6, 7])\n",
        "\n",
        "# Splitting at specific indices\n",
        "result_index_split = np.array_split(arr, [2, 5])\n",
        "print(result_index_split)\n",
        "# Output: [array([1, 2]), array([3, 4, 5]), array([6, 7])]\n"
      ],
      "metadata": {
        "id": "kZk9XkzptL1L"
      },
      "execution_count": null,
      "outputs": []
    },
    {
      "cell_type": "markdown",
      "source": [
        "Here, the array is split at indices 2 and 5, producing sub-arrays:\n",
        "\n",
        "Elements before index 2: [1, 2]\n",
        "Elements from index 2 to 5: [3, 4, 5]\n",
        "Elements from index 5 onward: [6, 7]\n",
        "Key Points\n",
        "Flexible Splits: array_split() allows for flexible splitting, making it ideal for situations where data may not be perfectly divisible.\n",
        "Uneven Sections: When the split is uneven, the method distributes the extra elements to the earlier sub-arrays, keeping each sub-array as even in size as possible.\n",
        "Axis Control: array_split() allows specifying the axis along which to split, which is useful for multi-dimensional arrays."
      ],
      "metadata": {
        "id": "_6U8Fz39tNZk"
      }
    },
    {
      "cell_type": "markdown",
      "source": [
        "Q10. Explain the concepts of vectorization and broadcasting in NumPy. How do they contribute to efficient array\n",
        "operations?\n",
        "Ans.Vectorization and broadcasting are two fundamental concepts in NumPy that greatly enhance its efficiency and performance for array operations. Understanding these concepts is essential for leveraging NumPy's capabilities in numerical computing and data analysis.\n",
        "\n",
        "Vectorization\n",
        "Definition: Vectorization refers to the process of converting operations that typically require explicit loops in Python into array operations that are performed in a single step. In other words, it allows you to perform element-wise operations on entire arrays without the need for iterative control structures.\n",
        "\n",
        "How It Works:\n",
        "\n",
        "NumPy operations are implemented in C, which allows them to be executed much faster than Python loops.\n",
        "By using vectorized operations, you can leverage optimized, low-level implementations that are highly efficient.\n",
        "Benefits:\n",
        "\n",
        "Performance: Vectorized operations are significantly faster than traditional loops because they reduce the overhead of Python’s interpreter.\n",
        "Readability: Code becomes cleaner and easier to understand. Instead of multiple lines of looping code, vectorized operations condense operations into a single expression.\n",
        "Example of Vectorization:"
      ],
      "metadata": {
        "id": "Ij-6P92MtSCd"
      }
    },
    {
      "cell_type": "code",
      "source": [
        "import numpy as np\n",
        "\n",
        "# Creating a large array\n",
        "arr = np.arange(1, 1000001)\n",
        "\n",
        "# Using vectorized operation to square each element\n",
        "squared = arr ** 2  # No explicit loops\n"
      ],
      "metadata": {
        "id": "sVzQwnDbtkMk"
      },
      "execution_count": null,
      "outputs": []
    },
    {
      "cell_type": "markdown",
      "source": [
        "Broadcasting\n",
        "Definition: Broadcasting is a mechanism that allows NumPy to work with arrays of different shapes during arithmetic operations. It automatically expands the smaller array’s shape to match the larger array's shape, making element-wise operations possible.\n",
        "\n",
        "How It Works:\n",
        "\n",
        "When performing operations between arrays of different shapes, NumPy checks if the shapes are compatible. If they are not, it tries to \"broadcast\" the smaller array across the larger one by repeating its elements.\n",
        "Broadcasting follows a set of rules that determine how arrays are aligned:\n",
        "If the arrays have a different number of dimensions, the smaller array is padded with ones on its left side until both shapes have the same length.\n",
        "The sizes of the dimensions are compared element-wise. Two dimensions are compatible when:\n",
        "They are equal, or\n",
        "One of them is 1, which allows the smaller array to be stretched.\n",
        "Benefits:\n",
        "\n",
        "Efficiency: Broadcasting eliminates the need to create copies of arrays, leading to significant savings in memory and computational resources.\n",
        "Flexibility: It allows for operations between arrays of different shapes without manual reshaping, simplifying code and reducing potential errors.\n",
        "Example of Broadcasting:"
      ],
      "metadata": {
        "id": "omYRVFeutlhJ"
      }
    },
    {
      "cell_type": "code",
      "source": [
        "# 1D array\n",
        "arr_1d = np.array([1, 2, 3])\n",
        "\n",
        "# 2D array\n",
        "arr_2d = np.array([[10], [20], [30]])\n",
        "\n",
        "# Broadcasting adds the 1D array to each row of the 2D array\n",
        "result = arr_1d + arr_2d\n",
        "print(result)\n",
        "# Output:\n",
        "# [[11, 12, 13],\n",
        "#  [21, 22, 23],\n",
        "#  [31, 32, 33]]\n"
      ],
      "metadata": {
        "id": "STPfxFDbtohP"
      },
      "execution_count": null,
      "outputs": []
    },
    {
      "cell_type": "markdown",
      "source": [
        "Contribution to Efficient Array Operations\n",
        "Both vectorization and broadcasting contribute significantly to efficient array operations in several ways:\n",
        "\n",
        "Reduced Overhead: By avoiding explicit loops and minimizing memory usage through broadcasting, operations are faster and more memory-efficient.\n",
        "Optimized Performance: Operations performed in C at a low level are highly optimized, leading to better performance in numerical computations.\n",
        "Cleaner Code: These concepts promote cleaner and more readable code, which is easier to maintain and debug.\n",
        "Enhanced Capabilities: They allow for more complex array manipulations and mathematical operations without cumbersome code."
      ],
      "metadata": {
        "id": "BWn7nbNGtqEH"
      }
    },
    {
      "cell_type": "markdown",
      "source": [
        "Practical Questions:\n",
        "Q1. Create a 3x3 NumPy array with random integers between 1 and 100. Then, interchange its rows and columns.\n",
        "Ans."
      ],
      "metadata": {
        "id": "m6NnhpcDtuT_"
      }
    },
    {
      "cell_type": "code",
      "source": [
        "import numpy as np\n",
        "\n",
        "# Create a 3x3 NumPy array with random integers between 1 and 100\n",
        "random_array = np.random.randint(1, 101, size=(3, 3))\n",
        "\n",
        "# Interchanging rows and columns (transpose the array)\n",
        "interchanged_array = random_array.T\n",
        "\n",
        "# Display the results\n",
        "print(\"Original Array:\")\n",
        "print(random_array)\n",
        "print(\"\\nInterchanged Array:\")\n",
        "print(interchanged_array)\n"
      ],
      "metadata": {
        "id": "EmsSBcMMuDl3"
      },
      "execution_count": null,
      "outputs": []
    },
    {
      "cell_type": "markdown",
      "source": [
        "Q2. Generate a 1D NumPy array with 10 elements. Reshape it into a 2x5 array, then into a 5x2 array\n",
        "Ans."
      ],
      "metadata": {
        "id": "MGXZRUPpuEQh"
      }
    },
    {
      "cell_type": "code",
      "source": [
        "import numpy as np\n",
        "\n",
        "# Generate a 1D NumPy array with 10 elements\n",
        "array_1d = np.arange(10)  # Creates an array with elements from 0 to 9\n",
        "\n",
        "# Reshape it into a 2x5 array\n",
        "array_2x5 = array_1d.reshape(2, 5)\n",
        "\n",
        "# Reshape it into a 5x2 array\n",
        "array_5x2 = array_1d.reshape(5, 2)\n",
        "\n",
        "# Display the results\n",
        "print(\"Original 1D Array:\")\n",
        "print(array_1d)\n",
        "\n",
        "print(\"\\nReshaped to 2x5 Array:\")\n",
        "print(array_2x5)\n",
        "\n",
        "print(\"\\nReshaped to 5x2 Array:\")\n",
        "print(array_5x2)\n"
      ],
      "metadata": {
        "id": "8d4rxv4RuV_Y"
      },
      "execution_count": null,
      "outputs": []
    },
    {
      "cell_type": "markdown",
      "source": [
        "Q3. Create a 4x4 NumPy array with random float values. Add a border of zeros around it, resulting in a 6x6 array\n",
        "Ans"
      ],
      "metadata": {
        "id": "WRptJ1tWudu0"
      }
    },
    {
      "cell_type": "code",
      "source": [
        "import numpy as np\n",
        "\n",
        "# Create a 4x4 NumPy array with random float values\n",
        "array_4x4 = np.random.random((4, 4))\n",
        "\n",
        "# Add a border of zeros around the 4x4 array to create a 6x6 array\n",
        "array_6x6 = np.pad(array_4x4, pad_width=1, mode='constant', constant_values=0)\n",
        "\n",
        "# Display the results\n",
        "print(\"Original 4x4 Array:\")\n",
        "print(array_4x4)\n",
        "\n",
        "print(\"\\n6x6 Array with a Border of Zeros:\")\n",
        "print(array_6x6)\n"
      ],
      "metadata": {
        "id": "u9b4JUlluxDA"
      },
      "execution_count": null,
      "outputs": []
    },
    {
      "cell_type": "markdown",
      "source": [
        "Q4. Using NumPy, create an array of integers from 10 to 60 with a step of 5\n",
        "Ans."
      ],
      "metadata": {
        "id": "dtbV-2gIu3BQ"
      }
    },
    {
      "cell_type": "code",
      "source": [
        "import numpy as np\n",
        "\n",
        "# Create an array of integers from 10 to 60 with a step of 5\n",
        "array = np.arange(10, 61, 5)\n",
        "\n",
        "print(array)\n"
      ],
      "metadata": {
        "id": "IeZmqKMyvEiV"
      },
      "execution_count": null,
      "outputs": []
    },
    {
      "cell_type": "markdown",
      "source": [
        "Q5. Create a NumPy array of strings ['python', 'numpy', 'pandas']. Apply different case transformations\n",
        "(uppercase, lowercase, title case, etc.) to each element.\n",
        "Ans."
      ],
      "metadata": {
        "id": "EUr2ddJovFTU"
      }
    },
    {
      "cell_type": "code",
      "source": [
        "import numpy as np\n",
        "\n",
        "# Create a NumPy array of strings\n",
        "array = np.array(['python', 'numpy', 'pandas'])\n",
        "\n",
        "# Apply different case transformations\n",
        "uppercase = np.char.upper(array)     # Uppercase\n",
        "lowercase = np.char.lower(array)     # Lowercase\n",
        "titlecase = np.char.title(array)     # Title Case\n",
        "capitalize = np.char.capitalize(array) # Capitalize\n",
        "\n",
        "# Print the results\n",
        "print(\"Original Array:\", array)\n",
        "print(\"Uppercase:\", uppercase)\n",
        "print(\"Lowercase:\", lowercase)\n",
        "print(\"Title Case:\", titlecase)\n",
        "print(\"Capitalize:\", capitalize)\n"
      ],
      "metadata": {
        "id": "qn9O484-vRee"
      },
      "execution_count": null,
      "outputs": []
    },
    {
      "cell_type": "markdown",
      "source": [
        "Q6. Generate a NumPy array of words. Insert a space between each character of every word in the array.\n",
        "Ans."
      ],
      "metadata": {
        "id": "JRLTCarHvVzC"
      }
    },
    {
      "cell_type": "code",
      "source": [
        "import numpy as np\n",
        "\n",
        "# Create a NumPy array of words\n",
        "words = np.array(['hello', 'world', 'numpy', 'python'])\n",
        "\n",
        "# Insert a space between each character of every word\n",
        "spaced_words = np.char.join(' ', words)\n",
        "\n",
        "# Print the results\n",
        "print(\"Original Array:\", words)\n",
        "print(\"Words with Spaces:\", spaced_words)\n"
      ],
      "metadata": {
        "id": "A0fl_Bh7vmVt"
      },
      "execution_count": null,
      "outputs": []
    },
    {
      "cell_type": "markdown",
      "source": [
        "Q7. Create two 2D NumPy arrays and perform element-wise addition, subtraction, multiplication, and division\n",
        "Ans."
      ],
      "metadata": {
        "id": "K27rt7bpvnJF"
      }
    },
    {
      "cell_type": "code",
      "source": [
        "import numpy as np\n",
        "\n",
        "# Create two 2D NumPy arrays\n",
        "array1 = np.array([[1, 2, 3],\n",
        "                   [4, 5, 6],\n",
        "                   [7, 8, 9]])\n",
        "\n",
        "array2 = np.array([[9, 8, 7],\n",
        "                   [6, 5, 4],\n",
        "                   [3, 2, 1]])\n",
        "\n",
        "# Perform element-wise addition\n",
        "addition = array1 + array2\n",
        "\n",
        "# Perform element-wise subtraction\n",
        "subtraction = array1 - array2\n",
        "\n",
        "# Perform element-wise multiplication\n",
        "multiplication = array1 * array2\n",
        "\n",
        "# Perform element-wise division\n",
        "division = array1 / array2\n",
        "\n",
        "# Print the results\n",
        "print(\"Array 1:\\n\", array1)\n",
        "print(\"Array 2:\\n\", array2)\n",
        "print(\"Element-wise Addition:\\n\", addition)\n",
        "print(\"Element-wise Subtraction:\\n\", subtraction)\n",
        "print(\"Element-wise Multiplication:\\n\", multiplication)\n",
        "print(\"Element-wise Division:\\n\", division)\n"
      ],
      "metadata": {
        "id": "AIctRDRov4LY"
      },
      "execution_count": null,
      "outputs": []
    },
    {
      "cell_type": "markdown",
      "source": [
        "Q8. Use NumPy to create a 5x5 identity matrix, then extract its diagonal elements."
      ],
      "metadata": {
        "id": "eM5B28lJv48l"
      }
    },
    {
      "cell_type": "code",
      "source": [
        "import numpy as np\n",
        "\n",
        "# Create a 5x5 identity matrix\n",
        "identity_matrix = np.eye(5)\n",
        "\n",
        "# Extract the diagonal elements\n",
        "diagonal_elements = np.diagonal(identity_matrix)\n",
        "\n",
        "# Print the results\n",
        "print(\"5x5 Identity Matrix:\\n\", identity_matrix)\n",
        "print(\"Diagonal Elements:\", diagonal_elements)\n"
      ],
      "metadata": {
        "id": "PRYGm1ZWwBqG"
      },
      "execution_count": null,
      "outputs": []
    },
    {
      "cell_type": "markdown",
      "source": [
        "Q9. Generate a NumPy array of 100 random integers between 0 and 1000. Find and display all prime numbers in\n",
        "this array."
      ],
      "metadata": {
        "id": "X6sv89q_wCjN"
      }
    },
    {
      "cell_type": "code",
      "source": [
        "import numpy as np\n",
        "\n",
        "# Generate an array of 100 random integers between 0 and 1000\n",
        "random_integers = np.random.randint(0, 1001, size=100)\n",
        "\n",
        "# Function to check if a number is prime\n",
        "def is_prime(n):\n",
        "    if n <= 1:\n",
        "        return False\n",
        "    for i in range(2, int(n**0.5) + 1):\n",
        "        if n % i == 0:\n",
        "            return False\n",
        "    return True\n",
        "\n",
        "# Find all prime numbers in the random integers array\n",
        "prime_numbers = [num for num in random_integers if is_prime(num)]\n",
        "\n",
        "# Print the results\n",
        "print(\"Random Integers Array:\", random_integers)\n",
        "print(\"Prime Numbers in the Array:\", prime_numbers)\n"
      ],
      "metadata": {
        "id": "Bpd9UCeJwJaB"
      },
      "execution_count": null,
      "outputs": []
    },
    {
      "cell_type": "markdown",
      "source": [
        "Q10. Create a NumPy array representing daily temperatures for a month. Calculate and display the weekly\n",
        "averages."
      ],
      "metadata": {
        "id": "QLbgmsozwLi9"
      }
    },
    {
      "cell_type": "code",
      "source": [
        "import numpy as np\n",
        "\n",
        "# Create a NumPy array representing daily temperatures for a month (30 days)\n",
        "# For example, random temperatures between 15 and 30 degrees Celsius\n",
        "daily_temperatures = np.random.randint(15, 31, size=30)\n",
        "\n",
        "# Reshape the array to have 4 weeks (with 7 days each) and a partial week (3 days)\n",
        "weekly_temperatures = daily_temperatures.reshape(4, 7)\n",
        "\n",
        "# Calculate weekly averages\n",
        "weekly_averages = np.mean(weekly_temperatures, axis=1)\n",
        "\n",
        "# Print the results\n",
        "print(\"Daily Temperatures for the Month:\", daily_temperatures)\n",
        "print(\"Weekly Temperatures:\\n\", weekly_temperatures)\n",
        "print(\"Weekly Averages:\", weekly_averages)\n"
      ],
      "metadata": {
        "id": "j0VDrcyhwNtk"
      },
      "execution_count": null,
      "outputs": []
    }
  ]
}