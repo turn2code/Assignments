{
  "nbformat": 4,
  "nbformat_minor": 0,
  "metadata": {
    "colab": {
      "provenance": []
    },
    "kernelspec": {
      "name": "python3",
      "display_name": "Python 3"
    },
    "language_info": {
      "name": "python"
    }
  },
  "cells": [
    {
      "cell_type": "code",
      "execution_count": null,
      "metadata": {
        "id": "qL3vdU8_oW8M"
      },
      "outputs": [],
      "source": [
        "EDA Assignment"
      ]
    },
    {
      "cell_type": "markdown",
      "source": [
        "1.What is the range of selling prices in the dataset\n",
        "Ans.Range of selling prices: ₹5,000 – ₹7,60,000\n",
        "\n"
      ],
      "metadata": {
        "id": "bHGgAvqqocFs"
      }
    },
    {
      "cell_type": "markdown",
      "source": [
        "2.What is the median selling price for bikes in the dataset\n",
        "Ans.Median selling price: ₹45,000\n"
      ],
      "metadata": {
        "id": "9EVCYsc3om39"
      }
    },
    {
      "cell_type": "markdown",
      "source": [
        "3.What is the most common seller type\n",
        "Ans.Most common seller type: Individual"
      ],
      "metadata": {
        "id": "NPxnTdI0osaK"
      }
    },
    {
      "cell_type": "markdown",
      "source": [
        "4.How many bikes have driven more than 50,000 kilometers\n",
        "Ans.Number of bikes driven more than 50,000 km: 170"
      ],
      "metadata": {
        "id": "68s4v7lvoxfr"
      }
    },
    {
      "cell_type": "markdown",
      "source": [
        "5.What is the average km_driven value for each ownership type\n",
        "Ans.Average km_driven for each ownership type:\n",
        "1st owner: 32,816 km\n",
        "2nd owner: 39,289 km\n",
        "3rd owner: 33,292 km\n",
        "4th owner: 3,11,500 km (likely an outlier)"
      ],
      "metadata": {
        "id": "UcCI9P1Po2bc"
      }
    },
    {
      "cell_type": "markdown",
      "source": [
        "6.What proportion of bikes are from the year 2015 or older\n",
        "Ans.Proportion of bikes from 2015 or older: 56.6%"
      ],
      "metadata": {
        "id": "wtha9CFOo9ZF"
      }
    },
    {
      "cell_type": "markdown",
      "source": [
        "7.What is the trend of missing values across the dataset\n",
        "Ans.Missing values trend:\n",
        "ex_showroom_price has 435 missing values"
      ],
      "metadata": {
        "id": "fXD0DsSDpExt"
      }
    },
    {
      "cell_type": "markdown",
      "source": [
        "8.What is the highest ex_showroom_price recorded, and for which bike\n",
        "Ans.Highest ex_showroom_price and bike: ₹12,78,000 (Harley-Davidson Street Bob)"
      ],
      "metadata": {
        "id": "g51JC6vtpK38"
      }
    },
    {
      "cell_type": "markdown",
      "source": [
        "9.What is the total number of bikes listed by each seller type\n",
        "Ans.Total bikes listed by each seller type:\n",
        "Individual: 1,055\n",
        "Dealer: 6"
      ],
      "metadata": {
        "id": "H4cKcx5tpSir"
      }
    },
    {
      "cell_type": "code",
      "source": [
        "import matplotlib.pyplot as plt\n",
        "import seaborn as sns\n",
        "\n",
        "# Filter data for first-owner bikes\n",
        "first_owner_bikes = df[df[\"owner\"] == \"1st owner\"]\n",
        "\n",
        "# Scatter plot for selling_price vs km_driven\n",
        "plt.figure(figsize=(8, 5))\n",
        "sns.scatterplot(x=first_owner_bikes[\"km_driven\"], y=first_owner_bikes[\"selling_price\"], alpha=0.5)\n",
        "plt.xlabel(\"Kilometers Driven\")\n",
        "plt.ylabel(\"Selling Price (₹)\")\n",
        "plt.title(\"Relationship between Selling Price and KM Driven (First Owner Bikes)\")\n",
        "plt.show()\n"
      ],
      "metadata": {
        "id": "kbH7vFjwpjhz"
      },
      "execution_count": null,
      "outputs": []
    },
    {
      "cell_type": "markdown",
      "source": [
        "EDA-2 Assignment"
      ],
      "metadata": {
        "id": "5ytSW6sVpY5r"
      }
    },
    {
      "cell_type": "markdown",
      "source": [
        "1.What is the average selling price of cars for each dealer, and how does it compare across different dealers\n",
        "Ans avg_price_by_dealer = df.groupby(\"Dealer\")[\"Selling_Price\"].mean()\n",
        "print(avg_price_by_dealer)\n"
      ],
      "metadata": {
        "id": "MmC3Ap77pzk7"
      }
    },
    {
      "cell_type": "markdown",
      "source": [
        "2.Which car brand (Company) has the highest variation in prices, and what does this tell us about the pricing\n",
        "trends\n",
        "Ans.price_variation = df.groupby(\"Company\")[\"Selling_Price\"].std().sort_values(ascending=False)\n",
        "print(price_variation.head())  # Show top brands with highest variation\n"
      ],
      "metadata": {
        "id": "ALYr2yqBq1lq"
      }
    },
    {
      "cell_type": "markdown",
      "source": [
        "3.What is the distribution of car prices for each transmission type, and how do the interquartile ranges\n",
        "compare\n",
        "ans.import seaborn as sns\n",
        "import matplotlib.pyplot as plt\n",
        "\n",
        "plt.figure(figsize=(8, 5))\n",
        "sns.boxplot(x=\"Transmission\", y=\"Selling_Price\", data=df)\n",
        "plt.title(\"Distribution of Car Prices by Transmission Type\")\n",
        "plt.show()\n"
      ],
      "metadata": {
        "id": "DEXigkFhq8hC"
      }
    },
    {
      "cell_type": "markdown",
      "source": [
        "4.What is the distribution of car prices across different regions\n",
        "Ans.plt.figure(figsize=(8, 5))\n",
        "sns.boxplot(x=\"Region\", y=\"Selling_Price\", data=df)\n",
        "plt.xticks(rotation=45)\n",
        "plt.title(\"Car Price Distribution Across Regions\")\n",
        "plt.show()\n"
      ],
      "metadata": {
        "id": "Yf5b7-ISrA-q"
      }
    },
    {
      "cell_type": "markdown",
      "source": [
        "5.What is the distribution of cars based on body styles\n",
        "Ans.body_style_counts = df[\"Body_Style\"].value_counts()\n",
        "print(body_style_counts)\n",
        "\n",
        "# Visualizing\n",
        "plt.figure(figsize=(8, 5))\n",
        "sns.barplot(x=body_style_counts.index, y=body_style_counts.values)\n",
        "plt.xticks(rotation=45)\n",
        "plt.title(\"Distribution of Cars Based on Body Style\")\n",
        "plt.show()\n"
      ],
      "metadata": {
        "id": "dsUGTAGWrGA-"
      }
    },
    {
      "cell_type": "markdown",
      "source": [
        "6.How does the average selling price of cars vary by customer gender and annual income\n",
        "Ans avg_price_by_gender_income = df.groupby([\"Customer_Gender\", \"Annual_Income\"])[\"Selling_Price\"].mean()\n",
        "print(avg_price_by_gender_income)\n"
      ],
      "metadata": {
        "id": "5387r1DqrPvy"
      }
    },
    {
      "cell_type": "markdown",
      "source": [
        "7.What is the distribution of car prices by region, and how does the number of cars sold vary by region\n",
        "Ans.plt.figure(figsize=(8, 5))\n",
        "sns.scatterplot(x=\"Engine_Size\", y=\"Selling_Price\", data=df, alpha=0.5)\n",
        "plt.title(\"Car Price vs. Engine Size\")\n",
        "plt.show()\n"
      ],
      "metadata": {
        "id": "HFJtZAIprYIq"
      }
    },
    {
      "cell_type": "markdown",
      "source": [
        "8.How does the average car price differ between cars with different engine sizes\n",
        "Ans.top_5_models = df[\"Car_Model\"].value_counts().head(5)\n",
        "print(top_5_models)\n",
        "\n",
        "# Price distribution of these models\n",
        "top_models = df[df[\"Car_Model\"].isin(top_5_models.index)]\n",
        "plt.figure(figsize=(8, 5))\n",
        "sns.boxplot(x=\"Car_Model\", y=\"Selling_Price\", data=top_models)\n",
        "plt.xticks(rotation=45)\n",
        "plt.title(\"Price Distribution of Top 5 Car Models\")\n",
        "plt.show()\n"
      ],
      "metadata": {
        "id": "ucBml1OUrgIs"
      }
    },
    {
      "cell_type": "markdown",
      "source": [
        "9. How do car prices vary based on the customer’s annual income bracket\n",
        "Ans.df[\"Sale_Date\"] = pd.to_datetime(df[\"Sale_Date\"])  # Ensure correct format\n",
        "df[\"Month\"] = df[\"Sale_Date\"].dt.month\n",
        "\n",
        "monthly_sales = df.groupby(\"Month\").size()\n",
        "plt.figure(figsize=(8, 5))\n",
        "sns.lineplot(x=monthly_sales.index, y=monthly_sales.values, marker=\"o\")\n",
        "plt.xticks(range(1, 13), [\"Jan\", \"Feb\", \"Mar\", \"Apr\", \"May\", \"Jun\", \"Jul\", \"Aug\", \"Sep\", \"Oct\", \"Nov\", \"Dec\"])\n",
        "plt.title(\"Seasonal Trend in Car Sales\")\n",
        "plt.show()\n"
      ],
      "metadata": {
        "id": "cmT_wAUirpoc"
      }
    },
    {
      "cell_type": "markdown",
      "source": [
        "EDA-3\n",
        "1.What is the average rating for each product category\n",
        "Ans.avg_rating_by_category = df.groupby(\"category\")[\"rating\"].mean()\n",
        "print(avg_rating_by_category)\n"
      ],
      "metadata": {
        "id": "12TB3JT0r1CL"
      }
    },
    {
      "cell_type": "markdown",
      "source": [
        "2.What are the top rating_count products by category\n",
        "Ans.top_rated_products = df.groupby(\"category\").apply(lambda x: x.nlargest(5, \"rating_count\"))\n",
        "print(top_rated_products[[\"category\", \"product_name\", \"rating_count\"]])\n"
      ],
      "metadata": {
        "id": "w3I4cGtMt-ud"
      }
    },
    {
      "cell_type": "markdown",
      "source": [
        "3.What is the distribution of discounted prices vs. actual prices\n",
        "Ans.import seaborn as sns\n",
        "import matplotlib.pyplot as plt\n",
        "\n",
        "plt.figure(figsize=(8, 5))\n",
        "sns.histplot(df[\"discounted_price\"], color=\"blue\", label=\"Discounted Price\", kde=True)\n",
        "sns.histplot(df[\"actual_price\"], color=\"red\", label=\"Actual Price\", kde=True, alpha=0.6)\n",
        "plt.legend()\n",
        "plt.title(\"Distribution of Discounted Prices vs. Actual Prices\")\n",
        "plt.show()\n"
      ],
      "metadata": {
        "id": "DG49XeeAuHC0"
      }
    },
    {
      "cell_type": "markdown",
      "source": [
        "4. How does the average discount percentage vary across categories\n",
        "Ans.df[\"discount_percentage\"] = ((df[\"actual_price\"] - df[\"discounted_price\"]) / df[\"actual_price\"]) * 100\n",
        "avg_discount_by_category = df.groupby(\"category\")[\"discount_percentage\"].mean()\n",
        "print(avg_discount_by_category)\n"
      ],
      "metadata": {
        "id": "fKwvvCrZuOSx"
      }
    },
    {
      "cell_type": "markdown",
      "source": [
        "5.What are the most popular product names\n",
        "Ans.popular_products = df.groupby(\"product_name\")[\"rating_count\"].sum().sort_values(ascending=False).head(5)\n",
        "print(popular_products)\n"
      ],
      "metadata": {
        "id": "95nzeXyQuVIz"
      }
    },
    {
      "cell_type": "markdown",
      "source": [
        "6.What are the most popular product keywords\n",
        "Ans.from collections import Counter\n",
        "\n",
        "all_words = \" \".join(df[\"product_name\"]).split()\n",
        "word_counts = Counter(all_words)\n",
        "\n",
        "# Get the top 10 most common words\n",
        "most_common_keywords = word_counts.most_common(10)\n",
        "print(most_common_keywords)\n"
      ],
      "metadata": {
        "id": "JzgXcQylufXc"
      }
    },
    {
      "cell_type": "markdown",
      "source": [
        "7.What are the most popular product reviews\n",
        "Ans.top_reviews = df.nlargest(5, \"rating_count\")[[\"product_name\", \"reviews\"]]\n",
        "print(top_reviews)\n"
      ],
      "metadata": {
        "id": "qHLXa6DVuk9R"
      }
    },
    {
      "cell_type": "markdown",
      "source": [
        "8.What is the correlation between discounted_price and rating\n",
        "Ans.correlation = df[[\"discounted_price\", \"rating\"]].corr()\n",
        "print(correlation)\n"
      ],
      "metadata": {
        "id": "x_kGRC6huqbC"
      }
    },
    {
      "cell_type": "markdown",
      "source": [
        "9.' What are the Top 5 categories based on the highest rating\n",
        "Ans.top_categories = df.groupby(\"category\")[\"rating\"].mean().sort_values(ascending=False).head(5)\n",
        "print(top_categories)\n"
      ],
      "metadata": {
        "id": "B02vSiR_uvZR"
      }
    },
    {
      "cell_type": "markdown",
      "source": [
        "10. Identify any potential areas for improvement or optimization based on the data analysis\n",
        "Ans.# Checking for missing values\n",
        "missing_values = df.isnull().sum()\n",
        "print(\"Missing Values:\\n\", missing_values)\n",
        "\n",
        "# Identifying categories with the lowest ratings\n",
        "lowest_rated_categories = df.groupby(\"category\")[\"rating\"].mean().sort_values().head(5)\n",
        "print(\"Lowest Rated Categories:\\n\", lowest_rated_categories)\n",
        "\n",
        "# Analyzing price vs. rating to check if expensive products have lower ratings\n",
        "plt.figure(figsize=(8, 5))\n",
        "sns.scatterplot(x=df[\"discounted_price\"], y=df[\"rating\"], alpha=0.5)\n",
        "plt.title(\"Correlation Between Price and Ratings\")\n",
        "plt.show()\n"
      ],
      "metadata": {
        "id": "z4w5_OCtu14K"
      }
    },
    {
      "cell_type": "markdown",
      "source": [],
      "metadata": {
        "id": "8THn_BOkvEwO"
      }
    },
    {
      "cell_type": "code",
      "source": [],
      "metadata": {
        "id": "VLqLXXMuq0wr"
      },
      "execution_count": null,
      "outputs": []
    }
  ]
}