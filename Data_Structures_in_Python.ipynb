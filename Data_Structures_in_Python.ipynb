{
  "nbformat": 4,
  "nbformat_minor": 0,
  "metadata": {
    "colab": {
      "provenance": []
    },
    "kernelspec": {
      "name": "python3",
      "display_name": "Python 3"
    },
    "language_info": {
      "name": "python"
    }
  },
  "cells": [
    {
      "cell_type": "markdown",
      "source": [
        "Q1.Write a code to reverse a string.\n",
        "Ans."
      ],
      "metadata": {
        "id": "0qfqV2bY50Y_"
      }
    },
    {
      "cell_type": "code",
      "source": [
        "def reverse_string(s):\n",
        "    return s[::-1]\n",
        "\n",
        "string = \"Hello, World!\"\n",
        "reversed_string = reverse_string(string)\n",
        "print(reversed_string)"
      ],
      "metadata": {
        "id": "XhWWd95X7OIb"
      },
      "execution_count": null,
      "outputs": []
    },
    {
      "cell_type": "markdown",
      "source": [
        "Q2Write a code to count the number of vowels in a string"
      ],
      "metadata": {
        "id": "fsLMzsUX7HCe"
      }
    },
    {
      "cell_type": "code",
      "source": [
        "def count_vowels(s):\n",
        "    vowels = \"aeiouAEIOU\"\n",
        "    count = 0\n",
        "    for char in s:\n",
        "        if char in vowels:\n",
        "            count += 1\n",
        "    return count\n",
        "\n",
        "\n",
        "string = \"Hello, World!\"\n",
        "vowel_count = count_vowels(string)\n",
        "print(f\"Number of vowels: {vowel_count}\")"
      ],
      "metadata": {
        "id": "jMuWsfpx7XVS"
      },
      "execution_count": null,
      "outputs": []
    },
    {
      "cell_type": "markdown",
      "source": [
        "Q3.Write a code to check if a given string is a palindrome or not"
      ],
      "metadata": {
        "id": "qeCNImiP7cNC"
      }
    },
    {
      "cell_type": "code",
      "source": [
        "def is_palindrome(s):\n",
        "\n",
        "    s = s.replace(\" \", \"\").lower()\n",
        "\n",
        "    return s == s[::-1]\n",
        "\n",
        "\n",
        "string = \"A man a plan a canal Panama\"\n",
        "if is_palindrome(string):\n",
        "    print(f'\"{string}\" is a palindrome.')\n",
        "else:\n",
        "    print(f'\"{string}\" is not a palindrome.')"
      ],
      "metadata": {
        "id": "1axzGVG67j6k"
      },
      "execution_count": null,
      "outputs": []
    },
    {
      "cell_type": "markdown",
      "source": [
        "Q4.Write a code to check if two given strings are anagrams of each other"
      ],
      "metadata": {
        "id": "v5pc5bbe7nij"
      }
    },
    {
      "cell_type": "code",
      "source": [
        "def are_anagrams(str1, str2):\n",
        "\n",
        "    str1 = str1.replace(\" \", \"\").lower()\n",
        "    str2 = str2.replace(\" \", \"\").lower()\n",
        "\n",
        "\n",
        "    return sorted(str1) == sorted(str2)\n",
        "\n",
        "\n",
        "string1 = \"Listen\"\n",
        "string2 = \"Silent\"\n",
        "\n",
        "if are_anagrams(string1, string2):\n",
        "    print(f'\"{string1}\" and \"{string2}\" are anagrams.')\n",
        "else:\n",
        "    print(f'\"{string1}\" and \"{string2}\" are not anagrams.')"
      ],
      "metadata": {
        "id": "cT0JaGtC7u4S"
      },
      "execution_count": null,
      "outputs": []
    },
    {
      "cell_type": "markdown",
      "source": [
        "q5.Write a code to find all occurrences of a given substring within another string"
      ],
      "metadata": {
        "id": "5xTIsa0X727K"
      }
    },
    {
      "cell_type": "code",
      "source": [
        "def find_occurrences(s, substring):\n",
        "    occurrences = []\n",
        "    start = 0\n",
        "\n",
        "    while True:\n",
        "\n",
        "        index = s.find(substring, start)\n",
        "\n",
        "\n",
        "        if index == -1:\n",
        "            break\n",
        "\n",
        "\n",
        "        occurrences.append(index)\n",
        "\n",
        "\n",
        "        start = index + 1\n",
        "\n",
        "    return occurrences\n",
        "\n",
        "string = \"This is a test. This is only a test.\"\n",
        "substring = \"is\"\n",
        "occurrences = find_occurrences(string, substring)\n",
        "\n",
        "if occurrences:\n",
        "    print(f'Occurrences of \"{substring}\" found at positions: {occurrences}')\n",
        "else:\n",
        "    print(f'No occurrences of \"{substring}\" found.')"
      ],
      "metadata": {
        "id": "0UXNDc3I8Lja"
      },
      "execution_count": null,
      "outputs": []
    },
    {
      "cell_type": "markdown",
      "source": [
        "Q6.Write a code to perform basic string compression using the counts of repeated characters"
      ],
      "metadata": {
        "id": "o9d_-sdd8QCr"
      }
    },
    {
      "cell_type": "code",
      "source": [
        "def compress_string(s):\n",
        "    if not s:\n",
        "        return \"\"\n",
        "\n",
        "    compressed = []\n",
        "    count = 1\n",
        "\n",
        "    for i in range(1, len(s)):\n",
        "        if s[i] == s[i - 1]:\n",
        "            count += 1\n",
        "        else:\n",
        "            compressed.append(s[i - 1] + str(count))\n",
        "            count = 1\n",
        "\n",
        "    compressed.append(s[-1] + str(count))\n",
        "\n",
        "\n",
        "    compressed_string = ''.join(compressed)\n",
        "\n",
        "\n",
        "    return compressed_string if len(compressed_string) < len(s) else s\n",
        "\n",
        "string = \"aabcccccaaa\"\n",
        "compressed_string = compress_string(string)\n",
        "print(f\"Compressed string: {compressed_string}\")\n"
      ],
      "metadata": {
        "id": "P0hXr49r8Uey"
      },
      "execution_count": null,
      "outputs": []
    },
    {
      "cell_type": "markdown",
      "source": [
        "q7Write a code to determine if a string has all unique characters"
      ],
      "metadata": {
        "id": "TVdq_tHA8b85"
      }
    },
    {
      "cell_type": "code",
      "source": [
        "def has_unique_characters(s):\n",
        "    char_set = set()\n",
        "\n",
        "    for char in s:\n",
        "\n",
        "        if char in char_set:\n",
        "            return False\n",
        "        char_set.add(char)\n",
        "\n",
        "    return True\n",
        "\n",
        "string = \"abcdef\"\n",
        "if has_unique_characters(string):\n",
        "    print(f'\"{string}\" has all unique characters.')\n",
        "else:\n",
        "    print(f'\"{string}\" does not have all unique characters.')\n"
      ],
      "metadata": {
        "id": "TLuZTzne8lKq"
      },
      "execution_count": null,
      "outputs": []
    },
    {
      "cell_type": "markdown",
      "source": [
        "q8.Write a code to convert a given string to uppercase or lowercase"
      ],
      "metadata": {
        "id": "CKq6l3HF8qga"
      }
    },
    {
      "cell_type": "code",
      "source": [
        "def convert_case(s, to_upper=True):\n",
        "    if to_upper:\n",
        "        return s.upper()  # Convert to uppercase\n",
        "    else:\n",
        "        return s.lower()  # Convert to lowercase\n",
        "\n",
        "# Example usage:\n",
        "string = \"Hello, World!\"\n",
        "\n",
        "# Convert to uppercase\n",
        "uppercase_string = convert_case(string, to_upper=True)\n",
        "print(f\"Uppercase: {uppercase_string}\")\n",
        "\n",
        "# Convert to lowercase\n",
        "lowercase_string = convert_case(string, to_upper=False)\n",
        "print(f\"Lowercase: {lowercase_string}\")\n"
      ],
      "metadata": {
        "id": "VrlYzjY98vtJ"
      },
      "execution_count": null,
      "outputs": []
    },
    {
      "cell_type": "markdown",
      "source": [
        "Q9 Write a code to count the number of words in a string"
      ],
      "metadata": {
        "id": "oqjS6-x881FE"
      }
    },
    {
      "cell_type": "code",
      "source": [
        "def count_words(s):\n",
        "    # Split the string by spaces into words\n",
        "    words = s.split()\n",
        "    # Return the length of the list of words\n",
        "    return len(words)\n",
        "\n",
        "# Example usage:\n",
        "string = \"Hello, how are you doing today?\"\n",
        "word_count = count_words(string)\n",
        "print(f\"Number of words: {word_count}\")\n"
      ],
      "metadata": {
        "id": "AOCNz-A89ASg"
      },
      "execution_count": null,
      "outputs": []
    },
    {
      "cell_type": "markdown",
      "source": [
        "Q10.Write a code to concatenate two strings without using the + operator"
      ],
      "metadata": {
        "id": "P5N7woDl89KA"
      }
    },
    {
      "cell_type": "code",
      "source": [
        "def concatenate_strings(str1, str2):\n",
        "\n",
        "    return ''.join([str1, str2])\n",
        "\n",
        "string1 = \"Hello\"\n",
        "string2 = \"World\"\n",
        "result = concatenate_strings(string1, string2)\n",
        "print(f\"Concatenated string: {result}\")\n"
      ],
      "metadata": {
        "id": "GYAA-ea39Huo"
      },
      "execution_count": null,
      "outputs": []
    },
    {
      "cell_type": "markdown",
      "source": [
        "Q11 Write a code to remove all occurrences of a specific element from a list"
      ],
      "metadata": {
        "id": "fQ-0ZziF9Lrq"
      }
    },
    {
      "cell_type": "code",
      "source": [
        "def remove_occurrences(lst, element):\n",
        "\n",
        "    return [item for item in lst if item != element]\n",
        "\n",
        "\n",
        "my_list = [1, 2, 3, 4, 2, 5, 2, 6]\n",
        "element_to_remove = 2\n",
        "updated_list = remove_occurrences(my_list, element_to_remove)\n",
        "\n",
        "print(f\"Original list: {my_list}\")\n",
        "print(f\"Updated list: {updated_list}\")\n"
      ],
      "metadata": {
        "id": "bB07rKvu9Sux"
      },
      "execution_count": null,
      "outputs": []
    },
    {
      "cell_type": "markdown",
      "source": [
        "Q12Implement a code to find the second largest number in a given list of integers"
      ],
      "metadata": {
        "id": "yrGuTobS9eUi"
      }
    },
    {
      "cell_type": "code",
      "source": [
        "def find_second_largest(numbers):\n",
        "    # Remove duplicates by converting the list to a set\n",
        "    unique_numbers = set(numbers)\n",
        "\n",
        "    # If there are less than 2 unique numbers, return None\n",
        "    if len(unique_numbers) < 2:\n",
        "        return None\n",
        "\n",
        "    # Remove the largest number\n",
        "    unique_numbers.remove(max(unique_numbers))\n",
        "\n",
        "    # Return the new largest number, which is the second largest\n",
        "    return max(unique_numbers)\n",
        "\n",
        "# Example usage:\n",
        "my_list = [5, 3, 9, 1, 9, 7]\n",
        "second_largest = find_second_largest(my_list)\n",
        "\n",
        "if second_largest is not None:\n",
        "    print(f\"The second largest number is: {second_largest}\")\n",
        "else:\n",
        "    print(\"There are not enough unique numbers to determine the second largest.\")\n"
      ],
      "metadata": {
        "id": "UMPdKbor99ZS"
      },
      "execution_count": null,
      "outputs": []
    },
    {
      "cell_type": "markdown",
      "source": [
        "Q13. Create a code to count the occurrences of each element in a list and return a dictionary with elements as\n",
        "keys and their counts as values"
      ],
      "metadata": {
        "id": "NzvBpbbs-Cwg"
      }
    },
    {
      "cell_type": "code",
      "source": [
        "def count_occurrences(lst):\n",
        "    # Create an empty dictionary to store the counts\n",
        "    count_dict = {}\n",
        "\n",
        "    for element in lst:\n",
        "        # Increment the count for each element in the dictionary\n",
        "        if element in count_dict:\n",
        "            count_dict[element] += 1\n",
        "        else:\n",
        "            count_dict[element] = 1\n",
        "\n",
        "    return count_dict\n",
        "\n",
        "# Example usage:\n",
        "my_list = [1, 2, 2, 3, 4, 4, 4, 5]\n",
        "occurrences = count_occurrences(my_list)\n",
        "print(occurrences)\n"
      ],
      "metadata": {
        "id": "rgHwbA0o-SvQ"
      },
      "execution_count": null,
      "outputs": []
    },
    {
      "cell_type": "markdown",
      "source": [
        "Q14.Write a code to reverse a list in-place without using any built-in reverse functions"
      ],
      "metadata": {
        "id": "JexZFfoH-Tqi"
      }
    },
    {
      "cell_type": "code",
      "source": [
        "def reverse_list(lst):\n",
        "    # Initialize pointers\n",
        "    left = 0\n",
        "    right = len(lst) - 1\n",
        "\n",
        "    # Swap elements until the pointers meet in the middle\n",
        "    while left < right:\n",
        "        # Swap the elements at the left and right pointers\n",
        "        lst[left], lst[right] = lst[right], lst[left]\n",
        "        # Move the pointers towards the center\n",
        "        left += 1\n",
        "        right -= 1\n",
        "\n",
        "# Example usage:\n",
        "my_list = [1, 2, 3, 4, 5]\n",
        "print(f\"Original list: {my_list}\")\n",
        "reverse_list(my_list)\n",
        "print(f\"Reversed list: {my_list}\")\n"
      ],
      "metadata": {
        "id": "NKmE4KlI-dBY"
      },
      "execution_count": null,
      "outputs": []
    },
    {
      "cell_type": "markdown",
      "source": [
        "Q15.Implement a code to find and remove duplicates from a list while preserving the original order of\n",
        "elements"
      ],
      "metadata": {
        "id": "f-wPyiT0-jZw"
      }
    },
    {
      "cell_type": "code",
      "source": [
        "def remove_duplicates(lst):\n",
        "    seen = set()         # Set to keep track of seen elements\n",
        "    result = []          # List to store the result\n",
        "\n",
        "    for element in lst:\n",
        "        if element not in seen:\n",
        "            seen.add(element)  # Add to seen set\n",
        "            result.append(element)  # Append to result list if not seen\n",
        "\n",
        "    return result\n",
        "\n",
        "# Example usage:\n",
        "my_list = [1, 2, 3, 2, 4, 1, 5]\n",
        "unique_list = remove_duplicates(my_list)\n",
        "print(f\"Original list: {my_list}\")\n",
        "print(f\"List after removing duplicates: {unique_list}\")\n"
      ],
      "metadata": {
        "id": "0oWch4-7-nxA"
      },
      "execution_count": null,
      "outputs": []
    },
    {
      "cell_type": "markdown",
      "source": [
        "Q16.Create a code to check if a given list is sorted (either in ascending or descending order) or not"
      ],
      "metadata": {
        "id": "3esMMJqP-sgC"
      }
    },
    {
      "cell_type": "code",
      "source": [
        "def is_sorted(lst):\n",
        "    if len(lst) < 2:\n",
        "        return True  # A list with 0 or 1 element is considered sorted\n",
        "\n",
        "    ascending = all(lst[i] <= lst[i + 1] for i in range(len(lst) - 1))\n",
        "    descending = all(lst[i] >= lst[i + 1] for i in range(len(lst) - 1))\n",
        "\n",
        "    return ascending or descending\n",
        "\n",
        "# Example usage:\n",
        "my_list1 = [1, 2, 3, 4, 5]  # Sorted in ascending order\n",
        "my_list2 = [5, 4, 3, 2, 1]  # Sorted in descending order\n",
        "my_list3 = [1, 3, 2, 4, 5]  # Not sorted\n",
        "\n",
        "print(f\"Is my_list1 sorted? {is_sorted(my_list1)}\")  # True\n",
        "print(f\"Is my_list2 sorted? {is_sorted(my_list2)}\")  # True\n",
        "print(f\"Is my_list3 sorted? {is_sorted(my_list3)}\")  # False\n"
      ],
      "metadata": {
        "id": "WS89cTKv-1ZP"
      },
      "execution_count": null,
      "outputs": []
    },
    {
      "cell_type": "markdown",
      "source": [
        "Q17.Write a code to merge two sorted lists into a single sorted list"
      ],
      "metadata": {
        "id": "rxYstsOw-2RI"
      }
    },
    {
      "cell_type": "code",
      "source": [
        "def merge_sorted_lists(list1, list2):\n",
        "    merged_list = []  # List to store the merged result\n",
        "    i, j = 0, 0  # Pointers for both lists\n",
        "\n",
        "    # Traverse both lists and compare elements\n",
        "    while i < len(list1) and j < len(list2):\n",
        "        if list1[i] < list2[j]:\n",
        "            merged_list.append(list1[i])  # Add smaller element to merged list\n",
        "            i += 1  # Move pointer in list1\n",
        "        else:\n",
        "            merged_list.append(list2[j])  # Add smaller element to merged list\n",
        "            j += 1  # Move pointer in list2\n",
        "\n",
        "    # Add remaining elements from list1, if any\n",
        "    while i < len(list1):\n",
        "        merged_list.append(list1[i])\n",
        "        i += 1\n",
        "\n",
        "    # Add remaining elements from list2, if any\n",
        "    while j < len(list2):\n",
        "        merged_list.append(list2[j])\n",
        "        j += 1\n",
        "\n",
        "    return merged_list\n",
        "\n",
        "# Example usage:\n",
        "sorted_list1 = [1, 3, 5, 7]\n",
        "sorted_list2 = [2, 4, 6, 8]\n",
        "merged = merge_sorted_lists(sorted_list1, sorted_list2)\n",
        "print(f\"Merged sorted list: {merged}\")\n"
      ],
      "metadata": {
        "id": "VnheiszE-8BJ"
      },
      "execution_count": null,
      "outputs": []
    },
    {
      "cell_type": "markdown",
      "source": [
        "Q18.Implement a code to find the intersection of two given lists"
      ],
      "metadata": {
        "id": "-zs3JmYY_BdP"
      }
    },
    {
      "cell_type": "code",
      "source": [
        "def intersection(list1, list2):\n",
        "    # Use a set to find common elements\n",
        "    set1 = set(list1)\n",
        "    set2 = set(list2)\n",
        "\n",
        "    # Find intersection\n",
        "    intersected_elements = set1.intersection(set2)\n",
        "\n",
        "    # Convert the result back to a list\n",
        "    return list(intersected_elements)\n",
        "\n",
        "# Example usage:\n",
        "list1 = [1, 2, 3, 4, 5]\n",
        "list2 = [4, 5, 6, 7, 8]\n",
        "result = intersection(list1, list2)\n",
        "print(f\"Intersection of the two lists: {result}\")\n"
      ],
      "metadata": {
        "id": "WPFTbIq__IPf"
      },
      "execution_count": null,
      "outputs": []
    },
    {
      "cell_type": "markdown",
      "source": [
        "Q19. Create a code to find the union of two lists without duplicates"
      ],
      "metadata": {
        "id": "b3hzjtO4_R3x"
      }
    },
    {
      "cell_type": "code",
      "source": [
        "def union(list1, list2):\n",
        "    # Use a set to store unique elements from both lists\n",
        "    unique_elements = set(list1)  # Start with elements from list1\n",
        "    unique_elements.update(list2)  # Add elements from list2\n",
        "\n",
        "    # Convert the set back to a list\n",
        "    return list(unique_elements)\n",
        "\n",
        "# Example usage:\n",
        "list1 = [1, 2, 3, 4, 5]\n",
        "list2 = [4, 5, 6, 7, 8]\n",
        "result = union(list1, list2)\n",
        "print(f\"Union of the two lists: {result}\")\n"
      ],
      "metadata": {
        "id": "vBkMNpR3_WY3"
      },
      "execution_count": null,
      "outputs": []
    },
    {
      "cell_type": "markdown",
      "source": [
        "Q20.Write a code to shuffle a given list randomly without using any built-in shuffle functions"
      ],
      "metadata": {
        "id": "PkR5UIin_ZxQ"
      }
    },
    {
      "cell_type": "code",
      "source": [
        "import random\n",
        "\n",
        "def shuffle_list(lst):\n",
        "    # Create a copy of the original list to avoid modifying it\n",
        "    shuffled = lst[:]\n",
        "    n = len(shuffled)\n",
        "\n",
        "    # Implementing the Fisher-Yates shuffle algorithm\n",
        "    for i in range(n - 1, 0, -1):\n",
        "        # Generate a random index from 0 to i\n",
        "        j = random.randint(0, i)\n",
        "        # Swap the elements at indices i and j\n",
        "        shuffled[i], shuffled[j] = shuffled[j], shuffled[i]\n",
        "\n",
        "    return shuffled\n",
        "\n",
        "# Example usage:\n",
        "my_list = [1, 2, 3, 4, 5]\n",
        "shuffled_list = shuffle_list(my_list)\n",
        "print(f\"Original list: {my_list}\")\n",
        "print(f\"Shuffled list: {shuffled_list}\")\n"
      ],
      "metadata": {
        "id": "TaU1HNLm_d0f"
      },
      "execution_count": null,
      "outputs": []
    },
    {
      "cell_type": "markdown",
      "source": [
        "Q21. Write a code that takes two tuples as input and returns a new tuple containing elements that are\n",
        "common to both input tuples"
      ],
      "metadata": {
        "id": "jPTrZFI1_nLH"
      }
    },
    {
      "cell_type": "code",
      "source": [
        "def common_elements(tuple1, tuple2):\n",
        "    # Convert tuples to sets to find common elements\n",
        "    set1 = set(tuple1)\n",
        "    set2 = set(tuple2)\n",
        "\n",
        "    # Find intersection and convert it back to a tuple\n",
        "    common = set1.intersection(set2)\n",
        "\n",
        "    return tuple(common)\n",
        "\n",
        "# Example usage:\n",
        "tuple1 = (1, 2, 3, 4, 5)\n",
        "tuple2 = (4, 5, 6, 7, 8)\n",
        "result = common_elements(tuple1, tuple2)\n",
        "print(f\"Common elements: {result}\")\n"
      ],
      "metadata": {
        "id": "qWRZbqmx_sFx"
      },
      "execution_count": null,
      "outputs": []
    },
    {
      "cell_type": "markdown",
      "source": [
        "Q22.Create a code that prompts the user to enter two sets of integers separated by commas. Then, print the\n",
        "intersection of these two sets"
      ],
      "metadata": {
        "id": "3MAxM0Vu_ugq"
      }
    },
    {
      "cell_type": "code",
      "source": [
        "def get_set_input(prompt):\n",
        "    # Prompt the user for input and split it into a list of strings\n",
        "    user_input = input(prompt)\n",
        "    # Convert the input strings to a set of integers\n",
        "    return set(int(num.strip()) for num in user_input.split(','))\n",
        "\n",
        "def main():\n",
        "    # Get two sets of integers from the user\n",
        "    set1 = get_set_input(\"Enter the first set of integers (separated by commas): \")\n",
        "    set2 = get_set_input(\"Enter the second set of integers (separated by commas): \")\n",
        "\n",
        "    # Find the intersection of the two sets\n",
        "    intersection = set1.intersection(set2)\n",
        "\n",
        "    # Print the intersection\n",
        "    print(f\"The intersection of the two sets is: {intersection}\")\n",
        "\n",
        "# Run the main function\n",
        "if __name__ == \"__main__\":\n",
        "    main()\n"
      ],
      "metadata": {
        "id": "Hj-O5CyO_xN_"
      },
      "execution_count": null,
      "outputs": []
    },
    {
      "cell_type": "markdown",
      "source": [
        "Q23.Write a code to concatenate two tuples. The function should take two tuples as input and return a new\n",
        "tuple containing elements from both input tuples."
      ],
      "metadata": {
        "id": "fy1yAQqf_0kY"
      }
    },
    {
      "cell_type": "code",
      "source": [
        "def concatenate_tuples(tuple1, tuple2):\n",
        "    # Concatenate the two tuples using the + operator\n",
        "    return tuple1 + tuple2\n",
        "\n",
        "# Example usage:\n",
        "tuple1 = (1, 2, 3)\n",
        "tuple2 = (4, 5, 6)\n",
        "result = concatenate_tuples(tuple1, tuple2)\n",
        "print(f\"Concatenated tuple: {result}\")\n"
      ],
      "metadata": {
        "id": "9bMjn9ed_88f"
      },
      "execution_count": null,
      "outputs": []
    },
    {
      "cell_type": "markdown",
      "source": [
        "Q24.Develop a code that prompts the user to input two sets of strings. Then, print the elements that are\n",
        "present in the first set but not in the second set&"
      ],
      "metadata": {
        "id": "y_0JTEDC_95_"
      }
    },
    {
      "cell_type": "code",
      "source": [
        "def get_set_input(prompt):\n",
        "    # Prompt the user for input and split it into a list of strings\n",
        "    user_input = input(prompt)\n",
        "    # Convert the input strings to a set of trimmed strings\n",
        "    return set(s.strip() for s in user_input.split(','))\n",
        "\n",
        "def main():\n",
        "    # Get two sets of strings from the user\n",
        "    set1 = get_set_input(\"Enter the first set of strings (separated by commas): \")\n",
        "    set2 = get_set_input(\"Enter the second set of strings (separated by commas): \")\n",
        "\n",
        "    # Find elements present in set1 but not in set2\n",
        "    difference = set1.difference(set2)\n",
        "\n",
        "    # Print the result\n",
        "    print(f\"Elements in the first set but not in the second set: {difference}\")\n",
        "\n",
        "# Run the main function\n",
        "if __name__ == \"__main__\":\n",
        "    main()\n"
      ],
      "metadata": {
        "id": "lGsQ_JzxACy_"
      },
      "execution_count": null,
      "outputs": []
    },
    {
      "cell_type": "code",
      "source": [
        "Enter the first set of strings (separated by commas): apple, banana, cherry\n",
        "Enter the second set of strings (separated by commas): banana, date, fig\n",
        "Elements in the first set but not in the second set: {'apple', 'cherry'}\n"
      ],
      "metadata": {
        "id": "DQkQRDgTALTR"
      },
      "execution_count": null,
      "outputs": []
    },
    {
      "cell_type": "markdown",
      "source": [
        "Q25.Create a code that takes a tuple and two integers as input. The function should return a new tuple\n",
        "containing elements from the original tuple within the specified range of indices"
      ],
      "metadata": {
        "id": "CquV0iUHAMTH"
      }
    },
    {
      "cell_type": "code",
      "source": [
        "def slice_tuple(original_tuple, start, end):\n",
        "    # Validate the indices\n",
        "    if start < 0 or end > len(original_tuple) or start > end:\n",
        "        raise ValueError(\"Invalid index range\")\n",
        "\n",
        "    # Return a new tuple sliced from the original tuple\n",
        "    return original_tuple[start:end]\n",
        "\n",
        "# Example usage:\n",
        "my_tuple = (10, 20, 30, 40, 50, 60)\n",
        "start_index = 2\n",
        "end_index = 5\n",
        "result = slice_tuple(my_tuple, start_index, end_index)\n",
        "print(f\"Sliced tuple: {result}\")\n"
      ],
      "metadata": {
        "id": "0RhGXlV9ASyH"
      },
      "execution_count": null,
      "outputs": []
    },
    {
      "cell_type": "code",
      "source": [
        "Sliced tuple: (30, 40, 50)\n"
      ],
      "metadata": {
        "id": "zr0uzD61AXgp"
      },
      "execution_count": null,
      "outputs": []
    },
    {
      "cell_type": "markdown",
      "source": [
        "Q26. Write a code that prompts the user to input two sets of characters. Then, print the union of these two sets"
      ],
      "metadata": {
        "id": "doLtFlwjAZd_"
      }
    },
    {
      "cell_type": "code",
      "source": [
        "def get_set_input(prompt):\n",
        "    # Prompt the user for input and split it into a list of characters\n",
        "    user_input = input(prompt)\n",
        "    # Convert the input strings to a set of characters\n",
        "    return set(char.strip() for char in user_input)\n",
        "\n",
        "def main():\n",
        "    # Get two sets of characters from the user\n",
        "    set1 = get_set_input(\"Enter the first set of characters (separated by commas): \")\n",
        "    set2 = get_set_input(\"Enter the second set of characters (separated by commas): \")\n",
        "\n",
        "    # Find the union of the two sets\n",
        "    union_set = set1.union(set2)\n",
        "\n",
        "    # Print the result\n",
        "    print(f\"The union of the two sets is: {union_set}\")\n",
        "\n",
        "# Run the main function\n",
        "if __name__ == \"__main__\":\n",
        "    main()\n"
      ],
      "metadata": {
        "id": "p1DD9nfFAev3"
      },
      "execution_count": null,
      "outputs": []
    },
    {
      "cell_type": "code",
      "source": [
        "Enter the first set of characters (separated by commas): a, b, c\n",
        "Enter the second set of characters (separated by commas): c, d, e\n",
        "The union of the two sets is: {'a', 'b', 'c', 'd', 'e'}\n"
      ],
      "metadata": {
        "id": "9txTrCGpAiUf"
      },
      "execution_count": null,
      "outputs": []
    },
    {
      "cell_type": "markdown",
      "source": [
        "Q27.Develop a code that takes a tuple of integers as input. The function should return the maximum and\n",
        "minimum values from the tuple using tuple unpacking&"
      ],
      "metadata": {
        "id": "GQ506j8nAkqJ"
      }
    },
    {
      "cell_type": "code",
      "source": [
        "def min_max_from_tuple(int_tuple):\n",
        "    # Check if the tuple is empty\n",
        "    if not int_tuple:\n",
        "        raise ValueError(\"The tuple cannot be empty\")\n",
        "\n",
        "    # Calculate the minimum and maximum values\n",
        "    minimum = min(int_tuple)\n",
        "    maximum = max(int_tuple)\n",
        "\n",
        "    # Return the values using tuple unpacking\n",
        "    return minimum, maximum\n",
        "\n",
        "# Example usage:\n",
        "my_tuple = (3, 1, 4, 1, 5, 9, 2, 6)\n",
        "min_value, max_value = min_max_from_tuple(my_tuple)\n",
        "print(f\"Minimum value: {min_value}, Maximum value: {max_value}\")\n"
      ],
      "metadata": {
        "id": "lRjLCXy_Aovg"
      },
      "execution_count": null,
      "outputs": []
    },
    {
      "cell_type": "code",
      "source": [
        "Minimum value: 1, Maximum value: 9\n"
      ],
      "metadata": {
        "id": "w4wCup1AAtQA"
      },
      "execution_count": null,
      "outputs": []
    },
    {
      "cell_type": "markdown",
      "source": [
        "Q28.Create a code that defines two sets of integers. Then, print the union, intersection, and difference of these\n",
        "two sets"
      ],
      "metadata": {
        "id": "33cckrvRAvL2"
      }
    },
    {
      "cell_type": "code",
      "source": [
        "def main():\n",
        "    # Define two sets of integers\n",
        "    set1 = {1, 2, 3, 4, 5}\n",
        "    set2 = {4, 5, 6, 7, 8}\n",
        "\n",
        "    # Calculate union, intersection, and difference\n",
        "    union_set = set1.union(set2)\n",
        "    intersection_set = set1.intersection(set2)\n",
        "    difference_set = set1.difference(set2)\n",
        "\n",
        "    # Print the results\n",
        "    print(f\"Set 1: {set1}\")\n",
        "    print(f\"Set 2: {set2}\")\n",
        "    print(f\"Union of Set 1 and Set 2: {union_set}\")\n",
        "    print(f\"Intersection of Set 1 and Set 2: {intersection_set}\")\n",
        "    print(f\"Difference of Set 1 and Set 2 (Set 1 - Set 2): {difference_set}\")\n",
        "\n",
        "# Run the main function\n",
        "if __name__ == \"__main__\":\n",
        "    main()\n"
      ],
      "metadata": {
        "id": "KhFMfxGcA6P4"
      },
      "execution_count": null,
      "outputs": []
    },
    {
      "cell_type": "code",
      "source": [
        "Set 1: {1, 2, 3, 4, 5}\n",
        "Set 2: {4, 5, 6, 7, 8}\n",
        "Union of Set 1 and Set 2: {1, 2, 3, 4, 5, 6, 7, 8}\n",
        "Intersection of Set 1 and Set 2: {4, 5}\n",
        "Difference of Set 1 and Set 2 (Set 1 - Set 2): {1, 2, 3}\n"
      ],
      "metadata": {
        "id": "3uUcsMA6A-UG"
      },
      "execution_count": null,
      "outputs": []
    },
    {
      "cell_type": "markdown",
      "source": [
        "Q29.Write a code that takes a tuple and an element as input. The function should return the count of\n",
        "occurrences of the given element in the tuple"
      ],
      "metadata": {
        "id": "vEZmW0TWA_um"
      }
    },
    {
      "cell_type": "code",
      "source": [
        "def count_occurrences(input_tuple, element):\n",
        "    # Count the occurrences of the element in the tuple\n",
        "    return input_tuple.count(element)\n",
        "\n",
        "# Example usage\n",
        "my_tuple = (1, 2, 3, 1, 4, 1, 5)\n",
        "element_to_count = 1\n",
        "count = count_occurrences(my_tuple, element_to_count)\n",
        "print(f\"The element {element_to_count} occurs {count} times in the tuple.\")\n"
      ],
      "metadata": {
        "id": "9REJmIfqBFUO"
      },
      "execution_count": null,
      "outputs": []
    },
    {
      "cell_type": "code",
      "source": [
        "The element 1 occurs 3 times in the tuple.\n"
      ],
      "metadata": {
        "id": "FYMJ5YPpBKMG"
      },
      "execution_count": null,
      "outputs": []
    },
    {
      "cell_type": "markdown",
      "source": [
        "Q30.Develop a code that prompts the user to input two sets of strings. Then, print the symmetric difference of\n",
        "these two sets"
      ],
      "metadata": {
        "id": "CB7zqXsnBL2m"
      }
    },
    {
      "cell_type": "code",
      "source": [
        "def get_set_input(prompt):\n",
        "    # Prompt the user for input and split it into a list of strings\n",
        "    user_input = input(prompt)\n",
        "    # Convert the input strings to a set of trimmed strings\n",
        "    return set(s.strip() for s in user_input.split(','))\n",
        "\n",
        "def main():\n",
        "    # Get two sets of strings from the user\n",
        "    set1 = get_set_input(\"Enter the first set of strings (separated by commas): \")\n",
        "    set2 = get_set_input(\"Enter the second set of strings (separated by commas): \")\n",
        "\n",
        "    # Find the symmetric difference of the two sets\n",
        "    symmetric_difference = set1.symmetric_difference(set2)\n",
        "\n",
        "    # Print the result\n",
        "    print(f\"The symmetric difference of the two sets is: {symmetric_difference}\")\n",
        "\n",
        "# Run the main function\n",
        "if __name__ == \"__main__\":\n",
        "    main()\n"
      ],
      "metadata": {
        "id": "XXh5jlG1BQDX"
      },
      "execution_count": null,
      "outputs": []
    },
    {
      "cell_type": "code",
      "source": [
        "Enter the first set of strings (separated by commas): apple, banana, cherry\n",
        "Enter the second set of strings (separated by commas): banana, date, fig\n",
        "The symmetric difference of the two sets is: {'fig', 'date', 'cherry', 'apple'}\n"
      ],
      "metadata": {
        "id": "gpuwo_jPBVvv"
      },
      "execution_count": null,
      "outputs": []
    },
    {
      "cell_type": "markdown",
      "source": [
        "Q31.Write a code that takes a list of words as input and returns a dictionary where the keys are unique words\n",
        "and the values are the frequencies of those words in the input list"
      ],
      "metadata": {
        "id": "zI6VGB16BY3O"
      }
    },
    {
      "cell_type": "code",
      "source": [
        "def word_frequencies(word_list):\n",
        "    # Create an empty dictionary to store word frequencies\n",
        "    frequency_dict = {}\n",
        "\n",
        "    # Iterate through the list of words\n",
        "    for word in word_list:\n",
        "        # If the word is already in the dictionary, increment its count\n",
        "        if word in frequency_dict:\n",
        "            frequency_dict[word] += 1\n",
        "        else:\n",
        "            # Otherwise, add the word to the dictionary with a count of 1\n",
        "            frequency_dict[word] = 1\n",
        "\n",
        "    return frequency_dict\n",
        "\n",
        "# Example usage\n",
        "words = [\"apple\", \"banana\", \"apple\", \"orange\", \"banana\", \"apple\"]\n",
        "result = word_frequencies(words)\n",
        "print(\"Word Frequencies:\", result)\n"
      ],
      "metadata": {
        "id": "NIvVytmFBduP"
      },
      "execution_count": null,
      "outputs": []
    },
    {
      "cell_type": "code",
      "source": [
        "Word Frequencies: {'apple': 3, 'banana': 2, 'orange': 1}\n"
      ],
      "metadata": {
        "id": "ZQxZV8KoBh3-"
      },
      "execution_count": null,
      "outputs": []
    },
    {
      "cell_type": "markdown",
      "source": [
        "Q32.Write a code that takes two dictionaries as input and merges them into a single dictionary. If there are\n",
        "common keys, the values should be added together"
      ],
      "metadata": {
        "id": "gGog9W2qBjVW"
      }
    },
    {
      "cell_type": "code",
      "source": [
        "def merge_dictionaries(dict1, dict2):\n",
        "    # Create a new dictionary to hold the merged result\n",
        "    merged_dict = dict1.copy()  # Start with a copy of the first dictionary\n",
        "\n",
        "    for key, value in dict2.items():\n",
        "        if key in merged_dict:\n",
        "            # If the key is common, add the values together\n",
        "            merged_dict[key] += value\n",
        "        else:\n",
        "            # If the key is not in the merged dictionary, add it\n",
        "            merged_dict[key] = value\n",
        "\n",
        "    return merged_dict\n",
        "\n",
        "# Example usage\n",
        "dict1 = {'a': 1, 'b': 2, 'c': 3}\n",
        "dict2 = {'b': 3, 'c': 4, 'd': 5}\n",
        "\n",
        "result = merge_dictionaries(dict1, dict2)\n",
        "print(\"Merged Dictionary:\", result)\n"
      ],
      "metadata": {
        "id": "udcYseXdBuz_"
      },
      "execution_count": null,
      "outputs": []
    },
    {
      "cell_type": "code",
      "source": [
        "Merged Dictionary: {'a': 1, 'b': 5, 'c': 7, 'd': 5}\n"
      ],
      "metadata": {
        "id": "aiBwtxOXBztV"
      },
      "execution_count": null,
      "outputs": []
    },
    {
      "cell_type": "markdown",
      "source": [
        "Q33.Write a code to access a value in a nested dictionary. The function should take the dictionary and a list of\n",
        "keys as input, and return the corresponding value. If any of the keys do not exist in the dictionary, the\n",
        "function should return None"
      ],
      "metadata": {
        "id": "5ks5gEY1B1eg"
      }
    },
    {
      "cell_type": "code",
      "source": [
        "def access_nested_value(nested_dict, keys):\n",
        "    current_value = nested_dict\n",
        "\n",
        "    for key in keys:\n",
        "        if isinstance(current_value, dict) and key in current_value:\n",
        "            current_value = current_value[key]\n",
        "        else:\n",
        "            return None  # Return None if the key doesn't exist\n",
        "\n",
        "    return current_value  # Return the final value\n",
        "\n",
        "# Example usage\n",
        "nested_dictionary = {\n",
        "    'a': {\n",
        "        'b': {\n",
        "            'c': 42\n",
        "        }\n",
        "    },\n",
        "    'x': {\n",
        "        'y': 100\n",
        "    }\n",
        "}\n",
        "\n",
        "keys_to_access = ['a', 'b', 'c']\n",
        "result = access_nested_value(nested_dictionary, keys_to_access)\n",
        "print(\"Accessed Value:\", result)  # Should print: Accessed Value: 42\n",
        "\n",
        "# Testing with a non-existing key\n",
        "keys_to_access_invalid = ['a', 'x', 'z']\n",
        "result_invalid = access_nested_value(nested_dictionary, keys_to_access_invalid)\n",
        "print(\"Accessed Value with Invalid Keys:\", result_invalid)  # Should print: Accessed Value with Invalid Keys: None\n"
      ],
      "metadata": {
        "id": "lG2VUUMzCBFm"
      },
      "execution_count": null,
      "outputs": []
    },
    {
      "cell_type": "markdown",
      "source": [
        "Q34. Write a code that takes a dictionary as input and returns a sorted version of it based on the values. You\n",
        "can choose whether to sort in ascending or descending order"
      ],
      "metadata": {
        "id": "Pxw3CflJCHFm"
      }
    },
    {
      "cell_type": "code",
      "source": [
        "def sort_dictionary_by_value(input_dict, descending=False):\n",
        "    # Sort the dictionary by values\n",
        "    sorted_dict = dict(sorted(input_dict.items(), key=lambda item: item[1], reverse=descending))\n",
        "    return sorted_dict\n",
        "\n",
        "# Example usage\n",
        "my_dict = {\n",
        "    'apple': 3,\n",
        "    'banana': 1,\n",
        "    'cherry': 2,\n",
        "    'date': 4\n",
        "}\n",
        "\n",
        "# Sort in ascending order\n",
        "sorted_asc = sort_dictionary_by_value(my_dict)\n",
        "print(\"Sorted Dictionary (Ascending):\", sorted_asc)\n",
        "\n",
        "# Sort in descending order\n",
        "sorted_desc = sort_dictionary_by_value(my_dict, descending=True)\n",
        "print(\"Sorted Dictionary (Descending):\", sorted_desc)\n"
      ],
      "metadata": {
        "id": "zvLvTfwTCMrd"
      },
      "execution_count": null,
      "outputs": []
    },
    {
      "cell_type": "code",
      "source": [
        "Sorted Dictionary (Ascending): {'banana': 1, 'cherry': 2, 'apple': 3, 'date': 4}\n",
        "Sorted Dictionary (Descending): {'date': 4, 'apple': 3, 'cherry': 2, 'banana': 1}\n"
      ],
      "metadata": {
        "id": "uRZ7vIXXCQcu"
      },
      "execution_count": null,
      "outputs": []
    },
    {
      "cell_type": "markdown",
      "source": [
        "Q35.Write a code that inverts a dictionary, swapping keys and values. Ensure that the inverted dictionary\n",
        "correctly handles cases where multiple keys have the same value by storing the keys as a list in the\n",
        "inverted dictionary."
      ],
      "metadata": {
        "id": "GJHtFgBhCSX-"
      }
    },
    {
      "cell_type": "code",
      "source": [
        "def invert_dictionary(input_dict):\n",
        "    inverted_dict = {}\n",
        "\n",
        "    for key, value in input_dict.items():\n",
        "        if value in inverted_dict:\n",
        "            # If the value is already in inverted_dict, append the key to the list\n",
        "            inverted_dict[value].append(key)\n",
        "        else:\n",
        "            # If the value is not in inverted_dict, create a new list with the key\n",
        "            inverted_dict[value] = [key]\n",
        "\n",
        "    return inverted_dict\n",
        "\n",
        "# Example usage\n",
        "original_dict = {\n",
        "    'a': 1,\n",
        "    'b': 2,\n",
        "    'c': 1,\n",
        "    'd': 3,\n",
        "    'e': 2\n",
        "}\n",
        "\n",
        "inverted_dict = invert_dictionary(original_dict)\n",
        "print(\"Inverted Dictionary:\", inverted_dict)\n"
      ],
      "metadata": {
        "id": "VYJwlTE9CcZn"
      },
      "execution_count": null,
      "outputs": []
    },
    {
      "cell_type": "code",
      "source": [
        "Inverted Dictionary: {1: ['a', 'c'], 2: ['b', 'e'], 3: ['d']}\n"
      ],
      "metadata": {
        "id": "_wb5XaHzCsA9"
      },
      "execution_count": null,
      "outputs": []
    }
  ]
}