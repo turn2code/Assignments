{
  "nbformat": 4,
  "nbformat_minor": 0,
  "metadata": {
    "colab": {
      "provenance": []
    },
    "kernelspec": {
      "name": "python3",
      "display_name": "Python 3"
    },
    "language_info": {
      "name": "python"
    }
  },
  "cells": [
    {
      "cell_type": "markdown",
      "source": [
        "Q1.What are the five key concepts of Object-Oriented Programming (OOP)?\n",
        "Ans.1. Classes and Objects\n",
        "Classes are blueprints for creating objects. A class defines attributes (properties) and methods (behaviors) that the created objects will have.\n",
        "Objects are instances of classes. When you create an object from a class, it inherits the class's properties and behaviors.\n",
        "Example:"
      ],
      "metadata": {
        "id": "fieAbqnbQoVB"
      }
    },
    {
      "cell_type": "code",
      "execution_count": null,
      "metadata": {
        "id": "3RJkMK2SQnVG"
      },
      "outputs": [],
      "source": [
        "class Dog:\n",
        "    def __init__(self, name, breed):\n",
        "        self.name = name\n",
        "        self.breed = breed\n",
        "\n",
        "    def bark(self):\n",
        "        return f\"{self.name} says woof!\"\n",
        "\n",
        "my_dog = Dog(\"Buddy\", \"Golden Retriever\")\n",
        "print(my_dog.bark())  # Output: Buddy says woof!\n"
      ]
    },
    {
      "cell_type": "markdown",
      "source": [
        "2. Encapsulation\n",
        "Encapsulation refers to bundling the data (attributes) and methods (functions) that operate on the data into a single unit (the class). It also includes restricting direct access to some of the object's components, usually by making attributes private or protected using underscores (_ or __).\n",
        "This prevents external code from modifying the internal state of an object in an unintended way.\n",
        "Example:"
      ],
      "metadata": {
        "id": "zYoDIDX3Q1pB"
      }
    },
    {
      "cell_type": "code",
      "source": [
        "class BankAccount:\n",
        "    def __init__(self, balance):\n",
        "        self.__balance = balance  # Private attribute\n",
        "\n",
        "    def deposit(self, amount):\n",
        "        self.__balance += amount\n",
        "\n",
        "    def get_balance(self):\n",
        "        return self.__balance\n",
        "\n",
        "account = BankAccount(100)\n",
        "account.deposit(50)\n",
        "print(account.get_balance())  # Output: 150\n"
      ],
      "metadata": {
        "id": "4nAmObpLQ08h"
      },
      "execution_count": null,
      "outputs": []
    },
    {
      "cell_type": "markdown",
      "source": [
        "3. Inheritance\n",
        "Inheritance allows a class to inherit attributes and methods from another class, enabling code reuse and the creation of a hierarchical relationship between classes. The class that inherits is called a subclass (or derived class), and the class it inherits from is the superclass (or base class).\n",
        "Example:"
      ],
      "metadata": {
        "id": "Q8Wzs98sQ7LA"
      }
    },
    {
      "cell_type": "code",
      "source": [
        "class Animal:\n",
        "    def __init__(self, name):\n",
        "        self.name = name\n",
        "\n",
        "    def make_sound(self):\n",
        "        pass\n",
        "\n",
        "class Dog(Animal):\n",
        "    def make_sound(self):\n",
        "        return \"Woof!\"\n",
        "\n",
        "my_dog = Dog(\"Buddy\")\n",
        "print(my_dog.make_sound())  # Output: Woof!\n"
      ],
      "metadata": {
        "id": "DsigCVJYQ_qX"
      },
      "execution_count": null,
      "outputs": []
    },
    {
      "cell_type": "markdown",
      "source": [
        "4. Polymorphism\n",
        "Polymorphism allows objects of different classes to be treated as objects of a common superclass. It also refers to the ability to redefine methods in derived classes. This makes it possible to define methods in the base class and override them in derived classes while maintaining a consistent interface.\n",
        "Example:"
      ],
      "metadata": {
        "id": "M_CyjIsUQ-3B"
      }
    },
    {
      "cell_type": "code",
      "source": [
        "class Animal:\n",
        "    def speak(self):\n",
        "        raise NotImplementedError(\"Subclasses must implement this method\")\n",
        "\n",
        "class Dog(Animal):\n",
        "    def speak(self):\n",
        "        return \"Woof!\"\n",
        "\n",
        "class Cat(Animal):\n",
        "    def speak(self):\n",
        "        return \"Meow!\"\n",
        "\n",
        "animals = [Dog(), Cat()]\n",
        "for animal in animals:\n",
        "    print(animal.speak())\n",
        "# Output:\n",
        "# Woof!\n",
        "# Meow!\n"
      ],
      "metadata": {
        "id": "zikVylOBQ-XB"
      },
      "execution_count": null,
      "outputs": []
    },
    {
      "cell_type": "markdown",
      "source": [
        "5. Abstraction\n",
        "Abstraction involves hiding the internal implementation details of a class and exposing only the necessary and relevant information to the outside world. It is achieved using abstract classes or interfaces where certain methods are defined but not implemented.\n",
        "Example:"
      ],
      "metadata": {
        "id": "WybQO5AaRHU_"
      }
    },
    {
      "cell_type": "code",
      "source": [
        "from abc import ABC, abstractmethod\n",
        "\n",
        "class Shape(ABC):\n",
        "    @abstractmethod\n",
        "    def area(self):\n",
        "        pass\n",
        "\n",
        "class Circle(Shape):\n",
        "    def __init__(self, radius):\n",
        "        self.radius = radius\n",
        "\n",
        "    def area(self):\n",
        "        return 3.14 * self.radius * self.radius\n",
        "\n",
        "my_circle = Circle(5)\n",
        "print(my_circle.area())  # Output: 78.5\n"
      ],
      "metadata": {
        "id": "eadpM6mRRLUo"
      },
      "execution_count": null,
      "outputs": []
    },
    {
      "cell_type": "markdown",
      "source": [
        "Q2. Write a Python class for a `Car` with attributes for `make`, `model`, and `year`. Include a method to display the car's information.\n",
        "ANs."
      ],
      "metadata": {
        "id": "63jjNji9RQyg"
      }
    },
    {
      "cell_type": "code",
      "source": [
        "class Car:\n",
        "    def __init__(self, make, model, year):\n",
        "        self.make = make\n",
        "        self.model = model\n",
        "        self.year = year\n",
        "\n",
        "    def display_info(self):\n",
        "        print(f\"Car Information: {self.year} {self.make} {self.model}\")\n",
        "\n",
        "# Example usage\n",
        "my_car = Car(\"Toyota\", \"Corolla\", 2020)\n",
        "my_car.display_info()  # Output: Car Information: 2020 Toyota Corolla\n"
      ],
      "metadata": {
        "id": "tJqFZ7QlReBY"
      },
      "execution_count": null,
      "outputs": []
    },
    {
      "cell_type": "markdown",
      "source": [
        "Q3.Explain the difference between instance methods and class methods. Provide an example of each.\n",
        "Ans.1. Instance Methods\n",
        "Instance methods are the most common type of methods. These methods operate on an instance (object) of a class and have access to the instance’s attributes and other methods.\n",
        "The first parameter of an instance method is always self, which refers to the specific instance of the class on which the method is called.\n",
        "They can modify object state (i.e., instance attributes) and access both instance and class-level data.\n",
        "Example of an Instance Method:"
      ],
      "metadata": {
        "id": "riM2HAHqRgJO"
      }
    },
    {
      "cell_type": "code",
      "source": [
        "class Dog:\n",
        "    def __init__(self, name, breed):\n",
        "        self.name = name\n",
        "        self.breed = breed\n",
        "\n",
        "    # Instance method\n",
        "    def bark(self):\n",
        "        return f\"{self.name} says woof!\"\n",
        "\n",
        "my_dog = Dog(\"Buddy\", \"Golden Retriever\")\n",
        "print(my_dog.bark())  # Output: Buddy says woof!\n"
      ],
      "metadata": {
        "id": "oUPnYCmcRkDX"
      },
      "execution_count": null,
      "outputs": []
    },
    {
      "cell_type": "markdown",
      "source": [
        "2. Class Methods\n",
        "Class methods are methods that operate on the class itself rather than on an instance of the class.\n",
        "The first parameter of a class method is cls, which refers to the class, not an instance of the class.\n",
        "They are defined using the @classmethod decorator and can be used to work with class-level attributes or perform operations related to the class itself, rather than any specific instance.\n",
        "Class methods cannot modify instance-level data, but they can modify class-level data (attributes shared across all instances).\n",
        "Example of a Class Method:"
      ],
      "metadata": {
        "id": "8irrik6nRvSg"
      }
    },
    {
      "cell_type": "code",
      "source": [
        "class Car:\n",
        "    num_wheels = 4  # Class-level attribute\n",
        "\n",
        "    def __init__(self, make, model):\n",
        "        self.make = make\n",
        "        self.model = model\n",
        "\n",
        "    # Instance method\n",
        "    def display_info(self):\n",
        "        return f\"Car: {self.make} {self.model}\"\n",
        "\n",
        "    # Class method\n",
        "    @classmethod\n",
        "    def set_num_wheels(cls, wheels):\n",
        "        cls.num_wheels = wheels  # Modifies class-level attribute\n",
        "\n",
        "# Create an instance\n",
        "my_car = Car(\"Toyota\", \"Corolla\")\n",
        "print(my_car.display_info())  # Output: Car: Toyota Corolla\n",
        "\n",
        "# Call the class method\n",
        "Car.set_num_wheels(6)\n",
        "print(Car.num_wheels)  # Output: 6\n"
      ],
      "metadata": {
        "id": "DTC1kg4pR0T_"
      },
      "execution_count": null,
      "outputs": []
    },
    {
      "cell_type": "markdown",
      "source": [
        "Key Differences:\n",
        "Instance Methods:\n",
        "\n",
        "Operate on individual instances of a class.\n",
        "Use self to refer to the specific instance.\n",
        "Can modify the state of the instance (its attributes).\n",
        "Class Methods:\n",
        "\n",
        "Operate on the class itself, not individual instances.\n",
        "Use cls to refer to the class.\n",
        "Can modify class-level attributes but not instance attributes.\n",
        "Use the @classmethod decorator."
      ],
      "metadata": {
        "id": "4krMzyCyR2lG"
      }
    },
    {
      "cell_type": "markdown",
      "source": [
        "Q4.How does Python implement method overloading? Give an example.\n",
        "Ans.In Python, method overloading (having multiple methods with the same name but different arguments) is not supported in the traditional sense like in some other languages (e.g., C++, Java). Instead, Python achieves a similar effect through default arguments, variable-length arguments (*args and **kwargs), and type checking within the method.\n",
        "\n",
        "When you define multiple methods with the same name in Python, the last defined method will override the previous ones. However, you can implement method overloading behavior by using one method and handling different argument patterns within it.\n",
        "\n",
        "Ways to Achieve Method Overloading in Python\n",
        "Using Default Arguments: You can define default values for parameters so that the method can handle different numbers of arguments."
      ],
      "metadata": {
        "id": "IAu1qXRTR57H"
      }
    },
    {
      "cell_type": "code",
      "source": [
        "class Calculator:\n",
        "    def add(self, a, b=0, c=0):\n",
        "        return a + b + c\n",
        "\n",
        "calc = Calculator()\n",
        "print(calc.add(5))          # Output: 5 (only one argument, so b and c take default values)\n",
        "print(calc.add(5, 10))      # Output: 15 (b is provided, c takes the default value)\n",
        "print(calc.add(5, 10, 15))  # Output: 30 (all arguments are provided)\n"
      ],
      "metadata": {
        "id": "ouD3EKytSGDh"
      },
      "execution_count": null,
      "outputs": []
    },
    {
      "cell_type": "markdown",
      "source": [
        "Using Variable-Length Arguments (*args and **kwargs): You can use *args to accept a variable number of positional arguments and **kwargs to accept a variable number of keyword arguments."
      ],
      "metadata": {
        "id": "HDElx-NmSH-K"
      }
    },
    {
      "cell_type": "code",
      "source": [
        "class Calculator:\n",
        "    def add(self, *args):\n",
        "        return sum(args)\n",
        "\n",
        "calc = Calculator()\n",
        "print(calc.add(5))            # Output: 5 (one argument)\n",
        "print(calc.add(5, 10))        # Output: 15 (two arguments)\n",
        "print(calc.add(5, 10, 15))    # Output: 30 (three arguments)\n"
      ],
      "metadata": {
        "id": "RpcNXB1GSM9J"
      },
      "execution_count": null,
      "outputs": []
    },
    {
      "cell_type": "markdown",
      "source": [
        "Using Type Checking (isinstance or type): You can check the type of arguments and handle them accordingly inside a single method."
      ],
      "metadata": {
        "id": "TUO0l_vzSOrz"
      }
    },
    {
      "cell_type": "code",
      "source": [
        "class Calculator:\n",
        "    def add(self, a, b):\n",
        "        if isinstance(a, str) and isinstance(b, str):\n",
        "            return a + \" \" + b  # Concatenation for strings\n",
        "        else:\n",
        "            return a + b  # Addition for numbers\n",
        "\n",
        "calc = Calculator()\n",
        "print(calc.add(5, 10))         # Output: 15 (numbers)\n",
        "print(calc.add(\"Hello\", \"World\"))  # Output: Hello World (strings)\n"
      ],
      "metadata": {
        "id": "mhRM2GOWSQHQ"
      },
      "execution_count": null,
      "outputs": []
    },
    {
      "cell_type": "markdown",
      "source": [
        "Python is dynamically typed, meaning the type of arguments is determined at runtime. As a result, the need for method overloading (which is common in statically typed languages) is less important because the same method can accept arguments of any type. Python's flexibility with default parameters, *args, **kwargs, and type checking makes it possible to simulate method overloading in a single function definition.\n",
        "\n",
        "Example of Simulated Method Overloading:"
      ],
      "metadata": {
        "id": "2glIxtdaSQwY"
      }
    },
    {
      "cell_type": "code",
      "source": [
        "class Greet:\n",
        "    def say_hello(self, name=None):\n",
        "        if name is not None:\n",
        "            print(f\"Hello, {name}!\")\n",
        "        else:\n",
        "            print(\"Hello, world!\")\n",
        "\n",
        "g = Greet()\n",
        "g.say_hello()         # Output: Hello, world!\n",
        "g.say_hello(\"Alice\")  # Output: Hello, Alice!\n"
      ],
      "metadata": {
        "id": "DAo2UOlPSbpw"
      },
      "execution_count": null,
      "outputs": []
    },
    {
      "cell_type": "markdown",
      "source": [
        "Q5. What are the three types of access modifiers in Python? How are they denoted?\n",
        "Ans.In Python, there are three types of access modifiers: public, protected, and private. These modifiers determine the accessibility of class members (attributes and methods) from outside the class. While Python does not have strict access control like some other languages (e.g., Java or C++), it uses naming conventions to indicate the intended visibility of class members.\n",
        "\n",
        "Here’s a breakdown of the three types of access modifiers in Python and how they are denoted:\n",
        "\n",
        "1. Public\n",
        "Denotation: No leading underscores (self.attribute)\n",
        "Description: Public members are accessible from anywhere, both inside and outside the class. By default, all class attributes and methods in Python are public unless explicitly modified.\n",
        "Example:"
      ],
      "metadata": {
        "id": "1OxyWZ5wSa6C"
      }
    },
    {
      "cell_type": "code",
      "source": [
        "class Car:\n",
        "    def __init__(self, make, model):\n",
        "        self.make = make  # Public attribute\n",
        "        self.model = model  # Public attribute\n",
        "\n",
        "    def display_info(self):  # Public method\n",
        "        print(f\"Car: {self.make} {self.model}\")\n",
        "\n",
        "car = Car(\"Toyota\", \"Corolla\")\n",
        "print(car.make)  # Accessible: Toyota\n",
        "car.display_info()  # Accessible: Car: Toyota Corolla\n"
      ],
      "metadata": {
        "id": "6A_gm2gDSvV3"
      },
      "execution_count": null,
      "outputs": []
    },
    {
      "cell_type": "markdown",
      "source": [
        "2. Protected\n",
        "Denotation: A single leading underscore (_self.attribute)\n",
        "Description: Protected members are meant to be accessible only within the class and its subclasses. This is more of a convention rather than strict enforcement; the member is still technically accessible outside the class, but it's understood that it should not be directly accessed.\n",
        "Example:"
      ],
      "metadata": {
        "id": "ZIFkh1XpSyV1"
      }
    },
    {
      "cell_type": "code",
      "source": [
        "class Car:\n",
        "    def __init__(self, make, model, year):\n",
        "        self.make = make\n",
        "        self._year = year  # Protected attribute\n",
        "\n",
        "    def _display_year(self):  # Protected method\n",
        "        print(f\"Year: {self._year}\")\n",
        "\n",
        "class SportsCar(Car):\n",
        "    def show_year(self):\n",
        "        self._display_year()  # Accessible in subclass\n",
        "\n",
        "car = SportsCar(\"Ferrari\", \"488\", 2022)\n",
        "car.show_year()  # Output: Year: 2022\n"
      ],
      "metadata": {
        "id": "7wbxwCRtSy_G"
      },
      "execution_count": null,
      "outputs": []
    },
    {
      "cell_type": "markdown",
      "source": [
        "3. Private\n",
        "Denotation: A double leading underscore (__self.attribute)\n",
        "Description: Private members are intended to be accessible only within the class in which they are defined. Python implements name mangling for private members, which means that the attribute's name is internally changed to include the class name, making it harder to accidentally access them from outside the class.\n",
        "Example:"
      ],
      "metadata": {
        "id": "iZkZCXqeS0gl"
      }
    },
    {
      "cell_type": "code",
      "source": [
        "class Car:\n",
        "    def __init__(self, make, model, year):\n",
        "        self.make = make\n",
        "        self.__year = year  # Private attribute\n",
        "\n",
        "    def __display_year(self):  # Private method\n",
        "        print(f\"Year: {self.__year}\")\n",
        "\n",
        "    def show_info(self):\n",
        "        self.__display_year()  # Accessible inside the class\n",
        "\n",
        "car = Car(\"Tesla\", \"Model S\", 2022)\n",
        "car.show_info()  # Output: Year: 2022\n",
        "# car.__year  # This would raise an AttributeError\n"
      ],
      "metadata": {
        "id": "1L2s_WkDS3ve"
      },
      "execution_count": null,
      "outputs": []
    },
    {
      "cell_type": "markdown",
      "source": [
        "In this case, __year and __display_year() are private, meaning they are not directly accessible from outside the class. If you try to access car.__year, Python will raise an AttributeError. However, private members can still be accessed indirectly within the class itself.\n",
        "\n",
        "Name Mangling: To prevent accidental access to private members, Python internally changes the name of a private attribute or method by prefixing it with _ClassName, making it accessible through this name if needed."
      ],
      "metadata": {
        "id": "FQWR12lhS5tA"
      }
    },
    {
      "cell_type": "code",
      "source": [
        "print(car._Car__year)  # Output: 2022 (This is how private members can be accessed via name mangling)\n"
      ],
      "metadata": {
        "id": "0dJEh5deS951"
      },
      "execution_count": null,
      "outputs": []
    },
    {
      "cell_type": "markdown",
      "source": [
        "Q6.Describe the five types of inheritance in Python. Provide a simple example of multiple inheritance.\n",
        "Ans.In Python, inheritance allows a class to inherit attributes and methods from another class, promoting code reuse and establishing relationships between classes. There are five types of inheritance in Python:\n",
        "\n",
        "1. Single Inheritance\n",
        "Description: A single class inherits from one base class. This is the simplest form of inheritance.\n",
        "Example:"
      ],
      "metadata": {
        "id": "el2tNY8eTDFH"
      }
    },
    {
      "cell_type": "code",
      "source": [
        "class Animal:\n",
        "    def speak(self):\n",
        "        return \"Animal sound\"\n",
        "\n",
        "class Dog(Animal):  # Single inheritance\n",
        "    def speak(self):\n",
        "        return \"Woof!\"\n",
        "\n",
        "dog = Dog()\n",
        "print(dog.speak())  # Output: Woof!\n"
      ],
      "metadata": {
        "id": "d6L6Rf7oTNqY"
      },
      "execution_count": null,
      "outputs": []
    },
    {
      "cell_type": "markdown",
      "source": [
        "2. Multiple Inheritance\n",
        "Description: A class can inherit from more than one base class. In this case, the child class inherits attributes and methods from all its parent classes.\n",
        "Example:"
      ],
      "metadata": {
        "id": "UaAedpr7TRie"
      }
    },
    {
      "cell_type": "code",
      "source": [
        "class Engine:\n",
        "    def start_engine(self):\n",
        "        return \"Engine started\"\n",
        "\n",
        "class Wheels:\n",
        "    def rotate_wheels(self):\n",
        "        return \"Wheels are rotating\"\n",
        "\n",
        "class Car(Engine, Wheels):  # Multiple inheritance\n",
        "    def drive(self):\n",
        "        return \"Car is driving\"\n",
        "\n",
        "my_car = Car()\n",
        "print(my_car.start_engine())  # Output: Engine started\n",
        "print(my_car.rotate_wheels())  # Output: Wheels are rotating\n",
        "print(my_car.drive())  # Output: Car is driving\n"
      ],
      "metadata": {
        "id": "v0Oa0e0STUIZ"
      },
      "execution_count": null,
      "outputs": []
    },
    {
      "cell_type": "markdown",
      "source": [
        "3. Multilevel Inheritance\n",
        "Description: A class is derived from a class that is itself derived from another class. It forms a multi-level chain of inheritance.\n",
        "Example:\n",
        "\n"
      ],
      "metadata": {
        "id": "wx18WQQpTVc5"
      }
    },
    {
      "cell_type": "code",
      "source": [
        "class Animal:\n",
        "    def sound(self):\n",
        "        return \"Some sound\"\n",
        "\n",
        "class Dog(Animal):  # First level of inheritance\n",
        "    def sound(self):\n",
        "        return \"Woof!\"\n",
        "\n",
        "class Puppy(Dog):  # Second level of inheritance\n",
        "    def sound(self):\n",
        "        return \"Yip!\"\n",
        "\n",
        "puppy = Puppy()\n",
        "print(puppy.sound())  # Output: Yip!\n"
      ],
      "metadata": {
        "id": "W7g3IQCpTX_5"
      },
      "execution_count": null,
      "outputs": []
    },
    {
      "cell_type": "markdown",
      "source": [
        "4. Hierarchical Inheritance\n",
        "Description: Multiple child classes inherit from a single parent class. Each child class gets the properties of the parent class.\n",
        "Example:"
      ],
      "metadata": {
        "id": "8Lff1RwmTZtA"
      }
    },
    {
      "cell_type": "code",
      "source": [
        "class Animal:\n",
        "    def speak(self):\n",
        "        return \"Animal sound\"\n",
        "\n",
        "class Dog(Animal):  # First child class\n",
        "    def speak(self):\n",
        "        return \"Woof!\"\n",
        "\n",
        "class Cat(Animal):  # Second child class\n",
        "    def speak(self):\n",
        "        return \"Meow!\"\n",
        "\n",
        "dog = Dog()\n",
        "cat = Cat()\n",
        "print(dog.speak())  # Output: Woof!\n",
        "print(cat.speak())  # Output: Meow!\n"
      ],
      "metadata": {
        "id": "qgmiasP1TbhI"
      },
      "execution_count": null,
      "outputs": []
    },
    {
      "cell_type": "markdown",
      "source": [
        "5. Hybrid Inheritance\n",
        "Description: A combination of two or more types of inheritance. It usually involves a mix of multiple and multilevel inheritance patterns.\n",
        "Example:"
      ],
      "metadata": {
        "id": "eNBYHWWxTdF5"
      }
    },
    {
      "cell_type": "code",
      "source": [
        "class Animal:\n",
        "    def speak(self):\n",
        "        return \"Animal sound\"\n",
        "\n",
        "class Mammal(Animal):  # Inherits from Animal (Single/Multilevel)\n",
        "    def speak(self):\n",
        "        return \"Mammal sound\"\n",
        "\n",
        "class Bird(Animal):  # Inherits from Animal (Hierarchical)\n",
        "    def speak(self):\n",
        "        return \"Tweet\"\n",
        "\n",
        "class Bat(Mammal, Bird):  # Multiple inheritance (inherits from Mammal and Bird)\n",
        "    def speak(self):\n",
        "        return \"Bat screech\"\n",
        "\n",
        "bat = Bat()\n",
        "print(bat.speak())  # Output: Bat screech\n"
      ],
      "metadata": {
        "id": "GnhmdsZPTfd4"
      },
      "execution_count": null,
      "outputs": []
    },
    {
      "cell_type": "markdown",
      "source": [
        "Q7.What is the Method Resolution Order (MRO) in Python? How can you retrieve it programmatically?\n",
        "Ans.The Method Resolution Order (MRO) in Python is the order in which Python looks for a method or attribute in a hierarchy of classes, especially in cases involving multiple inheritance. It defines the path that Python follows to search for methods when they are called on an object.\n",
        "\n",
        "MRO is crucial in the case of multiple inheritance to avoid ambiguity and ensure consistent and predictable behavior. Python uses the C3 Linearization (C3 superclass linearization) algorithm to determine the MRO, which ensures that:\n",
        "\n",
        "A class is always checked before its parents.\n",
        "The order respects the inheritance hierarchy.\n",
        "Any class is checked only once.\n",
        "Example of MRO in Multiple Inheritance:"
      ],
      "metadata": {
        "id": "Yex6jZ_gTgxX"
      }
    },
    {
      "cell_type": "code",
      "source": [
        "class A:\n",
        "    def show(self):\n",
        "        print(\"A's show method\")\n",
        "\n",
        "class B(A):\n",
        "    def show(self):\n",
        "        print(\"B's show method\")\n",
        "\n",
        "class C(A):\n",
        "    def show(self):\n",
        "        print(\"C's show method\")\n",
        "\n",
        "class D(B, C):  # Multiple inheritance\n",
        "    pass\n",
        "\n",
        "d = D()\n",
        "d.show()  # Output: B's show method\n"
      ],
      "metadata": {
        "id": "QK69IHOSTt99"
      },
      "execution_count": null,
      "outputs": []
    },
    {
      "cell_type": "markdown",
      "source": [
        "Here, when we call d.show(), Python follows the MRO and finds show() in class B first, even though class C also has a show() method.\n",
        "\n",
        "How to Retrieve MRO Programmatically:\n",
        "You can retrieve the Method Resolution Order (MRO) of a class in two ways:\n",
        "\n",
        "Using the __mro__ attribute: The __mro__ attribute of a class returns a tuple that shows the MRO for that class."
      ],
      "metadata": {
        "id": "ZyN3y-0jTvXq"
      }
    },
    {
      "cell_type": "code",
      "source": [
        "print(D.__mro__)\n",
        "# Output: (<class '__main__.D'>, <class '__main__.B'>, <class '__main__.C'>, <class '__main__.A'>, <class 'object'>)\n"
      ],
      "metadata": {
        "id": "uLiLOky6TyoU"
      },
      "execution_count": null,
      "outputs": []
    },
    {
      "cell_type": "markdown",
      "source": [
        "Using the mro() method: The mro() method is another way to retrieve the MRO of a class, and it returns a list of classes in the order in which methods are searched."
      ],
      "metadata": {
        "id": "P9r-JsIGTz4L"
      }
    },
    {
      "cell_type": "code",
      "source": [
        "print(D.mro())\n",
        "# Output: [<class '__main__.D'>, <class '__main__.B'>, <class '__main__.C'>, <class '__main__.A'>, <class 'object'>]\n"
      ],
      "metadata": {
        "id": "LIpgFH6nT2wu"
      },
      "execution_count": null,
      "outputs": []
    },
    {
      "cell_type": "markdown",
      "source": [
        "MRO in Diamond Inheritance (Classic Example):\n",
        "In more complex scenarios, such as the diamond problem (when multiple paths lead to the same base class), MRO ensures that the base class is only called once, preserving a clear and predictable order."
      ],
      "metadata": {
        "id": "sjt7u2d5T5Hz"
      }
    },
    {
      "cell_type": "code",
      "source": [
        "class A:\n",
        "    def show(self):\n",
        "        print(\"A's show method\")\n",
        "\n",
        "class B(A):\n",
        "    pass\n",
        "\n",
        "class C(A):\n",
        "    pass\n",
        "\n",
        "class D(B, C):  # Diamond inheritance\n",
        "    pass\n",
        "\n",
        "d = D()\n",
        "d.show()  # Output: A's show method\n"
      ],
      "metadata": {
        "id": "7G374Fo9T41j"
      },
      "execution_count": null,
      "outputs": []
    },
    {
      "cell_type": "markdown",
      "source": [
        "Q8.Create an abstract base class `Shape` with an abstract method `area()`. Then create two subclasses `Circle` and `Rectangle` that implement the `area()` method.\n",
        "Ans.In Python, abstract classes are used to define common interfaces for subclasses. An abstract class cannot be instantiated, and it may contain one or more abstract methods. Abstract methods are defined in the abstract class, but the concrete implementation is provided in the subclasses.\n",
        "\n",
        "To create an abstract class, Python provides the abc (Abstract Base Classes) module, where you can use the ABC class and the @abstractmethod decorator.\n",
        "\n",
        "Here’s an example with a base abstract class Shape, and two concrete subclasses Circle and Rectangle that implement the area() method.\n",
        "\n",
        "Code Example:\n",
        "\n"
      ],
      "metadata": {
        "id": "WGSontDkT2Om"
      }
    },
    {
      "cell_type": "code",
      "source": [
        "from abc import ABC, abstractmethod\n",
        "import math\n",
        "\n",
        "# Abstract base class\n",
        "class Shape(ABC):\n",
        "\n",
        "    # Abstract method\n",
        "    @abstractmethod\n",
        "    def area(self):\n",
        "        pass\n",
        "\n",
        "# Subclass for Circle\n",
        "class Circle(Shape):\n",
        "\n",
        "    def __init__(self, radius):\n",
        "        self.radius = radius\n",
        "\n",
        "    # Implementing the abstract method\n",
        "    def area(self):\n",
        "        return math.pi * self.radius ** 2\n",
        "\n",
        "# Subclass for Rectangle\n",
        "class Rectangle(Shape):\n",
        "\n",
        "    def __init__(self, width, height):\n",
        "        self.width = width\n",
        "        self.height = height\n",
        "\n",
        "    # Implementing the abstract method\n",
        "    def area(self):\n",
        "        return self.width * self.height\n",
        "\n",
        "# Example usage:\n",
        "circle = Circle(5)\n",
        "rectangle = Rectangle(4, 6)\n",
        "\n",
        "print(f\"Area of Circle: {circle.area()}\")       # Output: Area of Circle: 78.53981633974483\n",
        "print(f\"Area of Rectangle: {rectangle.area()}\") # Output: Area of Rectangle: 24\n"
      ],
      "metadata": {
        "id": "wP273ppHUJ-2"
      },
      "execution_count": null,
      "outputs": []
    },
    {
      "cell_type": "markdown",
      "source": [
        "Q9. Demonstrate polymorphism by creating a function that can work with different shape objects to calculate and print their areas\n",
        "Ans.Polymorphism in Python allows objects of different classes to be treated uniformly through a common interface. In this case, since both Circle and Rectangle inherit from the abstract base class Shape and implement the area() method, we can create a function that takes any shape and calculates its area, demonstrating polymorphism.\n",
        "\n",
        "Code Example:"
      ],
      "metadata": {
        "id": "gLzGDioMULmX"
      }
    },
    {
      "cell_type": "code",
      "source": [
        "from abc import ABC, abstractmethod\n",
        "import math\n",
        "\n",
        "# Abstract base class\n",
        "class Shape(ABC):\n",
        "\n",
        "    @abstractmethod\n",
        "    def area(self):\n",
        "        pass\n",
        "\n",
        "# Subclass for Circle\n",
        "class Circle(Shape):\n",
        "\n",
        "    def __init__(self, radius):\n",
        "        self.radius = radius\n",
        "\n",
        "    def area(self):\n",
        "        return math.pi * self.radius ** 2\n",
        "\n",
        "# Subclass for Rectangle\n",
        "class Rectangle(Shape):\n",
        "\n",
        "    def __init__(self, width, height):\n",
        "        self.width = width\n",
        "        self.height = height\n",
        "\n",
        "    def area(self):\n",
        "        return self.width * self.height\n",
        "\n",
        "# Function demonstrating polymorphism\n",
        "def print_area(shape):\n",
        "    print(f\"The area of the {shape.__class__.__name__} is: {shape.area()}\")\n",
        "\n",
        "# Example usage\n",
        "circle = Circle(5)\n",
        "rectangle = Rectangle(4, 6)\n",
        "\n",
        "# Polymorphic behavior\n",
        "print_area(circle)      # Output: The area of the Circle is: 78.53981633974483\n",
        "print_area(rectangle)   # Output: The area of the Rectangle is: 24\n"
      ],
      "metadata": {
        "id": "VYFKkDCwUc0y"
      },
      "execution_count": null,
      "outputs": []
    },
    {
      "cell_type": "markdown",
      "source": [
        "Q10.Implement encapsulation in a `BankAccount` class with private attributes for `balance` and `account_number`. Include methods for deposit, withdrawal, and balance inquiry\n",
        "Ans.Encapsulation in object-oriented programming refers to the bundling of data (attributes) and methods (functions) that operate on the data, and restricting direct access to some of an object’s components. In Python, this is typically achieved by making attributes private using double underscores (__), and providing controlled access via public methods (getters and setters).\n",
        "\n",
        "Here's how you can implement encapsulation in a BankAccount class:\n",
        "\n",
        "Code Example:"
      ],
      "metadata": {
        "id": "tECnz2FDUeaQ"
      }
    },
    {
      "cell_type": "code",
      "source": [
        "class BankAccount:\n",
        "    def __init__(self, account_number, initial_balance=0):\n",
        "        self.__account_number = account_number  # Private attribute\n",
        "        self.__balance = initial_balance        # Private attribute\n",
        "\n",
        "    # Public method for depositing money\n",
        "    def deposit(self, amount):\n",
        "        if amount > 0:\n",
        "            self.__balance += amount\n",
        "            print(f\"Deposited ${amount}. New balance: ${self.__balance}\")\n",
        "        else:\n",
        "            print(\"Deposit amount must be positive.\")\n",
        "\n",
        "    # Public method for withdrawing money\n",
        "    def withdraw(self, amount):\n",
        "        if 0 < amount <= self.__balance:\n",
        "            self.__balance -= amount\n",
        "            print(f\"Withdrew ${amount}. New balance: ${self.__balance}\")\n",
        "        else:\n",
        "            print(\"Insufficient balance or invalid withdrawal amount.\")\n",
        "\n",
        "    # Public method for balance inquiry\n",
        "    def get_balance(self):\n",
        "        return f\"Current balance: ${self.__balance}\"\n",
        "\n",
        "    # Public method for account number inquiry\n",
        "    def get_account_number(self):\n",
        "        return f\"Account number: {self.__account_number}\"\n",
        "\n",
        "# Example usage\n",
        "account = BankAccount(\"123456789\", 1000)\n",
        "\n",
        "# Deposit money\n",
        "account.deposit(500)  # Output: Deposited $500. New balance: $1500\n",
        "\n",
        "# Withdraw money\n",
        "account.withdraw(300)  # Output: Withdrew $300. New balance: $1200\n",
        "\n",
        "# Balance inquiry\n",
        "print(account.get_balance())  # Output: Current balance: $1200\n",
        "\n",
        "# Account number inquiry\n",
        "print(account.get_account_number())  # Output: Account number: 123456789\n",
        "\n",
        "# Trying to access private attributes directly (will raise AttributeErro\n"
      ],
      "metadata": {
        "id": "W0rEs6ELUq0Y"
      },
      "execution_count": null,
      "outputs": []
    },
    {
      "cell_type": "markdown",
      "source": [
        "Q11.Write a class that overrides the `__str__` and `__add__` magic methods. What will these methods allow you to do?\n",
        "Ans.In Python, magic methods (also known as dunder methods) allow you to define the behavior of operators and built-in functions for your classes. The __str__ method is used to define a human-readable string representation of an object, while the __add__ method allows you to define the behavior of the addition operator (+) for instances of your class.\n",
        "\n",
        "Example Class: Vector\n",
        "Let’s create a simple Vector class that represents a mathematical vector in 2D space. We'll override the __str__ method to provide a string representation of the vector and the __add__ method to enable vector addition.\n",
        "\n",
        "Code Example:"
      ],
      "metadata": {
        "id": "cu4VXBSYUsqQ"
      }
    },
    {
      "cell_type": "code",
      "source": [
        "class Vector:\n",
        "    def __init__(self, x, y):\n",
        "        self.x = x\n",
        "        self.y = y\n",
        "\n",
        "    # Override the __str__ method\n",
        "    def __str__(self):\n",
        "        return f\"Vector({self.x}, {self.y})\"\n",
        "\n",
        "    # Override the __add__ method\n",
        "    def __add__(self, other):\n",
        "        if isinstance(other, Vector):\n",
        "            return Vector(self.x + other.x, self.y + other.y)\n",
        "        return NotImplemented\n",
        "\n",
        "# Example usage\n",
        "v1 = Vector(2, 3)\n",
        "v2 = Vector(5, 7)\n",
        "\n",
        "# Using the __str__ method\n",
        "print(v1)  # Output: Vector(2, 3)\n",
        "print(v2)  # Output: Vector(5, 7)\n",
        "\n",
        "# Using the __add__ method\n",
        "v3 = v1 + v2  # Adds v1 and v2\n",
        "print(v3)     # Output: Vector(7, 10)\n"
      ],
      "metadata": {
        "id": "0_DnGTjYU3on"
      },
      "execution_count": null,
      "outputs": []
    },
    {
      "cell_type": "markdown",
      "source": [
        "Q12.Create a decorator that measures and prints the execution time of a function.\n",
        "Ans.Decorators in Python are a powerful tool for modifying the behavior of functions or methods. To create a decorator that measures and prints the execution time of a function, you can use the time module to record the start and end times of the function execution.\n",
        "\n",
        "Here’s how to implement such a decorator:"
      ],
      "metadata": {
        "id": "QNgejXNfU5zR"
      }
    },
    {
      "cell_type": "code",
      "source": [
        "import time\n",
        "\n",
        "# Decorator to measure execution time\n",
        "def time_execution(func):\n",
        "    def wrapper(*args, **kwargs):\n",
        "        start_time = time.time()  # Record the start time\n",
        "        result = func(*args, **kwargs)  # Call the original function\n",
        "        end_time = time.time()  # Record the end time\n",
        "        execution_time = end_time - start_time  # Calculate the execution time\n",
        "        print(f\"Execution time of {func.__name__}: {execution_time:.4f} seconds\")\n",
        "        return result  # Return the result of the original function\n",
        "    return wrapper\n",
        "\n",
        "# Example function to decorate\n",
        "@time_execution\n",
        "def example_function(n):\n",
        "    total = 0\n",
        "    for i in range(n):\n",
        "        total += i\n",
        "    return total\n",
        "\n",
        "# Example usage\n",
        "result = example_function(1000000)\n",
        "print(f\"Result: {result}\")\n"
      ],
      "metadata": {
        "id": "cWc35XuiVCys"
      },
      "execution_count": null,
      "outputs": []
    },
    {
      "cell_type": "markdown",
      "source": [
        "Q13.Explain the concept of the Diamond Problem in multiple inheritance. How does Python resolve it?\n",
        "Ans.The Diamond Problem is a common issue that arises in object-oriented programming when dealing with multiple inheritance. It occurs when a class inherits from two classes (B and C) that both inherit from the same superclass (A). The resulting class (D) can create ambiguity regarding which superclass method or attribute should be used when accessed through the derived class.\n",
        "\n",
        "Illustration of the Diamond Problem\n",
        "Here's a simple diagram to illustrate the diamond problem:"
      ],
      "metadata": {
        "id": "XmjHApcmVEPx"
      }
    },
    {
      "cell_type": "code",
      "source": [
        "      A\n",
        "     / \\\n",
        "    B   C\n",
        "     \\ /\n",
        "      D\n"
      ],
      "metadata": {
        "id": "2loHAH-1VO6L"
      },
      "execution_count": null,
      "outputs": []
    },
    {
      "cell_type": "markdown",
      "source": [
        "In this diagram:\n",
        "\n",
        "Class A is the base class.\n",
        "Classes B and C both inherit from A.\n",
        "Class D inherits from both B and C.\n",
        "When an instance of D calls a method or accesses an attribute defined in A, the question arises: Should it use the method from B or from C? This creates ambiguity because both classes provide potentially different implementations of the inherited methods.\n",
        "\n",
        "Python’s Resolution: Method Resolution Order (MRO)\n",
        "Python resolves the diamond problem using the Method Resolution Order (MRO). Python employs the C3 Linearization algorithm (also known as C3 superclass linearization) to establish a clear order of class resolution.\n",
        "\n",
        "How MRO Works\n",
        "Linearization: The MRO defines a linear order of classes in which the method should be looked up. This order is determined in a way that:\n",
        "\n",
        "A class is always checked before its parents.\n",
        "The order respects the inheritance hierarchy.\n",
        "A class is only checked once.\n",
        "MRO Example: Consider the following code to illustrate the diamond problem and how Python resolves it:"
      ],
      "metadata": {
        "id": "4Q-71IedVV4D"
      }
    },
    {
      "cell_type": "code",
      "source": [
        "class A:\n",
        "    def greet(self):\n",
        "        return \"Hello from A\"\n",
        "\n",
        "class B(A):\n",
        "    def greet(self):\n",
        "        return \"Hello from B\"\n",
        "\n",
        "class C(A):\n",
        "    def greet(self):\n",
        "        return \"Hello from C\"\n",
        "\n",
        "class D(B, C):\n",
        "    pass\n",
        "\n",
        "# Creating an instance of D\n",
        "d = D()\n",
        "print(d.greet())  # Output: Hello from B\n",
        "\n",
        "# Checking the MRO\n",
        "print(D.__mro__)  # Output: (<class '__main__.D'>, <class '__main__.B'>, <class '__main__.C'>, <class '__main__.A'>, <class 'object'>)\n"
      ],
      "metadata": {
        "id": "F3tMU34TVYKP"
      },
      "execution_count": null,
      "outputs": []
    },
    {
      "cell_type": "markdown",
      "source": [
        "Advantages of Python's MRO\n",
        "Predictability: The MRO provides a consistent and predictable way of resolving method calls, ensuring that the first found method is used based on the order of inheritance.\n",
        "\n",
        "Avoids Ambiguity: By following the MRO, Python avoids ambiguity that can occur in multiple inheritance situations, making the language more robust.\n",
        "\n",
        "Flexibility: Developers can design their class hierarchies with confidence, knowing how Python will resolve method calls and attribute access.\n",
        "\n",
        "Conclusion\n",
        "The Diamond Problem is a significant concept in multiple inheritance scenarios, leading to potential ambiguities in method resolution. Python effectively addresses this issue with its C3 Linearization algorithm, which provides a clear and deterministic method resolution order (MRO). This approach simplifies the complexities that can arise from multiple inheritance, making Python a powerful tool for developers."
      ],
      "metadata": {
        "id": "27ZgOi2oVZKJ"
      }
    },
    {
      "cell_type": "markdown",
      "source": [
        "Q14.Write a class method that keeps track of the number of instances created from a class."
      ],
      "metadata": {
        "id": "sZFJhQxOV3j2"
      }
    },
    {
      "cell_type": "code",
      "source": [
        "class InstanceCounter:\n",
        "    # Class attribute to keep track of the number of instances\n",
        "    instance_count = 0\n",
        "\n",
        "    def __init__(self):\n",
        "        # Increment the instance count each time an instance is created\n",
        "        InstanceCounter.instance_count += 1\n",
        "\n",
        "    @classmethod\n",
        "    def get_instance_count(cls):\n",
        "        \"\"\"Class method to return the number of instances created.\"\"\"\n",
        "        return cls.instance_count\n",
        "\n",
        "# Example usage\n",
        "if __name__ == \"__main__\":\n",
        "    obj1 = InstanceCounter()\n",
        "    obj2 = InstanceCounter()\n",
        "    obj3 = InstanceCounter()\n",
        "\n",
        "    # Get the count of instances created\n",
        "    print(f\"Number of instances created: {InstanceCounter.get_instance_count()}\")  # Output: 3\n"
      ],
      "metadata": {
        "id": "LMWkggHMV4_9"
      },
      "execution_count": null,
      "outputs": []
    },
    {
      "cell_type": "markdown",
      "source": [
        "Q15. Implement a static method in a class that checks if a given year is a leap year.\n",
        "Ans.To implement a static method in a class that checks whether a given year is a leap year, you can define a method using the @staticmethod decorator. A leap year is defined as follows:\n",
        "\n",
        "A year is a leap year if it is divisible by 4.\n",
        "However, if the year is divisible by 100, it is not a leap year, unless it is also divisible by 400.\n",
        "Code Example\n",
        "Here's how you can implement this in Python:"
      ],
      "metadata": {
        "id": "KTACBJJSV8jX"
      }
    },
    {
      "cell_type": "code",
      "source": [
        "class YearChecker:\n",
        "    @staticmethod\n",
        "    def is_leap_year(year):\n",
        "        \"\"\"Check if the given year is a leap year.\"\"\"\n",
        "        if (year % 4 == 0 and year % 100 != 0) or (year % 400 == 0):\n",
        "            return True\n",
        "        return False\n",
        "\n",
        "# Example usage\n",
        "if __name__ == \"__main__\":\n",
        "    test_years = [2000, 2001, 2004, 1900, 2024, 2100]\n",
        "\n",
        "    for year in test_years:\n",
        "        if YearChecker.is_leap_year(year):\n",
        "            print(f\"{year} is a leap year.\")\n",
        "        else:\n",
        "            print(f\"{year} is not a leap year.\")\n"
      ],
      "metadata": {
        "id": "Ry6ADo58WJm2"
      },
      "execution_count": null,
      "outputs": []
    }
  ]
}