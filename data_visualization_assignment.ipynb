{
  "nbformat": 4,
  "nbformat_minor": 0,
  "metadata": {
    "colab": {
      "provenance": []
    },
    "kernelspec": {
      "name": "python3",
      "display_name": "Python 3"
    },
    "language_info": {
      "name": "python"
    }
  },
  "cells": [
    {
      "cell_type": "markdown",
      "source": [
        "**MATPLOTLIB ASSIGNMENT:**"
      ],
      "metadata": {
        "id": "cyGkawWVeOyJ"
      }
    },
    {
      "cell_type": "markdown",
      "source": [
        "Q1.Create a scatter plot using Matplotlib to visualize the relationship between two arrays, x and y for the given\n",
        "data."
      ],
      "metadata": {
        "id": "Plbx8scXeS9Y"
      }
    },
    {
      "cell_type": "code",
      "execution_count": 1,
      "metadata": {
        "colab": {
          "base_uri": "https://localhost:8080/",
          "height": 564
        },
        "id": "FgrUt56RdeZt",
        "outputId": "86a0f87e-50af-463c-a2da-16f22ab806ff"
      },
      "outputs": [
        {
          "output_type": "display_data",
          "data": {
            "text/plain": [
              "<Figure size 800x600 with 1 Axes>"
            ],
            "image/png": "[encoded data removed]"
          },
          "metadata": {}
        }
      ],
      "source": [
        "import matplotlib.pyplot as plt\n",
        "\n",
        "# Define the data\n",
        "x = [1, 2, 3, 4, 5, 6, 7, 8, 9, 10]\n",
        "y = [2, 4, 5, 7, 6, 8, 9, 10, 12, 13]\n",
        "\n",
        "# Create a scatter plot\n",
        "plt.figure(figsize=(8, 6))\n",
        "plt.scatter(x, y, color='blue', edgecolor='black')\n",
        "plt.title(\"Scatter Plot of X vs Y\")\n",
        "plt.xlabel(\"X values\")\n",
        "plt.ylabel(\"Y values\")\n",
        "plt.grid(True)\n",
        "plt.show()\n"
      ]
    },
    {
      "cell_type": "markdown",
      "source": [
        "Q2. Generate a line plot to visualize the trend of values for the given data.\n",
        "data = np.array([3, 7, 9, 15, 22, 29, 35])"
      ],
      "metadata": {
        "id": "l4mIrSRjeNA6"
      }
    },
    {
      "cell_type": "code",
      "source": [
        "import numpy as np\n",
        "import matplotlib.pyplot as plt\n",
        "\n",
        "# Define the data\n",
        "data = np.array([3, 7, 9, 15, 22, 29, 35])\n",
        "\n",
        "# Generate a line plot\n",
        "plt.figure(figsize=(8, 6))\n",
        "plt.plot(data, marker='o', color='purple', linestyle='-', linewidth=2, markersize=6)\n",
        "plt.title(\"Line Plot Showing Trend of Data Values\")\n",
        "plt.xlabel(\"Index\")\n",
        "plt.ylabel(\"Data Values\")\n",
        "plt.grid(True)\n",
        "plt.show()\n"
      ],
      "metadata": {
        "id": "XQwPjtpAe8iw"
      },
      "execution_count": null,
      "outputs": []
    },
    {
      "cell_type": "markdown",
      "source": [
        "Q3Display a bar chart to represent the frequency of each item in the given array categories.categories = ['A', 'B', 'C', 'D', 'E']\n",
        "values = [25, 40, 30, 35, 20]"
      ],
      "metadata": {
        "id": "_t9j8XOsfCjf"
      }
    },
    {
      "cell_type": "code",
      "source": [
        "import matplotlib.pyplot as plt\n",
        "\n",
        "# Define the data\n",
        "categories = ['A', 'B', 'C', 'D', 'E']\n",
        "values = [25, 40, 30, 35, 20]\n",
        "\n",
        "# Create a bar chart\n",
        "plt.figure(figsize=(8, 6))\n",
        "plt.bar(categories, values, color='skyblue', edgecolor='black')\n",
        "plt.title(\"Bar Chart Representing Frequency of Each Category\")\n",
        "plt.xlabel(\"Categories\")\n",
        "plt.ylabel(\"Frequency\")\n",
        "plt.show()\n"
      ],
      "metadata": {
        "id": "eIsYYwtsfLtA"
      },
      "execution_count": null,
      "outputs": []
    },
    {
      "cell_type": "markdown",
      "source": [
        "Q4. Create a histogram to visualize the distribution of values in the array data. data = np.random.normal(0, 1, 1000)"
      ],
      "metadata": {
        "id": "PSZyyVTLfUdP"
      }
    },
    {
      "cell_type": "code",
      "source": [
        "import numpy as np\n",
        "import matplotlib.pyplot as plt\n",
        "\n",
        "# Generate random data from a normal distribution\n",
        "data = np.random.normal(0, 1, 1000)\n",
        "\n",
        "# Create a histogram\n",
        "plt.figure(figsize=(8, 6))\n",
        "plt.hist(data, bins=30, color='lightgreen', edgecolor='black')\n",
        "plt.title(\"Histogram of Data Distribution\")\n",
        "plt.xlabel(\"Value\")\n",
        "plt.ylabel(\"Frequency\")\n",
        "plt.grid(True)\n",
        "plt.show()\n"
      ],
      "metadata": {
        "id": "EElDaWkqfa4v"
      },
      "execution_count": null,
      "outputs": []
    },
    {
      "cell_type": "markdown",
      "source": [
        "Q5. Show a pie chart to represent the percentage distribution of different sections in the array `sections`.sections = ['Section A', 'Section B', 'Section C', 'Section D']\n",
        "sizes = [25, 30, 15, 30]"
      ],
      "metadata": {
        "id": "4TKss_cBfkkv"
      }
    },
    {
      "cell_type": "code",
      "source": [
        "import matplotlib.pyplot as plt\n",
        "\n",
        "# Define the data for the pie chart\n",
        "sections = ['Section A', 'Section B', 'Section C', 'Section D']\n",
        "sizes = [25, 30, 15, 30]\n",
        "\n",
        "# Create a pie chart\n",
        "plt.figure(figsize=(8, 6))\n",
        "plt.pie(sizes, labels=sections, autopct='%1.1f%%', startangle=140,\n",
        "        colors=['gold', 'lightcoral', 'lightskyblue', 'lightgreen'])\n",
        "plt.title(\"Pie Chart of Percentage Distribution of Sections\")\n",
        "plt.show()\n"
      ],
      "metadata": {
        "id": "QFE-cU9gf0zA"
      },
      "execution_count": null,
      "outputs": []
    },
    {
      "cell_type": "markdown",
      "source": [
        "**SEABORN ASSIGNMENT:**"
      ],
      "metadata": {
        "id": "9urLp78tf2Pv"
      }
    },
    {
      "cell_type": "markdown",
      "source": [
        "Q1. Create a scatter plot to visualize the relationship between two variables, by generating a synthetic\n",
        "dataset."
      ],
      "metadata": {
        "id": "OsEuVP7MgDxH"
      }
    },
    {
      "cell_type": "code",
      "source": [
        "import seaborn as sns\n",
        "import matplotlib.pyplot as plt\n",
        "import numpy as np\n",
        "import pandas as pd\n",
        "\n",
        "# Generating synthetic dataset\n",
        "np.random.seed(42)\n",
        "size = 100  # number of samples\n",
        "x = np.random.normal(loc=50, scale=10, size=size)  # Independent variable\n",
        "y = 2 * x + np.random.normal(loc=0, scale=10, size=size)  # Dependent variable with some noise\n",
        "\n",
        "# Creating DataFrame\n",
        "data = pd.DataFrame({'Variable_X': x, 'Variable_Y': y})\n",
        "\n",
        "# Creating scatter plot using Seaborn\n",
        "plt.figure(figsize=(10, 6))\n",
        "sns.scatterplot(x='Variable_X', y='Variable_Y', data=data)\n",
        "plt.title('Scatter Plot of Variable_X vs Variable_Y')\n",
        "plt.xlabel('Variable_X')\n",
        "plt.ylabel('Variable_Y')\n",
        "plt.show()\n"
      ],
      "metadata": {
        "id": "pOMShFoagW21"
      },
      "execution_count": null,
      "outputs": []
    },
    {
      "cell_type": "markdown",
      "source": [
        "Q2. Generate a dataset of random numbers. Visualize the distribution of a numerical variable"
      ],
      "metadata": {
        "id": "y2BZe3vMgYt0"
      }
    },
    {
      "cell_type": "code",
      "source": [
        "import seaborn as sns\n",
        "import matplotlib.pyplot as plt\n",
        "import numpy as np\n",
        "\n",
        "# Generating a dataset of random numbers (normally distributed)\n",
        "np.random.seed(42)\n",
        "data = np.random.normal(loc=0, scale=1, size=1000)  # mean=0, std=1, 1000 samples\n",
        "\n",
        "# Creating distribution plot using Seaborn\n",
        "plt.figure(figsize=(10, 6))\n",
        "sns.histplot(data, kde=True)  # kde=True adds a Kernel Density Estimate line\n",
        "plt.title('Distribution of Randomly Generated Data')\n",
        "plt.xlabel('Value')\n",
        "plt.ylabel('Frequency')\n",
        "plt.show()\n"
      ],
      "metadata": {
        "id": "jWhMCfWfgkQP"
      },
      "execution_count": null,
      "outputs": []
    },
    {
      "cell_type": "markdown",
      "source": [
        "Q3. Create a dataset representing categories and their corresponding values. Compare different categories\n",
        "based on numerical values."
      ],
      "metadata": {
        "id": "q56jl13_gp3v"
      }
    },
    {
      "cell_type": "code",
      "source": [
        "import seaborn as sns\n",
        "import matplotlib.pyplot as plt\n",
        "import numpy as np\n",
        "import pandas as pd\n",
        "\n",
        "# Creating a synthetic dataset with categories and values\n",
        "np.random.seed(42)\n",
        "categories = ['A', 'B', 'C', 'D', 'E']\n",
        "data = pd.DataFrame({\n",
        "    'Category': np.random.choice(categories, size=100),\n",
        "    'Value': np.random.normal(loc=50, scale=10, size=100)  # Random values\n",
        "})\n",
        "\n",
        "# Bar plot: showing average value for each category\n",
        "plt.figure(figsize=(10, 6))\n",
        "sns.barplot(x='Category', y='Value', data=data, ci='sd')\n",
        "plt.title('Average Value per Category')\n",
        "plt.xlabel('Category')\n",
        "plt.ylabel('Average Value')\n",
        "plt.show()\n",
        "\n",
        "# Box plot: showing distribution within each category\n",
        "plt.figure(figsize=(10, 6))\n",
        "sns.boxplot(x='Category', y='Value', data=data)\n",
        "plt.title('Value Distribution per Category')\n",
        "plt.xlabel('Category')\n",
        "plt.ylabel('Value')\n",
        "plt.show()\n"
      ],
      "metadata": {
        "id": "SPbbHBfhg34q"
      },
      "execution_count": null,
      "outputs": []
    },
    {
      "cell_type": "markdown",
      "source": [
        "Q4.Generate a dataset with categories and numerical values. Visualize the distribution of a numerical\n",
        "variable across different categories"
      ],
      "metadata": {
        "id": "JaYaKpoFg6GR"
      }
    },
    {
      "cell_type": "code",
      "source": [
        "import seaborn as sns\n",
        "import matplotlib.pyplot as plt\n",
        "import numpy as np\n",
        "import pandas as pd\n",
        "\n",
        "# Creating a synthetic dataset with categories and numerical values\n",
        "np.random.seed(42)\n",
        "categories = ['Category A', 'Category B', 'Category C', 'Category D', 'Category E']\n",
        "data = pd.DataFrame({\n",
        "    'Category': np.random.choice(categories, size=300),\n",
        "    'Value': np.random.normal(loc=50, scale=15, size=300)  # Random values\n",
        "})\n",
        "\n",
        "# Box plot: showing distribution of numerical values across categories\n",
        "plt.figure(figsize=(10, 6))\n",
        "sns.boxplot(x='Category', y='Value', data=data)\n",
        "plt.title('Distribution of Values Across Categories')\n",
        "plt.xlabel('Category')\n",
        "plt.ylabel('Value')\n",
        "plt.show()\n",
        "\n",
        "# Alternatively, a Violin plot for distribution visualization\n",
        "plt.figure(figsize=(10, 6))\n",
        "sns.violinplot(x='Category', y='Value', data=data)\n",
        "plt.title('Distribution of Values Across Categories (Violin Plot)')\n",
        "plt.xlabel('Category')\n",
        "plt.ylabel('Value')\n",
        "plt.show()\n"
      ],
      "metadata": {
        "id": "zadRtj4BhBds"
      },
      "execution_count": null,
      "outputs": []
    },
    {
      "cell_type": "markdown",
      "source": [
        "Q5.Generate a synthetic dataset with correlated features. Visualize the correlation matrix of a dataset using a\n",
        "heatmap."
      ],
      "metadata": {
        "id": "Xz1TGA_JhCZ6"
      }
    },
    {
      "cell_type": "code",
      "source": [
        "import seaborn as sns\n",
        "import matplotlib.pyplot as plt\n",
        "import numpy as np\n",
        "import pandas as pd\n",
        "\n",
        "# Set random seed for reproducibility\n",
        "np.random.seed(42)\n",
        "\n",
        "# Generate synthetic data\n",
        "n_samples = 200\n",
        "feature_1 = np.random.normal(loc=50, scale=10, size=n_samples)\n",
        "feature_2 = feature_1 * 0.8 + np.random.normal(loc=0, scale=5, size=n_samples)  # Correlated with feature_1\n",
        "feature_3 = np.random.normal(loc=50, scale=10, size=n_samples)\n",
        "feature_4 = feature_3 * 0.5 + np.random.normal(loc=0, scale=5, size=n_samples)  # Correlated with feature_3\n",
        "\n",
        "# Create a DataFrame\n",
        "data = pd.DataFrame({\n",
        "    'Feature_1': feature_1,\n",
        "    'Feature_2': feature_2,\n",
        "    'Feature_3': feature_3,\n",
        "    'Feature_4': feature_4\n",
        "})\n",
        "\n",
        "# Compute the correlation matrix\n",
        "corr_matrix = data.corr()\n",
        "\n",
        "# Plotting the correlation heatmap\n",
        "plt.figure(figsize=(8, 6))\n",
        "sns.heatmap(corr_matrix, annot=True, cmap='coolwarm', linewidths=0.5, fmt='.2f')\n",
        "plt.title('Correlation Matrix Heatmap')\n",
        "plt.show()\n"
      ],
      "metadata": {
        "id": "U3DajWQRhJhE"
      },
      "execution_count": null,
      "outputs": []
    },
    {
      "cell_type": "markdown",
      "source": [
        "**PLOTLY ASSIGNMENT:**"
      ],
      "metadata": {
        "id": "3HVxL8ymhKjL"
      }
    },
    {
      "cell_type": "markdown",
      "source": [
        "Q1Using the given dataset, to generate a 3D scatter plot to visualize the distribution of data points in a threedimensional space"
      ],
      "metadata": {
        "id": "zMrqewpdhN_E"
      }
    },
    {
      "cell_type": "code",
      "source": [
        "import numpy as np\n",
        "import pandas as pd\n",
        "import plotly.express as px\n",
        "\n",
        "# Seed for reproducibility\n",
        "np.random.seed(30)\n",
        "\n",
        "# Generating the dataset\n",
        "data = {\n",
        "    'X': np.random.uniform(-10, 10, 300),\n",
        "    'Y': np.random.uniform(-10, 10, 300),\n",
        "    'Z': np.random.uniform(-10, 10, 300)\n",
        "}\n",
        "\n",
        "df = pd.DataFrame(data)\n",
        "\n",
        "# Create a 3D scatter plot\n",
        "fig = px.scatter_3d(df, x='X', y='Y', z='Z', title=\"3D Scatter Plot\")\n",
        "fig.show()\n"
      ],
      "metadata": {
        "id": "-HF91O3Qhgdw"
      },
      "execution_count": null,
      "outputs": []
    },
    {
      "cell_type": "markdown",
      "source": [
        "Q2Using the Student Grades, create a violin plot to display the distribution of scores across different grade\n",
        "categories.np.random.seed(15)\n",
        "data = {\n",
        "    'Grade': np.random.choice(['A', 'B', 'C', 'D', 'F'], 200),\n",
        "    'Score': np.random.randint(50, 100, 200)\n",
        "}\n",
        "df = pd.DataFrame(data\n",
        " Using the sales data, generate a heatmap to visualize the variation in sales across\n",
        "different months and days.\n",
        "\n",
        "np.random.seed(20)\n",
        "data = {\n",
        "    'Month': np.random.choice(['Jan', 'Feb', 'Mar', 'Apr', 'May'], 100),\n",
        "    'Day': np.random.choice(range(1, 31), 100),\n",
        "    'Sales': np.random.randint(1000, 5000, 100)\n",
        "}\n",
        "df = pd.DataFrame(data)"
      ],
      "metadata": {
        "id": "5LQUyiW6hhcm"
      }
    },
    {
      "cell_type": "code",
      "source": [
        "import numpy as np\n",
        "import pandas as pd\n",
        "import plotly.express as px\n",
        "\n",
        "# Seed for reproducibility\n",
        "np.random.seed(15)\n",
        "\n",
        "# Generating the student grades data\n",
        "data = {\n",
        "    'Grade': np.random.choice(['A', 'B', 'C', 'D', 'F'], 200),\n",
        "    'Score': np.random.randint(50, 100, 200)\n",
        "}\n",
        "\n",
        "df = pd.DataFrame(data)\n",
        "\n",
        "# Create a violin plot\n",
        "fig = px.violin(df, x='Grade', y='Score', box=True, points='all', title=\"Distribution of Scores by Grade\")\n",
        "fig.show()\n"
      ],
      "metadata": {
        "id": "Xb67gENeh_OA"
      },
      "execution_count": null,
      "outputs": []
    },
    {
      "cell_type": "code",
      "source": [
        "# Seed for reproducibility\n",
        "np.random.seed(20)\n",
        "\n",
        "# Generating the sales data\n",
        "data = {\n",
        "    'Month': np.random.choice(['Jan', 'Feb', 'Mar', 'Apr', 'May'], 100),\n",
        "    'Day': np.random.choice(range(1, 31), 100),\n",
        "    'Sales': np.random.randint(1000, 5000, 100)\n",
        "}\n",
        "\n",
        "df = pd.DataFrame(data)\n",
        "\n",
        "# Create a pivot table for the heatmap\n",
        "sales_pivot = df.pivot_table(values='Sales', index='Day', columns='Month', aggfunc='mean')\n",
        "\n",
        "# Create a heatmap\n",
        "fig = px.imshow(sales_pivot, title=\"Sales Heatmap Across Months and Days\")\n",
        "fig.show()\n"
      ],
      "metadata": {
        "id": "p-1D_If6iEbn"
      },
      "execution_count": null,
      "outputs": []
    },
    {
      "cell_type": "markdown",
      "source": [
        "Q3.Using the sales data, generate a heatmap to visualize the variation in sales across different months and\n",
        "days. np.random.seed(20)\n",
        "data = {\n",
        "    'Month': np.random.choice(['Jan', 'Feb', 'Mar', 'Apr', 'May'], 100),\n",
        "    'Day': np.random.choice(range(1, 31), 100),\n",
        "    'Sales': np.random.randint(1000, 5000, 100)\n",
        "}\n",
        "df = pd.DataFrame(data)"
      ],
      "metadata": {
        "id": "lSj2huSIiHm2"
      }
    },
    {
      "cell_type": "code",
      "source": [
        "import numpy as np\n",
        "import pandas as pd\n",
        "import plotly.express as px\n",
        "\n",
        "# Seed for reproducibility\n",
        "np.random.seed(20)\n",
        "\n",
        "# Generating the sales data\n",
        "data = {\n",
        "    'Month': np.random.choice(['Jan', 'Feb', 'Mar', 'Apr', 'May'], 100),\n",
        "    'Day': np.random.choice(range(1, 31), 100),\n",
        "    'Sales': np.random.randint(1000, 5000, 100)\n",
        "}\n",
        "\n",
        "df = pd.DataFrame(data)\n",
        "\n",
        "# Create a pivot table for the heatmap\n",
        "sales_pivot = df.pivot_table(values='Sales', index='Day', columns='Month', aggfunc='mean')\n",
        "\n",
        "# Create a heatmap\n",
        "fig = px.imshow(sales_pivot, title=\"Sales Heatmap Across Months and Days\", color_continuous_scale='Viridis')\n",
        "fig.show()\n"
      ],
      "metadata": {
        "id": "WhyT5c3BiSnD"
      },
      "execution_count": null,
      "outputs": []
    },
    {
      "cell_type": "markdown",
      "source": [
        "Q4. Using the given x and y data, generate a 3D surface plot to visualize the function x = np.linspace(-5, 5, 100)\n",
        "y = np.linspace(-5, 5, 100)\n",
        "x, y = np.meshgrid(x, y)\n",
        "z = np.sin(np.sqrt(x**2 + y**2))\n",
        "data = {\n",
        "    'X': x.flatten(),\n",
        "    'Y': y.flatten(),\n",
        "    'Z': z.flatten()\n",
        "}\n",
        "df = pd.DataFrame(data)"
      ],
      "metadata": {
        "id": "FxrMLb7XibjQ"
      }
    },
    {
      "cell_type": "code",
      "source": [
        "import numpy as np\n",
        "import pandas as pd\n",
        "import plotly.graph_objects as go\n",
        "\n",
        "# Generate x and y data\n",
        "x = np.linspace(-5, 5, 100)\n",
        "y = np.linspace(-5, 5, 100)\n",
        "x, y = np.meshgrid(x, y)\n",
        "\n",
        "# Compute z values using the function z = sin(sqrt(x^2 + y^2))\n",
        "z = np.sin(np.sqrt(x**2 + y**2))\n",
        "\n",
        "# Create a dataframe\n",
        "data = {\n",
        "    'X': x.flatten(),\n",
        "    'Y': y.flatten(),\n",
        "    'Z': z.flatten()\n",
        "}\n",
        "\n",
        "df = pd.DataFrame(data)\n",
        "\n",
        "# Create the 3D surface plot\n",
        "fig = go.Figure(data=[go.Surface(z=z, x=x, y=y)])\n",
        "\n",
        "# Update the layout for better appearance\n",
        "fig.update_layout(\n",
        "    title=\"3D Surface Plot of z = sin(sqrt(x^2 + y^2))\",\n",
        "    scene=dict(\n",
        "        xaxis_title='X Axis',\n",
        "        yaxis_title='Y Axis',\n",
        "        zaxis_title='Z Axis'\n",
        "    )\n",
        ")\n",
        "\n",
        "# Show the plot\n",
        "fig.show()\n"
      ],
      "metadata": {
        "id": "x_q5IZvgikO5"
      },
      "execution_count": null,
      "outputs": []
    },
    {
      "cell_type": "markdown",
      "source": [
        "Q5. Using the given dataset, create a bubble chart to represent each country's population (y-axis), GDP (xaxis), and bubble size proportional to the population. np.random.seed(25)\n",
        "data = {\n",
        "    'Country': ['USA', 'Canada', 'UK',\n",
        "'Germany', 'France'],\n",
        "    'Population':\n",
        "np.random.randint(100, 1000, 5),\n",
        "    'GDP': np.random.randint(500, 2000,\n",
        "5)\n",
        "}\n",
        "df = pd.DataFrame(data)"
      ],
      "metadata": {
        "id": "zhNaXeWfixUG"
      }
    },
    {
      "cell_type": "code",
      "source": [
        "import numpy as np\n",
        "import pandas as pd\n",
        "import plotly.express as px\n",
        "\n",
        "# Seed for reproducibility\n",
        "np.random.seed(25)\n",
        "\n",
        "# Generating the dataset\n",
        "data = {\n",
        "    'Country': ['USA', 'Canada', 'UK', 'Germany', 'France'],\n",
        "    'Population': np.random.randint(100, 1000, 5),\n",
        "    'GDP': np.random.randint(500, 2000, 5)\n",
        "}\n",
        "\n",
        "df = pd.DataFrame(data)\n",
        "\n",
        "# Create a bubble chart\n",
        "fig = px.scatter(df,\n",
        "                 x='GDP',\n",
        "                 y='Population',\n",
        "                 size='Population',\n",
        "                 color='Country',\n",
        "                 hover_name='Country',\n",
        "                 size_max=100,\n",
        "                 title=\"Bubble Chart of Country Population vs GDP\",\n",
        "                 labels={'GDP': 'GDP (Billion)', 'Population': 'Population (Millions)'}\n",
        "                )\n",
        "\n",
        "# Show the plot\n",
        "fig.show()\n"
      ],
      "metadata": {
        "id": "mGe7mkNwi8rm"
      },
      "execution_count": null,
      "outputs": []
    },
    {
      "cell_type": "markdown",
      "source": [
        "**BOKEH ASSIGNMENT:**"
      ],
      "metadata": {
        "id": "1s9Qq-tWi1rI"
      }
    },
    {
      "cell_type": "markdown",
      "source": [
        "Q1.Create a Bokeh plot displaying a sine wave. Set x-values from 0 to 10 and y-values as the sine of x"
      ],
      "metadata": {
        "id": "5GGI292sjFhn"
      }
    },
    {
      "cell_type": "code",
      "source": [
        "from bokeh.plotting import figure, show\n",
        "import numpy as np\n",
        "\n",
        "# Generate data for sine wave\n",
        "x = np.linspace(0, 10, 1000)  # x-values from 0 to 10\n",
        "y = np.sin(x)  # y-values as sine of x\n",
        "\n",
        "# Create a figure object\n",
        "p = figure(title=\"Sine Wave\", x_axis_label='x', y_axis_label='sin(x)')\n",
        "\n",
        "# Add a line renderer with the data\n",
        "p.line(x, y, legend_label=\"sin(x)\", line_width=2, color=\"blue\")\n",
        "\n",
        "# Show the plot\n",
        "show(p)\n"
      ],
      "metadata": {
        "id": "YyBJKKcwjNrQ"
      },
      "execution_count": null,
      "outputs": []
    },
    {
      "cell_type": "markdown",
      "source": [
        "Q2Create a Bokeh scatter plot using randomly generated x and y values. Use different sizes and colors for the\n",
        "markers based on the 'sizes' and 'colors' columns."
      ],
      "metadata": {
        "id": "2uFO3rKPjYRQ"
      }
    },
    {
      "cell_type": "code",
      "source": [
        "from bokeh.plotting import figure, show\n",
        "import numpy as np\n",
        "import pandas as pd\n",
        "\n",
        "# Generate random data\n",
        "n = 100  # Number of points\n",
        "x = np.random.rand(n) * 10  # Random x-values between 0 and 10\n",
        "y = np.random.rand(n) * 10  # Random y-values between 0 and 10\n",
        "\n",
        "# Randomly generate sizes and colors\n",
        "sizes = np.random.randint(5, 30, size=n)  # Random sizes for the points\n",
        "colors = np.random.choice(['red', 'green', 'blue', 'orange', 'purple'], size=n)  # Random colors\n",
        "\n",
        "# Create a DataFrame (optional but useful for managing the data)\n",
        "df = pd.DataFrame({\n",
        "    'x': x,\n",
        "    'y': y,\n",
        "    'sizes': sizes,\n",
        "    'colors': colors\n",
        "})\n",
        "\n",
        "# Create a figure object\n",
        "p = figure(title=\"Random Scatter Plot\", x_axis_label='X', y_axis_label='Y')\n",
        "\n",
        "# Add a scatter renderer with the data\n",
        "p.scatter('x', 'y', size='sizes', color='colors', legend_field='colors', source=df,\n"
      ],
      "metadata": {
        "id": "gG2ICHfZjdI8"
      },
      "execution_count": null,
      "outputs": []
    },
    {
      "cell_type": "markdown",
      "source": [
        "Q3 Generate a Bokeh bar chart representing the counts of different fruits using the following dataset fruits = ['Apples', 'Oranges', 'Bananas', 'Pears']\n",
        "counts = [20, 25, 30, 35]"
      ],
      "metadata": {
        "id": "BUAMPtnIjiZ0"
      }
    },
    {
      "cell_type": "code",
      "source": [
        "from bokeh.plotting import figure, show\n",
        "from bokeh.io import output_file\n",
        "\n",
        "# Data\n",
        "fruits = ['Apples', 'Oranges', 'Bananas', 'Pears']\n",
        "counts = [20, 25, 30, 35]\n",
        "\n",
        "# Create a figure object\n",
        "p = figure(x_range=fruits, title=\"Fruit Counts\", toolbar_location=None, tools=\"\")\n",
        "\n",
        "# Add a vertical bar renderer\n",
        "p.vbar(x=fruits, top=counts, width=0.5, color=\"skyblue\", legend_field=\"Fruits\")\n",
        "\n",
        "# Customize the chart\n",
        "p.xaxis.axis_label = \"Fruit\"\n",
        "p.yaxis.axis_label = \"Count\"\n",
        "p.legend.title = \"Fruits\"\n",
        "\n",
        "# Show the plot\n",
        "output_file(\"fruit_counts_bar_chart.html\")  # Saves the plot as an HTML file\n",
        "show(p)\n"
      ],
      "metadata": {
        "id": "rG6m_ZlbjFGf"
      },
      "execution_count": null,
      "outputs": []
    },
    {
      "cell_type": "markdown",
      "source": [
        "Q4Create a Bokeh histogram to visualize the distribution of the given data.data_hist = np.random.randn(1000)\n",
        "hist, edges = np.histogram(data_hist, bins=30)"
      ],
      "metadata": {
        "id": "JBPeVO1jjhgd"
      }
    },
    {
      "cell_type": "code",
      "source": [
        "from bokeh.plotting import figure, show\n",
        "from bokeh.io import output_file\n",
        "import numpy as np\n",
        "\n",
        "# Generate random data\n",
        "data_hist = np.random.randn(1000)\n",
        "\n",
        "# Create histogram data\n",
        "hist, edges = np.histogram(data_hist, bins=30)\n",
        "\n",
        "# Create a figure object\n",
        "p = figure(title=\"Histogram of Random Data\",\n",
        "           x_axis_label='Value', y_axis_label='Frequency',\n",
        "           tools=\"pan,box_zoom,reset\")\n",
        "\n",
        "# Add a quadrilateral renderer (bars for the histogram)\n",
        "p.quad(top=hist, bottom=0, left=edges[:-1], right=edges[1:],\n",
        "       fill_color=\"skyblue\", line_color=\"white\", alpha=0.7)\n",
        "\n",
        "# Show the plot\n",
        "output_file(\"histogram.html\")  # Saves the plot as an HTML file\n",
        "show(p)\n"
      ],
      "metadata": {
        "id": "VSNDowjUkKgQ"
      },
      "execution_count": null,
      "outputs": []
    },
    {
      "cell_type": "markdown",
      "source": [
        "Q5. Create a Bokeh heatmap using the provided dataset data_heatmap = np.random.rand(10, 10)\n",
        "x = np.linspace(0, 1, 10)\n",
        "y = np.linspace(0, 1, 10)\n",
        "xx, yy = np.meshgrid(x, y)"
      ],
      "metadata": {
        "id": "QIBRB4EFkLyZ"
      }
    },
    {
      "cell_type": "code",
      "source": [
        "from bokeh.plotting import figure, show\n",
        "from bokeh.io import output_file\n",
        "from bokeh.models import ColorBar\n",
        "from bokeh.transform import linear_cmap\n",
        "from bokeh.palettes import Viridis256\n",
        "import numpy as np\n",
        "from bokeh.layouts import column\n",
        "\n",
        "# Generate random heatmap data\n",
        "data_heatmap = np.random.rand(10, 10)\n",
        "x = np.linspace(0, 1, 10)\n",
        "y = np.linspace(0, 1, 10)\n",
        "\n",
        "# Create a meshgrid for x and y\n",
        "xx, yy = np.meshgrid(x, y)\n",
        "\n",
        "# Flatten the meshgrid to use as coordinates\n",
        "x_coords = xx.flatten()\n",
        "y_coords = yy.flatten()\n",
        "z_vals = data_heatmap.flatten()\n",
        "\n",
        "# Create a figure\n",
        "p = figure(title=\"Heatmap Example\",\n",
        "           x_axis_label='X', y_axis_label='Y',\n",
        "           tools=\"pan,box_zoom,reset\")\n",
        "\n",
        "# Create a color map for the heatmap\n",
        "mapper = linear_cmap(field_name='z', palette=Viridis256, low=min(z_vals), high=max(z_vals))\n",
        "\n",
        "# Create a scatter plot for the heatmap\n",
        "p.scatter(x_coords, y_coords, size=10, color=mapper, legend_field='z', fill_alpha=0.7)\n",
        "\n",
        "# Add a color bar\n",
        "color_bar = ColorBar(color_mapper=mapper['transform'], width=8, location=(0,0))\n",
        "p.add_layout(color_bar, 'right')\n",
        "\n",
        "# Show the plot\n",
        "output_file(\"heatmap.html\")  # Save the plot as an HTML file\n",
        "show(p)\n"
      ],
      "metadata": {
        "id": "8360nJyukVHg"
      },
      "execution_count": null,
      "outputs": []
    }
  ]
}