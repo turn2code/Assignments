{
  "nbformat": 4,
  "nbformat_minor": 0,
  "metadata": {
    "colab": {
      "provenance": []
    },
    "kernelspec": {
      "name": "python3",
      "display_name": "Python 3"
    },
    "language_info": {
      "name": "python"
    }
  },
  "cells": [
    {
      "cell_type": "code",
      "execution_count": null,
      "metadata": {
        "id": "o1DBd7Anwa2s"
      },
      "outputs": [],
      "source": [
        "SQL Basic Assignment\n"
      ]
    },
    {
      "cell_type": "markdown",
      "source": [
        "1. Create a table called employees with the following structure?\n",
        " emp_id (integer, should not be NULL and should be a primary key)Q\n",
        " emp_name (text, should not be NULL)Q\n",
        " age (integer, should have a check constraint to ensure the age is at least 18)Q\n",
        " email (text, should be unique for each employee)Q\n",
        " salary (decimal, with a default value of 30,000).\n",
        "\n",
        "Write the SQL query to create the above table with all constraints\n",
        "Ans To create the employees table in a PostgreSQL (or similar SQL-compliant) database using Python, you can use the psycopg2 library (for PostgreSQL) or sqlite3 (for SQLite). Below is the SQL query to create the table with all the specified constraints:"
      ],
      "metadata": {
        "id": "yKQlPvUlwgf2"
      }
    },
    {
      "cell_type": "code",
      "source": [
        "CREATE TABLE employees (\n",
        "    emp_id SERIAL PRIMARY KEY,\n",
        "    emp_name TEXT NOT NULL,\n",
        "    age INTEGER CHECK (age >= 18),\n",
        "    email TEXT UNIQUE,\n",
        "    salary DECIMAL DEFAULT 30000\n",
        ");\n"
      ],
      "metadata": {
        "id": "VCtoTz9YwwaZ"
      },
      "execution_count": null,
      "outputs": []
    },
    {
      "cell_type": "markdown",
      "source": [
        "2. Explain the purpose of constraints and how they help maintain data integrity in a database. Provide\n",
        "examples of common types of constraints.\n",
        "Ans Purpose of Constraints in a Database\n",
        "Constraints in a database are rules applied to columns in a table to ensure data integrity, consistency, and accuracy. They prevent invalid data from being inserted and maintain relationships between different tables.\n",
        "\n",
        "How Constraints Help Maintain Data Integrity\n",
        "Prevent Invalid Data Entry – Ensures only valid data is stored in the database.\n",
        "Enforce Business Rules – Constraints help enforce real-world business logic (e.g., age must be ≥ 18).\n",
        "Ensure Uniqueness – Avoid duplicate records (e.g., emails should be unique).\n",
        "Maintain Relationships – Ensure data consistency across multiple tables (e.g., foreign keys).\n",
        "Improve Query Performance – Indexed constraints (like PRIMARY KEY) speed up searches.\n",
        "Common Types of Constraints with Examples\n",
        "Primary Key (PRIMARY KEY)\n",
        "\n",
        "Ensures each row in a table has a unique identifier and cannot be NULL.\n",
        "Example"
      ],
      "metadata": {
        "id": "mCwVdMJHwxSs"
      }
    },
    {
      "cell_type": "code",
      "source": [
        "CREATE TABLE employees (\n",
        "    emp_id SERIAL PRIMARY KEY,  -- Unique ID for each employee\n",
        "    emp_name TEXT NOT NULL\n",
        ");\n"
      ],
      "metadata": {
        "id": "cB7Jih6HxCuS"
      },
      "execution_count": null,
      "outputs": []
    },
    {
      "cell_type": "markdown",
      "source": [
        "Not Null (NOT NULL)\n",
        "\n",
        "Ensures a column cannot have NULL values.\n",
        "Example"
      ],
      "metadata": {
        "id": "D5O6IEpyxEsE"
      }
    },
    {
      "cell_type": "code",
      "source": [
        "CREATE TABLE users (\n",
        "    user_id SERIAL PRIMARY KEY,\n",
        "    username TEXT NOT NULL  -- Username is required\n",
        ");\n"
      ],
      "metadata": {
        "id": "9d49CadUxG-o"
      },
      "execution_count": null,
      "outputs": []
    },
    {
      "cell_type": "markdown",
      "source": [
        "Unique (UNIQUE)\n",
        "\n",
        "Ensures no duplicate values in a column.\n",
        "Example"
      ],
      "metadata": {
        "id": "mdhm7g4dxI2b"
      }
    },
    {
      "cell_type": "code",
      "source": [
        "CREATE TABLE customers (\n",
        "    customer_id SERIAL PRIMARY KEY,\n",
        "    email TEXT UNIQUE  -- Each email must be unique\n",
        ");\n"
      ],
      "metadata": {
        "id": "TitIpLEWxLm8"
      },
      "execution_count": null,
      "outputs": []
    },
    {
      "cell_type": "markdown",
      "source": [
        "Foreign Key (FOREIGN KEY)\n",
        "\n",
        "Ensures referential integrity by linking a column to another table’s PRIMARY KEY.\n",
        "CREATE TABLE orders (\n",
        "    order_id SERIAL PRIMARY KEY,\n",
        "    customer_id INT REFERENCES customers(customer_id)  -- Must match an existing customer_id\n",
        ");\n",
        "Default (DEFAULT)\n",
        "\n",
        "Assigns a default value if none is provided.\n",
        "CREATE TABLE employees (\n",
        "    emp_id SERIAL PRIMARY KEY,\n",
        "    salary DECIMAL DEFAULT 30000  -- Default salary is 30,000\n",
        ");\n"
      ],
      "metadata": {
        "id": "Hczzl4TSxN5P"
      }
    },
    {
      "cell_type": "markdown",
      "source": [
        "3.Why would you apply the NOT NULL constraint to a column? Can a primary key contain NULL values? Justify\n",
        "your answer\n",
        "Ans.Why Apply the NOT NULL Constraint to a Column?\n",
        "The NOT NULL constraint ensures that a column must always have a value and cannot contain NULL. This is important for fields where missing values would cause inconsistencies or errors in the application logic.\n",
        "\n",
        "Reasons for Using NOT NULL\n",
        "Ensures Data Completeness – Prevents missing information in essential columns.\n",
        "Maintains Data Integrity – Ensures that all records contain necessary data.\n",
        "Improves Query Performance – Helps optimize indexing and searching.\n",
        "Prevents Logical Errors – Avoids unexpected NULL values that could cause issues in calculations or conditions.\n",
        "Example: Using NOT NULL in a Table\n",
        "sql\n",
        "Copy\n",
        "Edit\n",
        "CREATE TABLE users (\n",
        "    user_id SERIAL PRIMARY KEY,\n",
        "    username TEXT NOT NULL,  -- Every user must have a username\n",
        "    email TEXT UNIQUE NOT NULL  -- Email is mandatory and must be unique\n",
        ");\n",
        "Can a Primary Key Contain NULL Values?\n",
        "No, a PRIMARY KEY cannot contain NULL values.\n",
        "\n",
        "Justification:\n",
        "Uniqueness Requirement – The PRIMARY KEY uniquely identifies each row in a table. A NULL value is not a unique identifier.\n",
        "Indexing & Search Optimization – Databases create indexes on PRIMARY KEY columns to speed up queries, which would be inefficient with NULL values.\n",
        "Logical Consistency – A row must have a unique identifier to be referenced in relationships (e.g., FOREIGN KEY constraints).\n",
        "Example: Attempting to Insert NULL in a Primary Key\n",
        "sql\n",
        "Copy\n",
        "Edit\n",
        "CREATE TABLE employees (\n",
        "    emp_id SERIAL PRIMARY KEY,\n",
        "    emp_name TEXT NOT NULL\n",
        ");\n",
        "\n",
        "INSERT INTO employees (emp_id, emp_name) VALUES (NULL, 'John Doe');  -- This will FAIL\n",
        "\n",
        "\n",
        "sql\n",
        "Copy\n",
        "Edit\n",
        "INSERT INTO employees (emp_name) VALUES ('John Doe');  -- emp_id auto-generates (if SERIAL is used)\n"
      ],
      "metadata": {
        "id": "Qk_mNRX2xWiP"
      }
    },
    {
      "cell_type": "markdown",
      "source": [
        "4. Explain the steps and SQL commands used to add or remove constraints on an existing table. Provide an\n",
        "example for both adding and removing a constraint.\n",
        "Ans.Steps to Add or Remove Constraints on an Existing Table\n",
        "In SQL, modifying constraints on an existing table requires the ALTER TABLE command. Depending on the database system (PostgreSQL, MySQL, SQLite, etc.), some constraints can be directly modified, while others may require workarounds.\n",
        "\n",
        "Adding a Constraint\n",
        "Syntax:\n",
        "\n",
        "sql\n",
        "Copy\n",
        "Edit\n",
        "ALTER TABLE table_name ADD CONSTRAINT constraint_name constraint_type (column);\n",
        "Example: Adding a CHECK Constraint\n",
        "Let's say we have an employees table, but it currently doesn't enforce an age restriction. We can add a CHECK constraint to ensure that employees must be at least 18 years old.\n",
        "\n",
        "sql\n",
        "Copy\n",
        "Edit\n",
        "ALTER TABLE employees\n",
        "ADD CONSTRAINT chk_age CHECK (age >= 18);\n",
        "Removing a Constraint\n",
        "Syntax:\n",
        "\n",
        "sql\n",
        "Copy\n",
        "Edit\n",
        "ALTER TABLE table_name DROP CONSTRAINT constraint_name;\n",
        "Note: Some constraints, like NOT NULL, cannot be dropped directly. Instead, you may need to alter the column.\n",
        "\n",
        "Example: Removing a CHECK Constraint\n",
        "If we decide to remove the age restriction:\n",
        "\n",
        "sql\n",
        "Copy\n",
        "Edit\n",
        "ALTER TABLE employees\n",
        "DROP CONSTRAINT chk_age;\n",
        "Example: Removing a NOT NULL Constraint\n",
        "Since NOT NULL is part of the column definition, we modify the column instead:\n",
        "\n",
        "sql\n",
        "Copy\n",
        "Edit\n",
        "ALTER TABLE employees\n",
        "ALTER COLUMN emp_name DROP NOT NULL;"
      ],
      "metadata": {
        "id": "p43gPN0axlEG"
      }
    },
    {
      "cell_type": "markdown",
      "source": [
        "5. Explain the consequences of attempting to insert, update, or delete data in a way that violates constraints.\n",
        "Provide an example of an error message that might occur when violating a constraint.\n",
        "Ans.Consequences of Violating Constraints in SQL\n",
        "When attempting to INSERT, UPDATE, or DELETE data in a way that violates constraints, the database system rejects the operation and returns an error message. This helps maintain data integrity and prevents inconsistent or incorrect data from being stored.\n",
        "\n",
        "Types of Constraint Violations & Their Consequences\n",
        "1 NOT NULL Constraint Violation\n",
        "Consequence: Attempting to insert NULL into a column marked as NOT NULL will cause an error.\n",
        "Example:\n",
        "sql\n",
        "Copy\n",
        "Edit\n",
        "CREATE TABLE employees (\n",
        "    emp_id SERIAL PRIMARY KEY,\n",
        "    emp_name TEXT NOT NULL\n",
        ");\n",
        "\n",
        "INSERT INTO employees (emp_id, emp_name) VALUES (1, NULL);\n",
        "Error Message:\n",
        "sql\n",
        "Copy\n",
        "Edit\n",
        "ERROR:  null value in column \"emp_name\" violates not-null constraint\n",
        "2 PRIMARY KEY Constraint Violation\n",
        "Consequence: A PRIMARY KEY must be unique and not NULL. If a duplicate value is inserted, an error occurs.\n",
        "Example:\n",
        "sql\n",
        "Copy\n",
        "Edit\n",
        "INSERT INTO employees (emp_id, emp_name) VALUES (1, 'John Doe');\n",
        "INSERT INTO employees (emp_id, emp_name) VALUES (1, 'Jane Smith'); -- Duplicate emp_id\n",
        "Error Message:\n",
        "sql\n",
        "Copy\n",
        "Edit\n",
        "ERROR:  duplicate key value violates unique constraint \"employees_pkey\"\n",
        "3 UNIQUE Constraint Violation\n",
        "Consequence: Attempting to insert duplicate values in a column with a UNIQUE constraint will be rejected.\n",
        "Example:\n",
        "sql\n",
        "Copy\n",
        "Edit\n",
        "CREATE TABLE customers (\n",
        "    customer_id SERIAL PRIMARY KEY,\n",
        "    email TEXT UNIQUE\n",
        ");\n",
        "\n",
        "INSERT INTO customers (email) VALUES ('user@example.com');\n",
        "INSERT INTO customers (email) VALUES ('user@example.com'); -- Duplicate email\n",
        "Error Message:\n",
        "sql\n",
        "Copy\n",
        "Edit\n",
        "ERROR:  duplicate key value violates unique constraint \"customers_email_key\"\n",
        "4 CHECK Constraint Violation\n",
        "Consequence: If a value does not satisfy the CHECK condition, the operation fails.\n",
        "Example:\n",
        "sql\n",
        "Copy\n",
        "Edit\n",
        "CREATE TABLE products (\n",
        "    product_id SERIAL PRIMARY KEY,\n",
        "    price DECIMAL CHECK (price > 0)\n",
        ");\n",
        "\n",
        "INSERT INTO products (price) VALUES (-10); -- Negative price not allowed\n",
        "Error Message:\n",
        "sql\n",
        "Copy\n",
        "Edit\n",
        "ERROR:  new row for relation \"products\" violates check constraint \"products_price_check\"\n",
        "5 FOREIGN KEY Constraint Violation\n",
        "Consequence: A FOREIGN KEY ensures referential integrity. If you try to insert a value that does not exist in the referenced table, the operation is rejected.\n",
        "Example:\n",
        "sql\n",
        "Copy\n",
        "Edit\n",
        "CREATE TABLE departments (\n",
        "    dept_id SERIAL PRIMARY KEY,\n",
        "    dept_name TEXT\n",
        ");\n",
        "\n",
        "CREATE TABLE employees (\n",
        "    emp_id SERIAL PRIMARY KEY,\n",
        "    dept_id INT REFERENCES departments(dept_id)\n",
        ");\n",
        "\n",
        "INSERT INTO employees (dept_id) VALUES (99); -- No dept_id = 99 exists\n",
        "Error Message:\n",
        "pgsql\n",
        "Copy\n",
        "Edit\n",
        "ERROR:  insert or update on table \"employees\" violates foreign key constraint \"employees_dept_id_fkey\"\n",
        "6 DELETE Violating a FOREIGN KEY\n",
        "Consequence: If a FOREIGN KEY references a row, deleting the parent row without cascading or handling dependencies will fail.\n",
        "Example:\n",
        "sql\n",
        "Copy\n",
        "Edit\n",
        "DELETE FROM departments WHERE dept_id = 1;\n",
        "Error Message:\n",
        "pgsql\n",
        "Copy\n",
        "Edit\n",
        "ERROR:  update or delete on table \"departments\" violates foreign key constraint \"employees_dept_id_fkey\" on table \"employees\"\n"
      ],
      "metadata": {
        "id": "3XGpYmeUx2RT"
      }
    },
    {
      "cell_type": "markdown",
      "source": [
        "6. You created a products table without constraints as follows:\n",
        "\n",
        "CREATE TABLE products (\n",
        "\n",
        "    product_id INT,\n",
        "\n",
        "    product_name VARCHAR(50),\n",
        "\n",
        "    price DECIMAL(10, 2));\n",
        "Now, you realise that?\n",
        ": The product_id should be a primary keyQ\n",
        ": The price should have a default value of 50.00\n",
        "Ans.Modifying the products Table to Add Constraints\n",
        "Since the products table was created without constraints, we can use the ALTER TABLE command to add them.\n",
        "\n",
        "1 Adding a PRIMARY KEY to product_id\n",
        "Syntax:\n",
        "\n",
        "sql\n",
        "Copy\n",
        "Edit\n",
        "ALTER TABLE products\n",
        "ADD CONSTRAINT pk_product PRIMARY KEY (product_id);\n",
        " This ensures that product_id is unique and cannot be NULL.\n",
        "\n",
        "2 Setting a Default Value for price\n",
        "Syntax:\n",
        "\n",
        "sql\n",
        "Copy\n",
        "Edit\n",
        "ALTER TABLE products\n",
        "ALTER COLUMN price SET DEFAULT 50.00;\n",
        " This ensures that if no price is specified in an INSERT statement, it defaults to 50.00.\n",
        "\n",
        "Final SQL Code\n",
        "sql\n",
        "Copy\n",
        "Edit\n",
        "ALTER TABLE products\n",
        "ADD CONSTRAINT pk_product PRIMARY KEY (product_id);\n",
        "\n",
        "ALTER TABLE products\n",
        "ALTER COLUMN price SET DEFAULT 50.00;\n",
        "Testing the Changes\n",
        " Inserting a Product Without a Price (Default Should Apply)\n",
        "sql\n",
        "Copy\n",
        "Edit\n",
        "INSERT INTO products (product_id, product_name) VALUES (1, 'Laptop');\n",
        " Checking the Data\n",
        "sql\n",
        "Copy\n",
        "Edit\n",
        "SELECT * FROM products;\n",
        "Expected Output:\n",
        "\n",
        "product_id\tproduct_name\tprice\n",
        "1\tLaptop\t50.00\n"
      ],
      "metadata": {
        "id": "7JrawY5IyLlq"
      }
    },
    {
      "cell_type": "markdown",
      "source": [
        "7.\n",
        "Ans Here is the SQL query to fetch the student_name and class_name for each student using an INNER JOIN:\n",
        "\n",
        "sql\n",
        "Copy\n",
        "Edit\n",
        "SELECT\n",
        "    students.student_name,\n",
        "    classes.class_name\n",
        "FROM students\n",
        "INNER JOIN classes ON students.class_id = classes.class_id;"
      ],
      "metadata": {
        "id": "yjFLIQsaypZ4"
      }
    },
    {
      "cell_type": "markdown",
      "source": [
        "8.\n",
        "Ans Here is the SQL query to fetch all order_id, customer_name, and product_name, ensuring that all products are listed, even if they are not associated with an order:\n",
        "\n",
        "sql\n",
        "Select\n",
        "    orders.order_id,\n",
        "    customers.customer_name,\n",
        "    products.product_name\n",
        "FROM products\n",
        "LEFT JOIN orders ON products.order_id = orders.order_id\n",
        "LEFT JOIN customers ON orders.customer_id = customers.customer_id;"
      ],
      "metadata": {
        "id": "VwAn9KHnzBZN"
      }
    },
    {
      "cell_type": "markdown",
      "source": [
        "9.\n",
        "Ans. Here is the SQL query to find the total sales amount for each product using an INNER JOIN and the SUM() function:\n",
        "\n",
        "sql\n",
        "\n",
        "\n",
        "    products.product_name,\n",
        "    SUM(sales.amount) AS total_sales\n",
        "FROM sales\n",
        "INNER JOIN products ON sales.product_id = products.product_id\n",
        "GROUP BY products.product_name;"
      ],
      "metadata": {
        "id": "nsCYvw5bzUvp"
      }
    },
    {
      "cell_type": "markdown",
      "source": [
        "10.\n",
        "Ans. Here is the SQL query to display the order_id, customer_name, and the quantity of products ordered by each customer using an INNER JOIN between all three tables:\n",
        "\n",
        "sql\n",
        "\n",
        "SELECT\n",
        "    orders.order_id,\n",
        "    customers.customer_name,\n",
        "    order_details.quantity\n",
        "FROM orders\n",
        "INNER JOIN customers ON orders.customer_id = customers.customer_id\n",
        "INNER JOIN order_details ON orders.order_id = order_details.order_id;"
      ],
      "metadata": {
        "id": "oSiERTiYzjlk"
      }
    },
    {
      "cell_type": "markdown",
      "source": [
        "SQL Commands"
      ],
      "metadata": {
        "id": "SbucvgBF0Hxg"
      }
    },
    {
      "cell_type": "markdown",
      "source": [
        "1. Identify the primary keys and foreign keys in the Maven Movies DB.\n",
        "Primary Keys vs. Foreign Keys:\n",
        "Primary Key (PK): Uniquely identifies a record in a table.\n",
        "Foreign Key (FK): Refers to a Primary Key in another table to establish relationships.\n",
        "Example of PKs and FKs in the Maven Movies DB:"
      ],
      "metadata": {
        "id": "xr9rmbKY0CLg"
      }
    },
    {
      "cell_type": "markdown",
      "source": [
        "2. List all details of actors\n",
        "sql\n",
        "Copy\n",
        "Edit\n",
        "SELECT * FROM actor;"
      ],
      "metadata": {
        "id": "b9eitbJp0Giv"
      }
    },
    {
      "cell_type": "markdown",
      "source": [
        "3. List all customer information from DB\n",
        "Ans.\n",
        "sql\n",
        "\n",
        "SELECT * FROM customer;\n"
      ],
      "metadata": {
        "id": "lq1Xgloh0Llu"
      }
    },
    {
      "cell_type": "markdown",
      "source": [
        "4. List different countries\n",
        "Ans. sql\n",
        "\n",
        "SELECT DISTINCT country FROM country;"
      ],
      "metadata": {
        "id": "cg_IS9R30SJt"
      }
    },
    {
      "cell_type": "markdown",
      "source": [
        "5. Display all active customers\n",
        "Ans. sql\n",
        "\n",
        "SELECT * FROM customer WHERE active = 1;"
      ],
      "metadata": {
        "id": "Kq2z8kuu0Xdi"
      }
    },
    {
      "cell_type": "markdown",
      "source": [
        "6. List of all rental IDs for customer with ID 1\n",
        "Ans. sql\n",
        "\n",
        "SELECT rental_id FROM rental WHERE customer_id = 1;"
      ],
      "metadata": {
        "id": "skF3Ocg10ezr"
      }
    },
    {
      "cell_type": "markdown",
      "source": [
        "7. Display all the films whose rental duration is greater than 5\n",
        "Ans. sql\n",
        "\n",
        "SELECT * FROM film WHERE rental_duration > 5;\n"
      ],
      "metadata": {
        "id": "r5-wM1jl0iua"
      }
    },
    {
      "cell_type": "markdown",
      "source": [
        "8. List the total number of films whose replacement cost is greater than $15 and less than $20\n",
        "Ans. NT(*) AS total_films\n",
        "FROM film\n",
        "WHERE replacement_cost > 15 AND replacement_cost < 20;"
      ],
      "metadata": {
        "id": "fjwrdfCd0mnV"
      }
    },
    {
      "cell_type": "markdown",
      "source": [
        "9. Display the count of unique first names of actors\n",
        "Ans. sql\n",
        "\n",
        "SELECT COUNT(DISTINCT first_name) AS unique_actor_names FROM actor;"
      ],
      "metadata": {
        "id": "pGg9aDqT0qjH"
      }
    },
    {
      "cell_type": "markdown",
      "source": [
        "10. Display the first 10 records from the customer table\n",
        "Ans. sql\n",
        "\n",
        "SELECT * FROM customer LIMIT 10;"
      ],
      "metadata": {
        "id": "m6m6zQEy0vl7"
      }
    },
    {
      "cell_type": "markdown",
      "source": [
        "11. Display the first 3 records from the customer table whose first name starts with ‘B’\n",
        "Ans. sql\n",
        "\n",
        "SELECT * FROM customer\n",
        "WHERE first_name LIKE 'B%'\n",
        "LIMIT 3;"
      ],
      "metadata": {
        "id": "1kVPYkx_00_k"
      }
    },
    {
      "cell_type": "markdown",
      "source": [
        "12. Display the names of the first 5 movies which are rated as ‘G’\n",
        "Ans. sql\n",
        "\n",
        "SELECT title FROM film\n",
        "WHERE rating = 'G'\n",
        "LIMIT 5;\n"
      ],
      "metadata": {
        "id": "ZH3kiRz804gr"
      }
    },
    {
      "cell_type": "markdown",
      "source": [
        "13. Find all customers whose first name starts with \"A\"\n",
        "Ans. sql\n",
        "\n",
        "SELECT * FROM customer\n",
        "WHERE first_name LIKE 'A%';"
      ],
      "metadata": {
        "id": "WW3nCUkF08iK"
      }
    },
    {
      "cell_type": "markdown",
      "source": [
        "14. Find all customers whose first name ends with \"A\"\n",
        "Ans. sql\n",
        "\n",
        "SELECT * FROM customer\n",
        "WHERE first_name LIKE '%A';"
      ],
      "metadata": {
        "id": "-aAtITxI1EgN"
      }
    },
    {
      "cell_type": "markdown",
      "source": [
        "15. Display the list of first 4 cities which start and end with ‘A’\n",
        "Ans. sql\n",
        "\n",
        "SELECT city FROM city\n",
        "WHERE city LIKE 'A%A'\n",
        "LIMIT 4;"
      ],
      "metadata": {
        "id": "EtRwry-T1LC4"
      }
    },
    {
      "cell_type": "markdown",
      "source": [
        "16. Find all customers whose first name has \"NI\" in any position\n",
        "Ans. sql\n",
        "\n",
        "SELECT * FROM customer\n",
        "WHERE first_name LIKE '%NI%';"
      ],
      "metadata": {
        "id": "edApLc0k1Nar"
      }
    },
    {
      "cell_type": "markdown",
      "source": [
        "17. Find all customers whose first name has \"r\" in the second position\n",
        "Ans. sql\n",
        "\n",
        "SELECT * FROM customer\n",
        "WHERE first_name LIKE '_r%';"
      ],
      "metadata": {
        "id": "HRU6VnG_1cjv"
      }
    },
    {
      "cell_type": "markdown",
      "source": [
        "18. Find all customers whose first name starts with \"A\" and is at least 5 characters in length\n",
        "Ans. sql\n",
        "\n",
        "SELECT * FROM customer\n",
        "WHERE first_name LIKE 'A%'\n",
        "AND LENGTH(first_name) >= 5;"
      ],
      "metadata": {
        "id": "P3lBdd3d1ekH"
      }
    },
    {
      "cell_type": "markdown",
      "source": [
        "19. Find all customers whose first name starts with \"A\" and ends with \"O\"\n",
        "Ans. sql\n",
        "\n",
        "SELECT * FROM customer\n",
        "WHERE first_name LIKE 'A%O';"
      ],
      "metadata": {
        "id": "kZflTqe_1jOv"
      }
    },
    {
      "cell_type": "markdown",
      "source": [
        "20. Get the films with PG and PG-13 rating using IN operator\n",
        "Ans. sql\n",
        "\n",
        "SELECT * FROM film\n",
        "WHERE rating IN ('PG', 'PG-13');"
      ],
      "metadata": {
        "id": "oHmJIP3M1myS"
      }
    },
    {
      "cell_type": "markdown",
      "source": [
        "21. Get the films with length between 50 to 100 using BETWEEN operator\n",
        "Ans. sql\n",
        "\n",
        "SELECT * FROM film\n",
        "WHERE length BETWEEN 50 AND 100;"
      ],
      "metadata": {
        "id": "zj2fTWRb1qoW"
      }
    },
    {
      "cell_type": "markdown",
      "source": [
        "22. Get the top 50 actors using LIMIT operator\n",
        "Ans. sql\n",
        "\n",
        "SELECT * FROM actor\n",
        "LIMIT 50;"
      ],
      "metadata": {
        "id": "Nx2gKn3l1vUi"
      }
    },
    {
      "cell_type": "markdown",
      "source": [
        "23. Get the distinct film IDs from the inventory table\n",
        "Ans. sql\n",
        "\n",
        "SELECT DISTINCT film_id FROM inventory;"
      ],
      "metadata": {
        "id": "BMVsJjWM1zR6"
      }
    },
    {
      "cell_type": "markdown",
      "source": [
        "FUnctions"
      ],
      "metadata": {
        "id": "guQZ55V815M-"
      }
    },
    {
      "cell_type": "markdown",
      "source": [
        "1. Retrieve the total number of rentals made in the Sakila database\n",
        "Ans. sql\n",
        "\n",
        "SELECT COUNT(*) AS total_rentals\n",
        "FROM rental;"
      ],
      "metadata": {
        "id": "Ceo4p70W2DGa"
      }
    },
    {
      "cell_type": "markdown",
      "source": [
        "2. Find the average rental duration (in days) of movies rented from the Sakila database\n",
        "Ans. sql\n",
        "\n",
        "SELECT AVG(rental_duration) AS avg_rental_duration\n",
        "FROM film;"
      ],
      "metadata": {
        "id": "qKLT-lDQ2Hcj"
      }
    },
    {
      "cell_type": "markdown",
      "source": [
        "3. Display the first name and last name of customers in uppercase\n",
        "Ans. sql\n",
        "\n",
        "SELECT UPPER(first_name) AS first_name_upper,\n",
        "       UPPER(last_name) AS last_name_upper\n",
        "FROM customer;"
      ],
      "metadata": {
        "id": "22u3krMw2LOo"
      }
    },
    {
      "cell_type": "markdown",
      "source": [
        "4. Extract the month from the rental date and display it alongside the rental ID\n",
        "Ans. sql\n",
        "\n",
        "SELECT rental_id,\n",
        "       MONTH(rental_date) AS rental_month\n",
        "FROM rental;"
      ],
      "metadata": {
        "id": "lbzbth0b2QHE"
      }
    },
    {
      "cell_type": "markdown",
      "source": [
        "5. Retrieve the count of rentals for each customer (display customer ID and count of rentals)\n",
        "Ans. sql\n",
        "\n",
        "SELECT customer_id,\n",
        "       COUNT(rental_id) AS rental_count\n",
        "FROM rental\n",
        "GROUP BY customer_id;"
      ],
      "metadata": {
        "id": "_2DLid982UEb"
      }
    },
    {
      "cell_type": "markdown",
      "source": [
        "6. Find the total revenue generated by each store\n",
        "Ans. sql\n",
        "\n",
        "SELECT store_id,\n",
        "       SUM(amount) AS total_revenue\n",
        "FROM payment\n",
        "JOIN customer ON payment.customer_id = customer.customer_id\n",
        "JOIN store ON customer.store_id = store.store_id\n",
        "GROUP BY store_id;"
      ],
      "metadata": {
        "id": "XXyyDKbo2Xd0"
      }
    },
    {
      "cell_type": "markdown",
      "source": [
        "7. Determine the total number of rentals for each category of movies\n",
        "Ans. sql\n",
        "\n",
        "SELECT category.name AS category_name,\n",
        "       COUNT(rental.rental_id) AS total_rentals\n",
        "FROM rental\n",
        "JOIN inventory ON rental.inventory_id = inventory.inventory_id\n",
        "JOIN film ON inventory.film_id = film.film_id\n",
        "JOIN film_category ON film.film_id = film_category.film_id\n",
        "JOIN category ON film_category.category_id = category.category_id\n",
        "GROUP BY category.name;"
      ],
      "metadata": {
        "id": "gT3qJ3Sn2hlX"
      }
    },
    {
      "cell_type": "markdown",
      "source": [
        "8. Find the average rental rate of movies in each language\n",
        "Ans. sql\n",
        "\n",
        "SELECT language.name AS language_name,\n",
        "       AVG(film.rental_rate) AS avg_rental_rate\n",
        "FROM film\n",
        "JOIN language ON film.language_id = language.language_id\n",
        "GROUP BY language.name;"
      ],
      "metadata": {
        "id": "gqOGXBCP2lbq"
      }
    },
    {
      "cell_type": "markdown",
      "source": [
        "9. Display the title of the movie, customer’s first name, and last name who rented it\n",
        "Ans. sql\n",
        "\n",
        "SELECT film.title, customer.first_name, customer.last_name\n",
        "FROM rental\n",
        "JOIN inventory ON rental.inventory_id = inventory.inventory_id\n",
        "JOIN film ON inventory.film_id = film.film_id\n",
        "JOIN customer ON rental.customer_id = customer.customer_id;"
      ],
      "metadata": {
        "id": "Q8zYXhdG2pO1"
      }
    },
    {
      "cell_type": "markdown",
      "source": [
        "10. Retrieve the names of all actors who have appeared in the film \"Gone with the Wind\"\n",
        "Ans. sql\n",
        "\n",
        "SELECT actor.first_name, actor.last_name\n",
        "FROM film\n",
        "JOIN film_actor ON film.film_id = film_actor.film_id\n",
        "JOIN actor ON film_actor.actor_id = actor.actor_id\n",
        "WHERE film.title = 'Gone with the Wind';"
      ],
      "metadata": {
        "id": "0gVxtDeb26SA"
      }
    },
    {
      "cell_type": "markdown",
      "source": [
        "11. Retrieve the customer names along with the total amount they've spent on rentals\n",
        "Ans. sql\n",
        "\n",
        "SELECT customer.first_name, customer.last_name, SUM(payment.amount) AS total_spent\n",
        "FROM customer\n",
        "JOIN payment ON customer.customer_id = payment.customer_id\n",
        "GROUP BY customer.customer_id;"
      ],
      "metadata": {
        "id": "eKmk1bLy3ARz"
      }
    },
    {
      "cell_type": "markdown",
      "source": [
        "12. List the titles of movies rented by each customer in a particular city (e.g., 'London')\n",
        "Ans. sql\n",
        "\n",
        "SELECT film.title, customer.first_name, customer.last_name, city.city\n",
        "FROM rental\n",
        "JOIN customer ON rental.customer_id = customer.customer_id\n",
        "JOIN address ON customer.address_id = address.address_id\n",
        "JOIN city ON address.city_id = city.city_id\n",
        "JOIN inventory ON rental.inventory_id = inventory.inventory_id\n",
        "JOIN film ON inventory.film_id = film.film_id\n",
        "WHERE city.city = 'London'\n",
        "GROUP BY film.title, customer.first_name, customer.last_name, city.city;"
      ],
      "metadata": {
        "id": "zhm_fIrH3FtG"
      }
    },
    {
      "cell_type": "markdown",
      "source": [
        "13. Display the top 5 rented movies along with the number of times they've been rented\n",
        "Ans.sql\n",
        "\n",
        "SELECT film.title, COUNT(rental.rental_id) AS rental_count\n",
        "FROM rental\n",
        "JOIN inventory ON rental.inventory_id = inventory.inventory_id\n",
        "JOIN film ON inventory.film_id = film.film_id\n",
        "GROUP BY film.film_id, film.title\n",
        "ORDER BY rental_count DESC\n",
        "LIMIT 5;"
      ],
      "metadata": {
        "id": "sPOBUqz13cFo"
      }
    },
    {
      "cell_type": "markdown",
      "source": [
        "14. Determine customers who have rented movies from both stores (store ID 1 and store ID 2)\n",
        "Ans. sql\n",
        "\n",
        "SELECT customer.customer_id, customer.first_name, customer.last_name\n",
        "FROM rental\n",
        "JOIN inventory ON rental.inventory_id = inventory.inventory_id\n",
        "JOIN customer ON rental.customer_id = customer.customer_id\n",
        "WHERE inventory.store_id IN (1, 2)\n",
        "GROUP BY customer.customer_id, customer.first_name, customer.last_name\n",
        "HAVING COUNT(DISTINCT inventory.store_id) = 2;"
      ],
      "metadata": {
        "id": "qEsYSbQK3eJE"
      }
    },
    {
      "cell_type": "markdown",
      "source": [
        "Windows Function:"
      ],
      "metadata": {
        "id": "FpnmBski3t5x"
      }
    },
    {
      "cell_type": "markdown",
      "source": [
        "1. Rank the customers based on the total amount they've spent on rentals\n",
        "Ans. sql\n",
        "\n",
        "SELECT customer_id, first_name, last_name, SUM(amount) AS total_spent,\n",
        "       RANK() OVER (ORDER BY SUM(amount) DESC) AS spending_rank\n",
        "FROM payment\n",
        "JOIN customer USING (customer_id)\n",
        "GROUP BY customer_id, first_name, last_name;"
      ],
      "metadata": {
        "id": "r8FCylnv3uzS"
      }
    },
    {
      "cell_type": "markdown",
      "source": [
        "2. Calculate the cumulative revenue generated by each film over time\n",
        "Ans. sql\n",
        "\n",
        "SELECT f.film_id, f.title, p.payment_date, SUM(p.amount)\n",
        "       OVER (PARTITION BY f.film_id ORDER BY p.payment_date) AS cumulative_revenue\n",
        "FROM rental r\n",
        "JOIN inventory i ON r.inventory_id = i.inventory_id\n",
        "JOIN film f ON i.film_id = f.film_id\n",
        "JOIN payment p ON r.rental_id = p.rental_id;"
      ],
      "metadata": {
        "id": "dMbvL10q31ic"
      }
    },
    {
      "cell_type": "markdown",
      "source": [
        "3. Determine the average rental duration for each film, considering films with similar lengths\n",
        "Ans. sql\n",
        "\n",
        "SELECT film_id, title, length, AVG(rental_duration)\n",
        "       OVER (PARTITION BY length) AS avg_rental_duration\n",
        "FROM film;"
      ],
      "metadata": {
        "id": "GAt9mBaJ35n3"
      }
    },
    {
      "cell_type": "markdown",
      "source": [
        "4. Identify the top 3 films in each category based on their rental counts\n",
        "Ans. sql\n",
        "\n",
        "SELECT fc.category_id, c.name AS category_name, f.title,\n",
        "       COUNT(r.rental_id) AS rental_count,\n",
        "       RANK() OVER (PARTITION BY fc.category_id ORDER BY COUNT(r.rental_id) DESC) AS rank_per_category\n",
        "FROM rental r\n",
        "JOIN inventory i ON r.inventory_id = i.inventory_id\n",
        "JOIN film f ON i.film_id = f.film_id\n",
        "JOIN film_category fc ON f.film_id = fc.film_id\n",
        "JOIN category c ON fc.category_id = c.category_id\n",
        "GROUP BY fc.category_id, c.name, f.film_id, f.title;"
      ],
      "metadata": {
        "id": "lMFxmeyY3-HS"
      }
    },
    {
      "cell_type": "markdown",
      "source": [
        "5. Calculate the difference in rental counts between each customer's total rentals and the average rentals across all customers\n",
        "Ans. sql\n",
        "\n",
        "SELECT customer_id, first_name, last_name,\n",
        "       COUNT(rental_id) AS total_rentals,\n",
        "       COUNT(rental_id) - AVG(COUNT(rental_id)) OVER () AS rental_diff\n",
        "FROM rental\n",
        "JOIN customer USING (customer_id)\n",
        "GROUP BY customer_id, first_name, last_name;"
      ],
      "metadata": {
        "id": "6tDlhnjs4G8l"
      }
    },
    {
      "cell_type": "markdown",
      "source": [
        "6. Find the monthly revenue trend for the entire rental store over time\n",
        "Ans. sql\n",
        "\n",
        "SELECT DATE_FORMAT(payment_date, '%Y-%m') AS month,\n",
        "       SUM(amount) AS total_revenue,\n",
        "       SUM(SUM(amount)) OVER (ORDER BY DATE_FORMAT(payment_date, '%Y-%m')) AS cumulative_revenue\n",
        "FROM payment\n",
        "GROUP BY month;"
      ],
      "metadata": {
        "id": "E5fm-Sg54M5U"
      }
    },
    {
      "cell_type": "markdown",
      "source": [
        "7. Identify the customers whose total spending on rentals falls within the top 20% of all customers\n",
        "Ans. sql\n",
        "\n",
        "WITH CustomerSpending AS (\n",
        "    SELECT customer_id, first_name, last_name, SUM(amount) AS total_spent,\n",
        "           PERCENT_RANK() OVER (ORDER BY SUM(amount) DESC) AS spending_percentile\n",
        "    FROM payment\n",
        "    JOIN customer USING (customer_id)\n",
        "    GROUP BY customer_id, first_name, last_name\n",
        ")\n",
        "SELECT customer_id, first_name, last_name, total_spent\n",
        "FROM CustomerSpending\n",
        "WHERE spending_percentile <= 0.20;"
      ],
      "metadata": {
        "id": "2hX3fsPb4Wt9"
      }
    },
    {
      "cell_type": "markdown",
      "source": [
        "8. Calculate the running total of rentals per category, ordered by rental count\n",
        "Ans. sql\n",
        "\n",
        "SELECT c.name AS category_name, COUNT(r.rental_id) AS rental_count,\n",
        "       SUM(COUNT(r.rental_id)) OVER (PARTITION BY c.category_id ORDER BY COUNT(r.rental_id) DESC) AS running_total\n",
        "FROM rental r\n",
        "JOIN inventory i ON r.inventory_id = i.inventory_id\n",
        "JOIN film f ON i.film_id = f.film_id\n",
        "JOIN film_category fc ON f.film_id = fc.film_id\n",
        "JOIN category c ON fc.category_id = c.category_id\n",
        "GROUP BY c.category_id, c.name;"
      ],
      "metadata": {
        "id": "8GJEDFmO4a2x"
      }
    },
    {
      "cell_type": "markdown",
      "source": [
        "9. Find the films that have been rented less than the average rental count for their respective categories\n",
        "Ans. sql\n",
        "\n",
        "WITH CategoryAverage AS (\n",
        "    SELECT fc.category_id, f.film_id, f.title, COUNT(r.rental_id) AS rental_count,\n",
        "           AVG(COUNT(r.rental_id)) OVER (PARTITION BY fc.category_id) AS avg_rental_count\n",
        "    FROM rental r\n",
        "    JOIN inventory i ON r.inventory_id = i.inventory_id\n",
        "    JOIN film f ON i.film_id = f.film_id\n",
        "    JOIN film_category fc ON f.film_id = fc.film_id\n",
        "    GROUP BY fc.category_id, f.film_id, f.title\n",
        ")\n",
        "SELECT film_id, title, rental_count, avg_rental_count\n",
        "FROM CategoryAverage\n",
        "WHERE rental_count < avg_rental_count;"
      ],
      "metadata": {
        "id": "MjIMu-zB4mKU"
      }
    },
    {
      "cell_type": "markdown",
      "source": [
        "10. Identify the top 5 months with the highest revenue and display the revenue generated in each month\n",
        "Ans. sql\n",
        "\n",
        "SELECT DATE_FORMAT(payment_date, '%Y-%m') AS month, SUM(amount) AS total_revenue\n",
        "FROM payment\n",
        "GROUP BY month\n",
        "ORDER BY total_revenue DESC\n",
        "LIMIT 5;"
      ],
      "metadata": {
        "id": "IN0wqEz74pnZ"
      }
    }
  ]
}