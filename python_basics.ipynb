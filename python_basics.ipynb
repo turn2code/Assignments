{
  "nbformat": 4,
  "nbformat_minor": 0,
  "metadata": {
    "colab": {
      "provenance": []
    },
    "kernelspec": {
      "name": "python3",
      "display_name": "Python 3"
    },
    "language_info": {
      "name": "python"
    }
  },
  "cells": [
    {
      "cell_type": "markdown",
      "source": [
        "Q1. Explain the key features of Python that make it a popular choice for Programming.\n",
        "Ans. Python is a dynamic, high-level, free open source, and interpreted programming language. It supports object-oriented programming as well as procedural-oriented programming. In Python, we don’t need to declare the type of variable because it is a dynamically typed language. For example, x = 10 Here, x can be anything such as String, int, etc.\n",
        "\n",
        "**Features In Python**\n",
        "\n",
        "1. Free and Open Source\n",
        "Python language is freely available at the official website Since it is open-source, this means that source code is also available to the public. So you can download it, use it as well as share it.\n",
        "\n",
        "2. Easy to code\n",
        "Python is a high-level programming language. Python is very easy to learn the language as compared to other languages like C, C#, Javascript, Java, etc. It is very easy to code in the Python language and anybody can learn Python basics in a few hours or days. It is also a developer-friendly language.\n",
        "\n",
        "3. Easy to Read\n",
        "As you will see, learning Python is quite simple. As was already established, Python’s syntax is really straightforward. The code block is defined by the indentations rather than by semicolons or brackets.\n",
        "\n",
        "4. Object-Oriented Language\n",
        "One of the key features of Python is Object-Oriented programming. Python supports object-oriented language and concepts of classes, object encapsulation, etc.\n",
        "\n",
        "5. GUI Programming Support\n",
        "Graphical User interfaces can be made using a module such as PyQt5, PyQt4, wxPython, or Tk in Python. PyQt5 is the most popular option for creating graphical apps with Python.\n",
        "\n",
        "6. High-Level Language\n",
        "Python is a high-level language. When we write programs in Python, we do not need to remember the system architecture, nor do we need to manage the memory.\n",
        "\n",
        "7. Large Community Support\n",
        "Python has gained popularity over the years. Our questions are constantly answered by the enormous StackOverflow community. These websites have already provided answers to many questions about Python, so Python users can consult them as needed.\n",
        "\n",
        "8. Easy to Debug\n",
        "Excellent information for mistake tracing. You will be able to quickly identify and correct the majority of your program’s issues once you understand how to interpret Python’s error traces. Simply by glancing at the code, you can determine what it is designed to perform.\n",
        "\n",
        "9. Python is a Portable language\n",
        "Python language is also a portable language. For example, if we have Python code for Windows and if we want to run this code on other platforms such as Linux, Unix, and Mac then we do not need to change it, we can run this code on any platform.\n",
        "\n",
        "10. Python is an Integrated language\n",
        "Python is also an Integrated language because we can easily integrate Python with other languages like C, C++, etc.\n",
        "\n",
        "11. Interpreted Language:\n",
        "Python is an Interpreted Language because Python code is executed line by line at a time. like other languages C, C++, Java, etc. there is no need to compile Python code this makes it easier to debug our code. The source code of Python is converted into an immediate form called bytecode.\n",
        "\n",
        "12. Large Standard Library\n",
        "Python has a large standard library that provides a rich set of modules and functions so you do not have to write your own code for every single thing. There are many libraries present in Python such as regular expressions, unit-testing, web browsers, etc.\n",
        "\n",
        "13. Dynamically Typed Language\n",
        "Python is a dynamically-typed language. That means the type (for example- int, double, long, etc.) for a variable is decided at run time not in advance because of this feature we don’t need to specify the type of variable.\n",
        "\n",
        "14. Frontend and backend development\n",
        "With a new project py script, you can run and write Python codes in HTML with the help of some simple tags <py-script>, <py-env>, etc. This will help you do frontend development work in Python like javascript. Backend is the strong forte of Python it’s extensively used for this work cause of its frameworks like Django and Flask.\n",
        "\n",
        "15. Allocating Memory Dynamically\n",
        "In Python, the variable data type does not need to be specified. The memory is automatically allocated to a variable at runtime when it is given a value. Developers do not need to write int y = 18 if the integer value 15 is set to y. You may just type y=18.\n",
        "\n",
        "\n"
      ],
      "metadata": {
        "id": "s_E8cY-f5tdd"
      }
    },
    {
      "cell_type": "markdown",
      "source": [
        "Q2. Describe the role of predefined keywords in Python and provide examples of how they are used in a program.\n",
        "Ans Python Keywords are some predefined and reserved words in Python that have special meanings. Keywords are used to define the syntax of the coding. The keyword cannot be used as an identifier, function, or variable name. All the keywords in Python are written in lowercase except True and False. There are 35 keywords in Python 3.11.\n",
        "\n",
        "In Python, there is an inbuilt keyword module that provides an iskeyword() function that can be used to check whether a given string is a valid keyword or not. we can check the name of the keywords in Python by using the kwlist attribute of the keyword module.\n",
        "\n",
        "**Rules for Keywords in Python**\n",
        "Python keywords cannot be used as identifiers.\n",
        "All the keywords in Python should be in lowercase except True and False\n"
      ],
      "metadata": {
        "id": "P7O7pmki5rk_"
      }
    },
    {
      "cell_type": "code",
      "source": [
        "print(\"example of True, False, and, or, not keywords\")\n",
        "\n",
        "#  compare two operands using and operator\n",
        "print(True and True)\n",
        "\n",
        "# compare two operands using or operator\n",
        "print(True or False)\n",
        "\n",
        "# use of not operator\n",
        "print(not False)\n"
      ],
      "metadata": {
        "colab": {
          "base_uri": "https://localhost:8080/"
        },
        "id": "6gLGQomr70qI",
        "outputId": "ebef6cc2-428a-43fc-f5bf-250363063bfa"
      },
      "execution_count": 1,
      "outputs": [
        {
          "output_type": "stream",
          "name": "stdout",
          "text": [
            "example of True, False, and, or, not keywords\n",
            "True\n",
            "True\n",
            "True\n"
          ]
        }
      ]
    },
    {
      "cell_type": "code",
      "source": [
        "# execute for loop\n",
        "for i in range(1, 11):\n",
        "\n",
        "    # print the value of i\n",
        "    print(i)\n",
        "\n",
        "    # check the value of i is less than 5\n",
        "    # if i lessthan 5 then continue loop\n",
        "    if i < 5:\n",
        "        continue\n",
        "\n",
        "    # if i greater than 5 then break loop\n",
        "    else:\n",
        "        break\n"
      ],
      "metadata": {
        "colab": {
          "base_uri": "https://localhost:8080/"
        },
        "id": "Gen8SZiC8Kaq",
        "outputId": "3fd9d402-282e-4827-daeb-0db0aa45c815"
      },
      "execution_count": 2,
      "outputs": [
        {
          "output_type": "stream",
          "name": "stdout",
          "text": [
            "1\n",
            "2\n",
            "3\n",
            "4\n",
            "5\n"
          ]
        }
      ]
    },
    {
      "cell_type": "markdown",
      "source": [
        "Q3. compare and contrast mutable and immutable objects in python with examples.\n",
        "Ans. In Python, Every variable in Python holds an instance of an object. There are two types of objects in Python i.e. Mutable and Immutable objects. Whenever an object is instantiated, it is assigned a unique object id. The type of the object is defined at the runtime and it can’t be changed afterward. However, its state can be changed if it is a mutable object.\n",
        "\n",
        "Mutable and Immutable Objects in Python\n",
        "Let us see what are Python’s Mutable vs Immutable Types in Python.\n",
        "\n",
        "Immutable Objects in Python\n",
        "Immutable Objects are of in-built datatypes like int, float, bool, string, Unicode, and tuple. In simple words, an immutable object can’t be changed after it is created.\n",
        "\n",
        "Example 1: In this example, we will take a tuple and try to modify its value at a particular index and print it. As a tuple is an immutable object, it will throw an error when we try to modify it."
      ],
      "metadata": {
        "id": "4UBCGqv_8yMF"
      }
    },
    {
      "cell_type": "code",
      "source": [
        "# Python code to test that\n",
        "# tuples are immutable\n",
        "\n",
        "tuple1 = (0, 1, 2, 3)\n",
        "tuple1[0] = 4\n",
        "print(tuple1)\n"
      ],
      "metadata": {
        "colab": {
          "base_uri": "https://localhost:8080/",
          "height": 193
        },
        "id": "7TSERnUh9OXb",
        "outputId": "315738d6-1458-4011-d98f-2f7cfc4e5a62"
      },
      "execution_count": 3,
      "outputs": [
        {
          "output_type": "error",
          "ename": "TypeError",
          "evalue": "'tuple' object does not support item assignment",
          "traceback": [
            "\u001b[0;31m---------------------------------------------------------------------------\u001b[0m",
            "\u001b[0;31mTypeError\u001b[0m                                 Traceback (most recent call last)",
            "\u001b[0;32m<ipython-input-3-fb6adb2ea50b>\u001b[0m in \u001b[0;36m<cell line: 5>\u001b[0;34m()\u001b[0m\n\u001b[1;32m      3\u001b[0m \u001b[0;34m\u001b[0m\u001b[0m\n\u001b[1;32m      4\u001b[0m \u001b[0mtuple1\u001b[0m \u001b[0;34m=\u001b[0m \u001b[0;34m(\u001b[0m\u001b[0;36m0\u001b[0m\u001b[0;34m,\u001b[0m \u001b[0;36m1\u001b[0m\u001b[0;34m,\u001b[0m \u001b[0;36m2\u001b[0m\u001b[0;34m,\u001b[0m \u001b[0;36m3\u001b[0m\u001b[0;34m)\u001b[0m\u001b[0;34m\u001b[0m\u001b[0;34m\u001b[0m\u001b[0m\n\u001b[0;32m----> 5\u001b[0;31m \u001b[0mtuple1\u001b[0m\u001b[0;34m[\u001b[0m\u001b[0;36m0\u001b[0m\u001b[0;34m]\u001b[0m \u001b[0;34m=\u001b[0m \u001b[0;36m4\u001b[0m\u001b[0;34m\u001b[0m\u001b[0;34m\u001b[0m\u001b[0m\n\u001b[0m\u001b[1;32m      6\u001b[0m \u001b[0mprint\u001b[0m\u001b[0;34m(\u001b[0m\u001b[0mtuple1\u001b[0m\u001b[0;34m)\u001b[0m\u001b[0;34m\u001b[0m\u001b[0;34m\u001b[0m\u001b[0m\n",
            "\u001b[0;31mTypeError\u001b[0m: 'tuple' object does not support item assignment"
          ]
        }
      ]
    },
    {
      "cell_type": "markdown",
      "source": [
        "Mutable Objects in Python\n",
        "Mutable Objects are of type Python list, Python dict, or Python set. Custom classes are generally mutable.\n",
        "\n",
        "Are Lists Mutable in Python?\n",
        "Yes, Lists are mutable in Python. We can add or remove elements from the list. In Python, mutability refers to the capability of an object to be changed or modified after its creation.\n",
        "\n",
        "In Python, lists are a widely used data structure that allows the storage and manipulation of a collection of items. One of the key characteristics of lists is their mutability, which refers to the ability to modify the list after it has been created.\n",
        "\n",
        "Example 1: Add and Remove items from a list in Python\n",
        "\n",
        "In this example, we will take a Python List object and try to modify its value using the index. A list in Python is mutable, that is, it allows us to change its value once it is created. Lists have the ability to add and remove elements dynamically. Lists provide methods such as append(),insert(),extend(),remove() and pop()."
      ],
      "metadata": {
        "id": "xoYiWRum9iD1"
      }
    },
    {
      "cell_type": "code",
      "source": [
        "my_list = [1, 2, 3]\n",
        "my_list.append(4)\n",
        "print(my_list)\n",
        "\n",
        "my_list.insert(1, 5)\n",
        "print(my_list)\n",
        "\n",
        "my_list.remove(2)\n",
        "print(my_list)\n",
        "\n",
        "popped_element = my_list.pop(0)\n",
        "print(my_list)\n",
        "print(popped_element)\n"
      ],
      "metadata": {
        "colab": {
          "base_uri": "https://localhost:8080/"
        },
        "id": "gDPkQzlG9mGo",
        "outputId": "939314c9-1efd-40a4-af3e-8f9de0999b93"
      },
      "execution_count": 4,
      "outputs": [
        {
          "output_type": "stream",
          "name": "stdout",
          "text": [
            "[1, 2, 3, 4]\n",
            "[1, 5, 2, 3, 4]\n",
            "[1, 5, 3, 4]\n",
            "[5, 3, 4]\n",
            "1\n"
          ]
        }
      ]
    },
    {
      "cell_type": "markdown",
      "source": [
        "Q4. Discuss the different types of operators in Python and provide examples of how they are used.\n",
        "Ans In Python programming, Operators in general are used to perform operations on values and variables. These are standard symbols used for logical and arithmetic operations. In this article, we will look into different types of Python operators.\n",
        "\n",
        "OPERATORS: These are the special symbols. Eg- + , * , /, etc.\n",
        "OPERAND: It is the value on which the operator is applied.\n",
        "Arithmetic Operators in Python\n",
        "Python Arithmetic operators are used to perform basic mathematical operations like addition, subtraction, multiplication, and division.\n",
        "Example of Arithmetic Operators in Python\n",
        "Division Operators\n",
        "In Python programming language Division Operators allow you to divide two numbers and return a quotient, i.e., the first number or number at the left is divided by the second number or number at the right and returns the quotient.\n",
        "\n",
        "There are two types of division operators:\n",
        "\n",
        "Float division\n",
        "Floor division\n",
        "Float division\n",
        "The quotient returned by this operator is always a float number, no matter if two numbers are integers. For example:\n",
        "\n",
        "Example: The code performs division operations and prints the results. It demonstrates that both integer and floating-point divisions return accurate results. For example, ’10/2′ results in ‘5.0’, and ‘-10/2’ results in ‘-5.0’.\n",
        "\n"
      ],
      "metadata": {
        "id": "PZwYZzoP9sHM"
      }
    },
    {
      "cell_type": "code",
      "source": [
        "print(5/5)\n",
        "print(10/2)\n",
        "print(-10/2)\n",
        "print(20.0/2)"
      ],
      "metadata": {
        "id": "ZHQTwRRQ-YRe"
      },
      "execution_count": null,
      "outputs": []
    },
    {
      "cell_type": "markdown",
      "source": [
        "Precedence of Arithmetic Operators in Python\n",
        "The precedence of Arithmetic Operators in Python is as follows:\n",
        "\n",
        "P  Parentheses\n",
        "E  Exponentiation\n",
        "M  Multiplication (Multiplication and division have the same precedence)\n",
        "D  Division\n",
        "A  Addition (Addition and subtraction have the same precedence)\n",
        "S  Subtraction\n",
        "The modulus of Python operators helps us extract the last digit/s of a number. For example:\n",
        "\n",
        "x % 10 -> yields the last digit\n",
        "x % 100 -> yield last two digits"
      ],
      "metadata": {
        "id": "Nk0lLLLI-dwi"
      }
    },
    {
      "cell_type": "code",
      "source": [
        "a = 9\n",
        "b = 4\n",
        "add = a + b\n",
        "\n",
        "sub = a - b\n",
        "\n",
        "mul = a * b\n",
        "\n",
        "mod = a % b\n",
        "\n",
        "p = a ** b\n",
        "print(add)\n",
        "print(sub)\n",
        "print(mul)\n",
        "print(mod)\n",
        "print(p)"
      ],
      "metadata": {
        "id": "H9xCx_j3-0LR"
      },
      "execution_count": null,
      "outputs": []
    },
    {
      "cell_type": "markdown",
      "source": [
        "Comparison of Python Operators\n",
        "In Python Comparison of Relational operators compares the values. It either returns True or False according to the condition.\n",
        "= is an assignment operator and == comparison operator.\n",
        "\n",
        "Precedence of Comparison Operators in Python\n",
        "In Python, the comparison operators have lower precedence than the arithmetic operators. All the operators within comparison operators have the same precedence order.\n",
        "\n",
        "Example of Comparison Operators in Python\n",
        "Let’s see an example of Comparison Operators in Python.\n",
        "\n",
        "Example: The code compares the values of ‘a’ and ‘b’ using various comparison Python operators and prints the results. It checks if ‘a’ is greater than, less than, equal to, not equal to, greater than, or equal to, and less than or equal to ‘b’."
      ],
      "metadata": {
        "id": "sAdwVjta-5Zx"
      }
    },
    {
      "cell_type": "code",
      "source": [
        "a = 13\n",
        "b = 33\n",
        "\n",
        "print(a > b)\n",
        "print(a < b)\n",
        "print(a == b)\n",
        "print(a != b)\n",
        "print(a >= b)\n",
        "print(a <= b)"
      ],
      "metadata": {
        "id": "FOcPPRH6_I5z"
      },
      "execution_count": null,
      "outputs": []
    },
    {
      "cell_type": "markdown",
      "source": [
        "Logical Operators in Python\n",
        "Python Logical operators perform Logical AND, Logical OR, and Logical NOT operations. It is used to combine conditional statements.\n",
        "Precedence of Logical Operators in Python\n",
        "The precedence of Logical Operators in Python is as follows:\n",
        "\n",
        "Logical not\n",
        "logical and\n",
        "logical or\n",
        "Example of Logical Operators in Python\n",
        "The following code shows how to implement Logical Operators in Python:\n",
        "\n",
        "Example: The code performs logical operations with Boolean values. It checks if both ‘a’ and ‘b’ are true (‘and’), if at least one of them is true (‘or’), and negates the value of ‘a’ using ‘not’. The results are printed accordingly.\n"
      ],
      "metadata": {
        "id": "HdWTzrZC_KAX"
      }
    },
    {
      "cell_type": "code",
      "source": [
        "a = True\n",
        "b = False\n",
        "print(a and b)\n",
        "print(a or b)\n",
        "print(not a)"
      ],
      "metadata": {
        "id": "JL3jHfhi_Q2j"
      },
      "execution_count": null,
      "outputs": []
    },
    {
      "cell_type": "markdown",
      "source": [
        "\n",
        "Bitwise Operators in Python\n",
        "Python Bitwise operators act on bits and perform bit-by-bit operations. These are used to operate on binary numbers.\n",
        "\n",
        "Precedence of Bitwise Operators in Python\n",
        "The precedence of Bitwise Operators in Python is as follows:\n",
        "\n",
        "Bitwise NOT\n",
        "Bitwise Shift\n",
        "Bitwise AND\n",
        "Bitwise XOR\n",
        "Bitwise OR\n",
        "Bitwise Operators in Python\n",
        "Here is an example showing how Bitwise Operators in Python work:\n",
        "\n",
        "Example: The code demonstrates various bitwise operations with the values of ‘a’ and ‘b’. It performs bitwise AND (&), OR (|), NOT (~), XOR (^), right shift (>>), and left shift (<<) operations and prints the results. These operations manipulate the binary representations of the numbers.\n"
      ],
      "metadata": {
        "id": "d1dRHy6u_Ue7"
      }
    },
    {
      "cell_type": "code",
      "source": [
        "a = 10\n",
        "b = 4\n",
        "print(a & b)\n",
        "print(a | b)\n",
        "print(~a)\n",
        "print(a ^ b)\n",
        "print(a >> 2)\n",
        "print(a << 2)"
      ],
      "metadata": {
        "id": "whMGulmi_gHr"
      },
      "execution_count": null,
      "outputs": []
    },
    {
      "cell_type": "markdown",
      "source": [
        "Assignment Operators in Python\n",
        "Python Assignment operators are used to assign values to the variables.\n",
        "\n",
        "Assignment Operators in Python\n",
        "Let’s see an example of Assignment Operators in Python.\n",
        "\n",
        "Example: The code starts with ‘a’ and ‘b’ both having the value 10. It then performs a series of operations: addition, subtraction, multiplication, and a left shift operation on ‘b’. The results of each operation are printed, showing the impact of these operations on the value of ‘b’.\n"
      ],
      "metadata": {
        "id": "Hz8X_Qv6_jLu"
      }
    },
    {
      "cell_type": "code",
      "source": [
        "a = 10\n",
        "b = a\n",
        "print(b)\n",
        "b += a\n",
        "print(b)\n",
        "b -= a\n",
        "print(b)\n",
        "b *= a\n",
        "print(b)\n",
        "b <<= a\n",
        "print(b)"
      ],
      "metadata": {
        "id": "5TjHpxBL_tIh"
      },
      "execution_count": null,
      "outputs": []
    },
    {
      "cell_type": "markdown",
      "source": [
        "Identity Operators in Python\n",
        "In Python, is and is not are the identity operators both are used to check if two values are located on the same part of the memory. Two variables that are equal do not imply that they are identical.\n",
        "Example Identity Operators in Python\n",
        "Let’s see an example of Identity Operators in Python.\n",
        "\n",
        "Example: The code uses identity operators to compare variables in Python. It checks if ‘a’ is not the same object as ‘b’ (which is true because they have different values) and if ‘a’ is the same object as ‘c’ (which is true because ‘c’ was assigned the value of ‘a’)."
      ],
      "metadata": {
        "id": "qN9WCrxQ_uIm"
      }
    },
    {
      "cell_type": "code",
      "source": [
        "a = 10\n",
        "b = 20\n",
        "c = a\n",
        "\n",
        "print(a is not b)\n",
        "print(a is c)"
      ],
      "metadata": {
        "id": "8MEZaNdp_3l_"
      },
      "execution_count": null,
      "outputs": []
    },
    {
      "cell_type": "markdown",
      "source": [
        "Membership Operators in Python\n",
        "In Python, in and not in are the membership operators that are used to test whether a value or variable is in a sequence.\n",
        "\n",
        "in            True if value is found in the sequence\n",
        "not in        True if value is not found in the sequence\n",
        "\n",
        "Examples of Membership Operators in Python\n",
        "The following code shows how to implement Membership Operators in Python:\n",
        "\n",
        "Example: The code checks for the presence of values ‘x’ and ‘y’ in the list. It prints whether or not each value is present in the list. ‘x’ is not in the list, and ‘y’ is present, as indicated by the printed messages. The code uses the ‘in’ and ‘not in’ Python operators to perform these checks.\n"
      ],
      "metadata": {
        "id": "xe6Yj_d7_4vk"
      }
    },
    {
      "cell_type": "code",
      "source": [
        "x = 24\n",
        "y = 20\n",
        "list = [10, 20, 30, 40, 50]\n",
        "\n",
        "if (x not in list):\n",
        "    print(\"x is NOT present in given list\")\n",
        "else:\n",
        "    print(\"x is present in given list\")\n",
        "\n",
        "if (y in list):\n",
        "    print(\"y is present in given list\")\n",
        "else:\n",
        "    print(\"y is NOT present in given list\")"
      ],
      "metadata": {
        "id": "b_kbB7SgACme"
      },
      "execution_count": null,
      "outputs": []
    },
    {
      "cell_type": "markdown",
      "source": [
        "Ternary Operator in Python\n",
        "in Python, Ternary operators also known as conditional expressions are operators that evaluate something based on a condition being true or false. It was added to Python in version 2.5.\n",
        "\n",
        "It simply allows testing a condition in a single line replacing the multiline if-else making the code compact.\n",
        "\n",
        "Syntax :  [on_true] if [expression] else [on_false]\n",
        "\n",
        "\n",
        "\n",
        "Examples of Ternary Operator in Python\n",
        "The code assigns values to variables ‘a’ and ‘b’ (10 and 20, respectively). It then uses a conditional assignment to determine the smaller of the two values and assigns it to the variable ‘min’. Finally, it prints the value of ‘min’, which is 10 in this case."
      ],
      "metadata": {
        "id": "cOCc5qGIAIXe"
      }
    },
    {
      "cell_type": "code",
      "source": [
        "a, b = 10, 20\n",
        "min = a if a < b else b\n",
        "\n",
        "print(min)"
      ],
      "metadata": {
        "id": "nWMPbjnRAJU2"
      },
      "execution_count": null,
      "outputs": []
    },
    {
      "cell_type": "markdown",
      "source": [
        "Q5. explain the concept of type casting in Python with examples.\n",
        "Ans. Type Casting in Python (Implicit and Explicit) with Examples\n",
        "Last Updated : 07 Aug, 2024\n",
        "Type Casting is the method to convert the Python variable datatype into a certain data type in order to perform the required operation by users. In this article, we will see the various techniques for typecasting. There can be two types of Type Casting in Python:\n",
        "\n",
        "Python Implicit Type Conversion\n",
        "Python Explicit Type Conversion\n",
        "Implicit Type Conversion in Python\n",
        "In this, method, Python converts the datatype into another datatype automatically. Users don’t have to involve in this process."
      ],
      "metadata": {
        "id": "PABIbozOASOm"
      }
    },
    {
      "cell_type": "code",
      "source": [
        "# Python program to demonstrate\n",
        "# implicit type Casting\n",
        "\n",
        "# Python automatically converts\n",
        "# a to int\n",
        "a = 7\n",
        "print(type(a))\n",
        "\n",
        "# Python automatically converts\n",
        "# b to float\n",
        "b = 3.0\n",
        "print(type(b))\n",
        "\n",
        "# Python automatically converts\n",
        "# c to float as it is a float addition\n",
        "c = a + b\n",
        "print(c)\n",
        "print(type(c))\n",
        "\n",
        "# Python automatically converts\n",
        "# d to float as it is a float multiplication\n",
        "d = a * b\n",
        "print(d)\n",
        "print(type(d))\n"
      ],
      "metadata": {
        "id": "fS9ibW24Aq4U"
      },
      "execution_count": null,
      "outputs": []
    },
    {
      "cell_type": "markdown",
      "source": [
        "Explicit Type Conversion in Python\n",
        "In this method, Python needs user involvement to convert the variable data type into the required data type.\n",
        "\n",
        "Examples of Type Casting in Python\n",
        "Mainly type casting can be done with these data type functions:\n",
        "\n",
        "Int(): Python Int() function take float or string as an argument and returns int type object.\n",
        "float(): Python float() function take int or string as an argument and return float type object.\n",
        "str(): Python str() function takes float or int as an argument and returns string type object.\n",
        "Python Convert Int to Float\n",
        "Here, we are Converting Int to Float in Python with the float() function."
      ],
      "metadata": {
        "id": "lZxSg_y9Ar6K"
      }
    },
    {
      "cell_type": "code",
      "source": [
        "# Python program to demonstrate\n",
        "# type Casting\n",
        "\n",
        "# int variable\n",
        "a = 5\n",
        "\n",
        "# typecast to float\n",
        "n = float(a)\n",
        "\n",
        "print(n)\n",
        "print(type(n))\n"
      ],
      "metadata": {
        "id": "ijSLLUTwAvUp"
      },
      "execution_count": null,
      "outputs": []
    },
    {
      "cell_type": "markdown",
      "source": [
        "Python Convert Float to Int\n",
        "Here, we are Converting Float to int datatype in Python with int() function."
      ],
      "metadata": {
        "id": "DzyEyV5mAy4t"
      }
    },
    {
      "cell_type": "code",
      "source": [
        "# Python program to demonstrate\n",
        "# type Casting\n",
        "\n",
        "# int variable\n",
        "a = 5.9\n",
        "\n",
        "# typecast to int\n",
        "n = int(a)\n",
        "\n",
        "print(n)\n",
        "print(type(n))\n"
      ],
      "metadata": {
        "id": "Wj8Luwa4A2Ch"
      },
      "execution_count": null,
      "outputs": []
    },
    {
      "cell_type": "markdown",
      "source": [
        "Python Convert int to String\n",
        "Here, we are Converting int to String datatype in Python with str() function."
      ],
      "metadata": {
        "id": "jQTY-EQIA4dM"
      }
    },
    {
      "cell_type": "code",
      "source": [
        "# Python program to demonstrate\n",
        "# type Casting\n",
        "\n",
        "# int variable\n",
        "a = 5\n",
        "\n",
        "# typecast to str\n",
        "n = str(a)\n",
        "\n",
        "print(n)\n",
        "print(type(n))\n"
      ],
      "metadata": {
        "id": "qsPFxae-A7Zf"
      },
      "execution_count": null,
      "outputs": []
    },
    {
      "cell_type": "markdown",
      "source": [
        "Python Convert String to float\n",
        "Here, we are casting string data type into float data type with float() function."
      ],
      "metadata": {
        "id": "FFs5R8ftBAYs"
      }
    },
    {
      "cell_type": "code",
      "source": [
        "# Python program to demonstrate\n",
        "# type Casting\n",
        "\n",
        "# string variable\n",
        "a = \"5.9\"\n",
        "\n",
        "# typecast to float\n",
        "n = float(a)\n",
        "\n",
        "print(n)\n",
        "print(type(n))\n"
      ],
      "metadata": {
        "id": "o5nkCNPpBC1W"
      },
      "execution_count": null,
      "outputs": []
    },
    {
      "cell_type": "markdown",
      "source": [
        "Q6. How do conditional statements work in Python? Illustrate with examples.\n",
        "Ans Conditional Statements are statements in Python that provide a choice for the control flow based on a condition. It means that the control flow of the Python program will be decided based on the outcome of the condition. Now let us see how Conditional Statements are implemented in Python.\n",
        "1. If Conditional Statement in Python\n",
        "If the simple code of block is to be performed if the condition holds then the if statement is used. Here the condition mentioned holds then the code of the block runs otherwise not.\n",
        "\n",
        "Syntax of If Statement:\n",
        "\n",
        "if condition:\n",
        "    # Statements to execute if\n",
        "    # condition is true"
      ],
      "metadata": {
        "id": "G8uEBEGzBkMa"
      }
    },
    {
      "cell_type": "code",
      "source": [
        "# if statement example\n",
        "if 10 > 5:\n",
        "    print(\"10 greater than 5\")\n",
        "\n",
        "print(\"Program ended\")"
      ],
      "metadata": {
        "id": "ujxuaaENB0re"
      },
      "execution_count": null,
      "outputs": []
    },
    {
      "cell_type": "markdown",
      "source": [
        "2. If else Conditional Statements in Python\n",
        "In a conditional if Statement the additional block of code is merged as an else statement which is performed when if condition is false.\n",
        "\n",
        "Syntax of Python If-Else:\n",
        "\n",
        "if (condition):\n",
        "    # Executes this block if\n",
        "    # condition is true\n",
        "else:\n",
        "    # Executes this block if\n",
        "    # condition is false"
      ],
      "metadata": {
        "id": "WlQW2Qr6B1bP"
      }
    },
    {
      "cell_type": "code",
      "source": [
        "# if..else statement example\n",
        "x = 3\n",
        "if x == 4:\n",
        "    print(\"Yes\")\n",
        "else:\n",
        "    print(\"No\")\n"
      ],
      "metadata": {
        "id": "ejxMDAKSB4_W"
      },
      "execution_count": null,
      "outputs": []
    },
    {
      "cell_type": "markdown",
      "source": [
        "3. Nested if..else Conditional Statements in Python\n",
        "Nested if..else means an if-else statement inside another if statement. Or in simple words first, there is an outer if statement, and inside it another if – else statement is present and such type of statement is known as nested if statement. We can use one if or else if statement inside another if or else if statements."
      ],
      "metadata": {
        "id": "wlRaik84B7ne"
      }
    },
    {
      "cell_type": "code",
      "source": [
        "# if..else chain statement\n",
        "letter = \"A\"\n",
        "\n",
        "if letter == \"B\":\n",
        "    print(\"letter is B\")\n",
        "\n",
        "else:\n",
        "\n",
        "    if letter == \"C\":\n",
        "        print(\"letter is C\")\n",
        "\n",
        "    else:\n",
        "\n",
        "        if letter == \"A\":\n",
        "            print(\"letter is A\")\n",
        "\n",
        "        else:\n",
        "            print(\"letter isn't A, B and C\")\n"
      ],
      "metadata": {
        "id": "G9ZrUHZ2B-zh"
      },
      "execution_count": null,
      "outputs": []
    },
    {
      "cell_type": "markdown",
      "source": [
        "4. If-elif-else Conditional Statements in Python\n",
        "The if statements are executed from the top down. As soon as one of the conditions controlling the if is true, the statement associated with that if is executed, and the rest of the ladder is bypassed. If none of the conditions is true, then the final “else” statement will be executed."
      ],
      "metadata": {
        "id": "LnVW86RfCBxH"
      }
    },
    {
      "cell_type": "code",
      "source": [
        "# if-elif statement example\n",
        "letter = \"A\"\n",
        "\n",
        "if letter == \"B\":\n",
        "    print(\"letter is B\")\n",
        "\n",
        "elif letter == \"C\":\n",
        "    print(\"letter is C\")\n",
        "\n",
        "elif letter == \"A\":\n",
        "    print(\"letter is A\")\n",
        "\n",
        "else:\n",
        "    print(\"letter isn't A, B or C\")\n"
      ],
      "metadata": {
        "id": "ligd1aKwCAoM"
      },
      "execution_count": null,
      "outputs": []
    },
    {
      "cell_type": "markdown",
      "source": [
        "5. Ternary Expression Conditional Statements in Python\n",
        "The Python ternary Expression determines if a condition is true or false and then returns the appropriate value in accordance with the result. The ternary Expression is useful in cases where we need to assign a value to a variable based on a simple condition, and we want to keep our code more concise — all in just one line of code.\n",
        "\n",
        "Syntax of Ternary Expression\n",
        "Syntax: [on_true] if [expression] else [on_false]\n",
        "expression: conditional_expression | lambda_expr"
      ],
      "metadata": {
        "id": "673mh6lLCHjs"
      }
    },
    {
      "cell_type": "code",
      "source": [
        "# Python program to demonstrate nested ternary operator\n",
        "a, b = 10, 20\n",
        "\n",
        "print(\"Both a and b are equal\" if a == b else \"a is greater than b\"\n",
        "        if a > b else \"b is greater than a\")"
      ],
      "metadata": {
        "id": "F5JbBr-ACKT-"
      },
      "execution_count": null,
      "outputs": []
    },
    {
      "cell_type": "markdown",
      "source": [
        "Q7.Describe the different types of loops in Python and their use cases with examples\n",
        "Ans.Python programming language provides two types of Python loopshecking time. In this article, we will look at Python loops and understand their working with the help of examp – For loop and While loop to handle looping requirements. Loops in Python provides three ways for executing the loops.\n",
        "\n",
        "While all the ways provide similar basic functionality, they differ in their syntax and condition-checking time. In this article, we will look at Python loops and understand their working with the help of examples.\n",
        "\n",
        "While Loop in Python\n",
        "In Python, a while loop is used to execute a block of statements repeatedly until a given condition is satisfied. When the condition becomes false, the line immediately after the loop in the program is executed.\n",
        "\n",
        "Python While Loop Syntax:\n",
        "while expression:\n",
        "    statement(s)"
      ],
      "metadata": {
        "id": "4NeWPqO2COVr"
      }
    },
    {
      "cell_type": "code",
      "source": [
        "count = 0\n",
        "while (count < 3):\n",
        "    count = count + 1\n",
        "    print(\"Hello TurnToCode\")"
      ],
      "metadata": {
        "id": "wZFMaVvQCjSj"
      },
      "execution_count": null,
      "outputs": []
    },
    {
      "cell_type": "markdown",
      "source": [
        "Using else statement with While Loop in Python\n",
        "The else clause is only executed when your while condition becomes false. If you break out of the loop, or if an exception is raised, it won’t be executed.\n",
        "\n",
        "Syntax of While Loop with else statement:\n",
        "while condition:\n",
        "     # execute these statements\n",
        "else:\n",
        "     # execute these statements"
      ],
      "metadata": {
        "id": "FRYtWpG0Cobb"
      }
    },
    {
      "cell_type": "code",
      "source": [
        "count = 0\n",
        "while (count < 3):\n",
        "    count = count + 1\n",
        "    print(\"Hello TurnToCode\")\n",
        "else:\n",
        "    print(\"In Else Block\")"
      ],
      "metadata": {
        "id": "lh97CEAjCswr"
      },
      "execution_count": null,
      "outputs": []
    },
    {
      "cell_type": "markdown",
      "source": [
        "Infinite While Loop in Python\n",
        "If we want a block of code to execute infinite number of time, we can use the while loop in Python to do so.\n",
        "\n",
        "The code uses a ‘while' loop with the condition (count == 0). This loop will only run as long as count is equal to 0. Since count is initially set to 0, the loop will execute indefinitely because the condition is always true."
      ],
      "metadata": {
        "id": "KgC2mKwLC1Gj"
      }
    },
    {
      "cell_type": "code",
      "source": [
        "count = 0\n",
        "while (count == 0):\n",
        "    print(\"Hello TurnToCode\")"
      ],
      "metadata": {
        "id": "vQm996XvC4Ux"
      },
      "execution_count": null,
      "outputs": []
    },
    {
      "cell_type": "markdown",
      "source": [
        "For Loop in Python\n",
        "For loops are used for sequential traversal. For example: traversing a list or string or array etc. In Python, there is “for in” loop which is similar to foreach loop in other languages. Let us learn how to use for loops in Python for sequential traversals with examples.\n",
        "\n",
        "For Loop Syntax:\n",
        "\n",
        "for iterator_var in sequence:\n",
        "    statements(s)"
      ],
      "metadata": {
        "id": "xh6YnjuaC9Ek"
      }
    },
    {
      "cell_type": "code",
      "source": [
        "n = 4\n",
        "for i in range(0, n):\n",
        "    print(i)"
      ],
      "metadata": {
        "id": "QIgHdICmDELW"
      },
      "execution_count": null,
      "outputs": []
    },
    {
      "cell_type": "markdown",
      "source": [
        "Nested Loops in Python\n",
        "Python programming language allows to use one loop inside another loop which is called nested loop. Following section shows few examples to illustrate the concept.\n",
        "\n",
        "Nested Loops Syntax:\n",
        "\n",
        "for iterator_var in sequence:\n",
        "   for iterator_var in sequence:\n",
        "       statements(s)\n",
        "   statements(s)\n",
        "The syntax for a nested while loop statement in the Python programming language is as follows:\n",
        "\n",
        "while expression:\n",
        "   while expression:\n",
        "       statement(s)\n",
        "   statement(s)"
      ],
      "metadata": {
        "id": "rAciOucYDxIM"
      }
    },
    {
      "cell_type": "code",
      "source": [
        "from __future__ import print_function\n",
        "for i in range(1, 5):\n",
        "    for j in range(i):\n",
        "        print(i, end=' ')\n",
        "    print()"
      ],
      "metadata": {
        "id": "ep_K82IEDySM"
      },
      "execution_count": null,
      "outputs": []
    },
    {
      "cell_type": "markdown",
      "source": [
        "Loop Control Statements\n",
        "Loop control statements change execution from their normal sequence. When execution leaves a scope, all automatic objects that were created in that scope are destroyed. Python supports the following control statements.\n",
        "\n",
        "Continue Statement\n",
        "The continue statement in Python returns the control to the beginning of the loop."
      ],
      "metadata": {
        "id": "o0-PmrW8D3fI"
      }
    },
    {
      "cell_type": "code",
      "source": [
        "for letter in 'TurnToCode':\n",
        "    if letter == 'n' or letter == 'e':\n",
        "        continue\n",
        "    print('Current Letter :', letter)"
      ],
      "metadata": {
        "id": "SJVTIbQHEGK2"
      },
      "execution_count": null,
      "outputs": []
    },
    {
      "cell_type": "markdown",
      "source": [
        "Break Statement\n",
        "The break statement in Python brings control out of the loop."
      ],
      "metadata": {
        "id": "HUxARRUFEUCs"
      }
    },
    {
      "cell_type": "code",
      "source": [
        "for letter in 'Turntocode':\n",
        "    if letter == 'n' or letter == 'e':\n",
        "        break\n",
        "\n",
        "print('Current Letter :', letter)"
      ],
      "metadata": {
        "id": "I9pKlJibEUzi"
      },
      "execution_count": null,
      "outputs": []
    },
    {
      "cell_type": "markdown",
      "source": [
        "Pass Statement\n",
        "We use pass statement in Python to write empty loops. Pass is also used for empty control statements, functions and classes."
      ],
      "metadata": {
        "id": "HQpPraRbEdJO"
      }
    },
    {
      "cell_type": "code",
      "source": [
        "for letter in 'turntocode':\n",
        "    pass\n",
        "print('Last Letter :', letter)"
      ],
      "metadata": {
        "id": "BlHKU26-EnYH"
      },
      "execution_count": null,
      "outputs": []
    }
  ]
}